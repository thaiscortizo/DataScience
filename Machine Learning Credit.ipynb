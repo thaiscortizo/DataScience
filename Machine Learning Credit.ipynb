{
 "cells": [
  {
   "cell_type": "markdown",
   "id": "treated-encounter",
   "metadata": {},
   "source": [
    "# Etapas de um Modelo de Machine Learning"
   ]
  },
  {
   "cell_type": "markdown",
   "id": "cardiac-particle",
   "metadata": {},
   "source": [
    "## Disciplina: Introdução à Ciência de Dados"
   ]
  },
  {
   "cell_type": "markdown",
   "id": "driving-bridge",
   "metadata": {},
   "source": [
    "## 1. Definição do Problema"
   ]
  },
  {
   "cell_type": "markdown",
   "id": "searching-fields",
   "metadata": {},
   "source": [
    "### Descrição do Problema"
   ]
  },
  {
   "cell_type": "markdown",
   "id": "otherwise-amount",
   "metadata": {},
   "source": [
    "- Qual é a descrição informal do problema?\n",
    "- Qual é a descrição formal do problema?\n",
    "- Que premissas ou hipóteses você tem sobre o problema?"
   ]
  },
  {
   "cell_type": "markdown",
   "id": "elder-couple",
   "metadata": {},
   "source": [
    "### Dados Disponíveis"
   ]
  },
  {
   "cell_type": "markdown",
   "id": "conservative-development",
   "metadata": {},
   "source": [
    "- Que restrições ou condições foram impostas para selecionar os dados?\n",
    "- Defina cada um dos atributos conjunto de dados (dataset) disponibilizado."
   ]
  },
  {
   "cell_type": "markdown",
   "id": "false-terrain",
   "metadata": {},
   "source": [
    "## 2. Análise dos Dados"
   ]
  },
  {
   "cell_type": "markdown",
   "id": "impaired-shoulder",
   "metadata": {},
   "source": [
    "### Estatísticas descritivas"
   ]
  },
  {
   "cell_type": "markdown",
   "id": "deluxe-currency",
   "metadata": {},
   "source": [
    "- Quantos atributos e instâncias existem?\n",
    "- Quais são os tipos de dados dos atributos?\n",
    "- Verifique as primeiras linhas do dataset. Algo chama a atenção?\n",
    "- Há valores faltantes ou inconsistentes?\n",
    "- Faça um resumo estatístico dos atributos com valor numérico (mínimo, máximo, mediana, moda, média, desvio padrão e número de valores ausentes). O que você percebe?"
   ]
  },
  {
   "cell_type": "markdown",
   "id": "agricultural-simple",
   "metadata": {},
   "source": [
    "### Visualizações"
   ]
  },
  {
   "cell_type": "markdown",
   "id": "nervous-alarm",
   "metadata": {},
   "source": [
    "- Verifique a distribuição de cada atributo (com histogramas). O que você\n",
    "percebe?\n",
    " - Pode dar ideias sobre a necessidade de transformações na etapa de\n",
    "preparação de dados (por exemplo, converter atributos de um tipo para\n",
    "outro, realizar operações de discretização, normalização, padronização,\n",
    "etc).\n",
    "- Verifique a distribuição de frequência das classes. O que você percebe?\n",
    " - Pode indicar a possível necessidade de balanceamento de classes;\n",
    " - A distribuição de frequência do atributo de classe (ou média de uma\n",
    "variável de saída de regressão) é útil porque você pode usá-lo para\n",
    "definir a acurácia mínima de um modelo preditivo.\n",
    "- Verifique a distribuição dos atributos separados por classe em histogramas. O\n",
    "que você percebe?\n",
    "- Verifique os atributos em pares, com scatter plots. O que você percebe?"
   ]
  },
  {
   "cell_type": "markdown",
   "id": "collect-pursuit",
   "metadata": {},
   "source": [
    "## 3. Pré-Processamento de Dados"
   ]
  },
  {
   "cell_type": "markdown",
   "id": "handy-asbestos",
   "metadata": {},
   "source": [
    "Verifique quais operações de pré-processamento podem ser interessantes para\n",
    "o seu problema e salve visões diferentes do seu dataset. Por exemplo:\n",
    "- Normalização\n",
    "- Padronização\n",
    "- Discretização\n",
    "- One-hot-encoding\n",
    "- Trate (removendo ou substituindo) os valores faltantes (se existentes)\n",
    "- Avalie os subconjuntos de atributos que podem ser mais interessantes para os\n",
    "modelos preditivos"
   ]
  },
  {
   "cell_type": "markdown",
   "id": "numerical-treasure",
   "metadata": {},
   "source": [
    "## 4. Modelagem e Inferência"
   ]
  },
  {
   "cell_type": "markdown",
   "id": "economic-vancouver",
   "metadata": {},
   "source": [
    "- Experimente diversos algoritmos de classificação (Exemplos: regressão\n",
    "logística, Árvore de classificação, KNN, Naive Bayes e SVM) com a configuração\n",
    "padrão. Além do dataset original, utilize diferentes visões do dataset\n",
    "de acordo com as operações realizadas na etapa de pré-processamento de\n",
    "dados (normalização, padronização, seleção de variáveis, etc). \n",
    "- Analise os resultados\n",
    "- Experimente diferentes valores de parâmetros para os melhores algoritmos de\n",
    "classificação da etapa anterior. Analise os resultados"
   ]
  },
  {
   "cell_type": "markdown",
   "id": "olympic-processing",
   "metadata": {},
   "source": [
    "## 5. Pós-Processamento"
   ]
  },
  {
   "cell_type": "markdown",
   "id": "statewide-edmonton",
   "metadata": {},
   "source": [
    "- Escolha qual será o modelo final e os valores dos seus parâmetros, decidindo se\n",
    "irá utilizar dataset original ou uma das visões na etapa de pré-processamento.\n",
    "- Separe 5 instâncias do dataset para serem usadas como dados novos, não\n",
    "vistos pelo modelo (sugestão: fazer no excel de forma aleatória, observando a\n",
    "proporção das classes).\n",
    "- Treine o modelo escolhido com o dataset completo (excluindo as 5 linhas da\n",
    "etapa anterior).\n",
    "- Execute o modelo para os dados não vistos. Analise o resultado."
   ]
  },
  {
   "cell_type": "markdown",
   "id": "incorrect-thong",
   "metadata": {},
   "source": [
    "# Problema de Classificação: Credit"
   ]
  },
  {
   "cell_type": "markdown",
   "id": "ranging-processor",
   "metadata": {},
   "source": [
    "# Bibliotecas"
   ]
  },
  {
   "cell_type": "markdown",
   "id": "durable-aurora",
   "metadata": {},
   "source": [
    "Principais:\n",
    "\n",
    "- Manipulação de Dados: Pandas e NumPy\n",
    "- Visualização de Dados: Seaborn e Plotly\n",
    "- Machine Learning: Scikit-Learn\n",
    "    \n",
    "Outras IDEs conhecidas (Todos vêm junto com a plataforma Anaconda - https://www.anaconda.com/):\n",
    "- PyCharm\n",
    "- Jupyter Notebook\n",
    "- JupterLab\n",
    "- Spyder"
   ]
  },
  {
   "cell_type": "code",
   "execution_count": 41,
   "id": "seven-iraqi",
   "metadata": {},
   "outputs": [],
   "source": [
    "import pandas as pd\n",
    "import plotly.express as px\n",
    "import plotly.graph_objects as go"
   ]
  },
  {
   "cell_type": "markdown",
   "id": "average-watts",
   "metadata": {},
   "source": [
    "# Base de Dados"
   ]
  },
  {
   "cell_type": "code",
   "execution_count": 2,
   "id": "ceramic-miracle",
   "metadata": {},
   "outputs": [],
   "source": [
    "base = pd.read_csv(\"/home/thais/Documents/Python/Cap01/csv_result-credit-g-900-treino.csv\")"
   ]
  },
  {
   "cell_type": "code",
   "execution_count": 8,
   "id": "scenic-charger",
   "metadata": {},
   "outputs": [
    {
     "name": "stdout",
     "output_type": "stream",
     "text": [
      "Dataset contém 900 linhas\n"
     ]
    }
   ],
   "source": [
    "print(\"Dataset contém {} linhas\".format(len(base)))"
   ]
  },
  {
   "cell_type": "code",
   "execution_count": 9,
   "id": "modern-quick",
   "metadata": {},
   "outputs": [
    {
     "data": {
      "text/html": [
       "<div>\n",
       "<style scoped>\n",
       "    .dataframe tbody tr th:only-of-type {\n",
       "        vertical-align: middle;\n",
       "    }\n",
       "\n",
       "    .dataframe tbody tr th {\n",
       "        vertical-align: top;\n",
       "    }\n",
       "\n",
       "    .dataframe thead th {\n",
       "        text-align: right;\n",
       "    }\n",
       "</style>\n",
       "<table border=\"1\" class=\"dataframe\">\n",
       "  <thead>\n",
       "    <tr style=\"text-align: right;\">\n",
       "      <th></th>\n",
       "      <th>id</th>\n",
       "      <th>checking_status</th>\n",
       "      <th>duration</th>\n",
       "      <th>credit_history</th>\n",
       "      <th>purpose</th>\n",
       "      <th>credit_amount</th>\n",
       "      <th>savings_status</th>\n",
       "      <th>employment</th>\n",
       "      <th>installment_commitment</th>\n",
       "      <th>personal_status</th>\n",
       "      <th>...</th>\n",
       "      <th>property_magnitude</th>\n",
       "      <th>age</th>\n",
       "      <th>other_payment_plans</th>\n",
       "      <th>housing</th>\n",
       "      <th>existing_credits</th>\n",
       "      <th>job</th>\n",
       "      <th>num_dependents</th>\n",
       "      <th>own_telephone</th>\n",
       "      <th>foreign_worker</th>\n",
       "      <th>class</th>\n",
       "    </tr>\n",
       "  </thead>\n",
       "  <tbody>\n",
       "    <tr>\n",
       "      <th>0</th>\n",
       "      <td>1</td>\n",
       "      <td>&lt;0</td>\n",
       "      <td>12</td>\n",
       "      <td>existing paid</td>\n",
       "      <td>furniture/equipment</td>\n",
       "      <td>1657</td>\n",
       "      <td>&lt;100</td>\n",
       "      <td>1&lt;=X&lt;4</td>\n",
       "      <td>2</td>\n",
       "      <td>male single</td>\n",
       "      <td>...</td>\n",
       "      <td>real estate</td>\n",
       "      <td>27</td>\n",
       "      <td>none</td>\n",
       "      <td>own</td>\n",
       "      <td>1</td>\n",
       "      <td>skilled</td>\n",
       "      <td>1</td>\n",
       "      <td>none</td>\n",
       "      <td>yes</td>\n",
       "      <td>good</td>\n",
       "    </tr>\n",
       "    <tr>\n",
       "      <th>1</th>\n",
       "      <td>2</td>\n",
       "      <td>&lt;0</td>\n",
       "      <td>42</td>\n",
       "      <td>existing paid</td>\n",
       "      <td>furniture/equipment</td>\n",
       "      <td>7882</td>\n",
       "      <td>&lt;100</td>\n",
       "      <td>4&lt;=X&lt;7</td>\n",
       "      <td>2</td>\n",
       "      <td>male single</td>\n",
       "      <td>...</td>\n",
       "      <td>life insurance</td>\n",
       "      <td>45</td>\n",
       "      <td>none</td>\n",
       "      <td>for free</td>\n",
       "      <td>1</td>\n",
       "      <td>skilled</td>\n",
       "      <td>2</td>\n",
       "      <td>none</td>\n",
       "      <td>yes</td>\n",
       "      <td>good</td>\n",
       "    </tr>\n",
       "    <tr>\n",
       "      <th>2</th>\n",
       "      <td>3</td>\n",
       "      <td>no checking</td>\n",
       "      <td>36</td>\n",
       "      <td>critical/other existing credit</td>\n",
       "      <td>business</td>\n",
       "      <td>6304</td>\n",
       "      <td>no known savings</td>\n",
       "      <td>&gt;=7</td>\n",
       "      <td>4</td>\n",
       "      <td>male single</td>\n",
       "      <td>...</td>\n",
       "      <td>real estate</td>\n",
       "      <td>36</td>\n",
       "      <td>none</td>\n",
       "      <td>own</td>\n",
       "      <td>2</td>\n",
       "      <td>skilled</td>\n",
       "      <td>1</td>\n",
       "      <td>none</td>\n",
       "      <td>yes</td>\n",
       "      <td>good</td>\n",
       "    </tr>\n",
       "    <tr>\n",
       "      <th>3</th>\n",
       "      <td>4</td>\n",
       "      <td>&lt;0</td>\n",
       "      <td>60</td>\n",
       "      <td>existing paid</td>\n",
       "      <td>business</td>\n",
       "      <td>7297</td>\n",
       "      <td>&lt;100</td>\n",
       "      <td>&gt;=7</td>\n",
       "      <td>4</td>\n",
       "      <td>male single</td>\n",
       "      <td>...</td>\n",
       "      <td>no known property</td>\n",
       "      <td>36</td>\n",
       "      <td>none</td>\n",
       "      <td>rent</td>\n",
       "      <td>1</td>\n",
       "      <td>skilled</td>\n",
       "      <td>1</td>\n",
       "      <td>none</td>\n",
       "      <td>yes</td>\n",
       "      <td>bad</td>\n",
       "    </tr>\n",
       "    <tr>\n",
       "      <th>4</th>\n",
       "      <td>5</td>\n",
       "      <td>no checking</td>\n",
       "      <td>36</td>\n",
       "      <td>critical/other existing credit</td>\n",
       "      <td>new car</td>\n",
       "      <td>3535</td>\n",
       "      <td>&lt;100</td>\n",
       "      <td>4&lt;=X&lt;7</td>\n",
       "      <td>4</td>\n",
       "      <td>male single</td>\n",
       "      <td>...</td>\n",
       "      <td>car</td>\n",
       "      <td>37</td>\n",
       "      <td>none</td>\n",
       "      <td>own</td>\n",
       "      <td>2</td>\n",
       "      <td>skilled</td>\n",
       "      <td>1</td>\n",
       "      <td>yes</td>\n",
       "      <td>yes</td>\n",
       "      <td>good</td>\n",
       "    </tr>\n",
       "  </tbody>\n",
       "</table>\n",
       "<p>5 rows × 22 columns</p>\n",
       "</div>"
      ],
      "text/plain": [
       "   id checking_status  duration                  credit_history  \\\n",
       "0   1              <0        12                   existing paid   \n",
       "1   2              <0        42                   existing paid   \n",
       "2   3     no checking        36  critical/other existing credit   \n",
       "3   4              <0        60                   existing paid   \n",
       "4   5     no checking        36  critical/other existing credit   \n",
       "\n",
       "               purpose  credit_amount    savings_status employment  \\\n",
       "0  furniture/equipment           1657              <100     1<=X<4   \n",
       "1  furniture/equipment           7882              <100     4<=X<7   \n",
       "2             business           6304  no known savings        >=7   \n",
       "3             business           7297              <100        >=7   \n",
       "4              new car           3535              <100     4<=X<7   \n",
       "\n",
       "   installment_commitment personal_status  ... property_magnitude  age  \\\n",
       "0                       2     male single  ...        real estate   27   \n",
       "1                       2     male single  ...     life insurance   45   \n",
       "2                       4     male single  ...        real estate   36   \n",
       "3                       4     male single  ...  no known property   36   \n",
       "4                       4     male single  ...                car   37   \n",
       "\n",
       "  other_payment_plans   housing existing_credits      job  num_dependents  \\\n",
       "0                none       own                1  skilled               1   \n",
       "1                none  for free                1  skilled               2   \n",
       "2                none       own                2  skilled               1   \n",
       "3                none      rent                1  skilled               1   \n",
       "4                none       own                2  skilled               1   \n",
       "\n",
       "  own_telephone  foreign_worker class  \n",
       "0          none             yes  good  \n",
       "1          none             yes  good  \n",
       "2          none             yes  good  \n",
       "3          none             yes   bad  \n",
       "4           yes             yes  good  \n",
       "\n",
       "[5 rows x 22 columns]"
      ]
     },
     "execution_count": 9,
     "metadata": {},
     "output_type": "execute_result"
    }
   ],
   "source": [
    "base.head(5)"
   ]
  },
  {
   "cell_type": "code",
   "execution_count": 10,
   "id": "demonstrated-buffalo",
   "metadata": {},
   "outputs": [
    {
     "name": "stdout",
     "output_type": "stream",
     "text": [
      "<class 'pandas.core.frame.DataFrame'>\n",
      "RangeIndex: 900 entries, 0 to 899\n",
      "Data columns (total 22 columns):\n",
      " #   Column                  Non-Null Count  Dtype \n",
      "---  ------                  --------------  ----- \n",
      " 0   id                      900 non-null    int64 \n",
      " 1   checking_status         900 non-null    object\n",
      " 2   duration                900 non-null    int64 \n",
      " 3   credit_history          900 non-null    object\n",
      " 4   purpose                 900 non-null    object\n",
      " 5   credit_amount           900 non-null    int64 \n",
      " 6   savings_status          900 non-null    object\n",
      " 7   employment              900 non-null    object\n",
      " 8   installment_commitment  900 non-null    int64 \n",
      " 9   personal_status         900 non-null    object\n",
      " 10  other_parties           900 non-null    object\n",
      " 11  residence_since         900 non-null    int64 \n",
      " 12  property_magnitude      900 non-null    object\n",
      " 13  age                     900 non-null    int64 \n",
      " 14  other_payment_plans     900 non-null    object\n",
      " 15  housing                 900 non-null    object\n",
      " 16  existing_credits        900 non-null    int64 \n",
      " 17  job                     900 non-null    object\n",
      " 18  num_dependents          900 non-null    int64 \n",
      " 19  own_telephone           900 non-null    object\n",
      " 20  foreign_worker          900 non-null    object\n",
      " 21  class                   900 non-null    object\n",
      "dtypes: int64(8), object(14)\n",
      "memory usage: 154.8+ KB\n"
     ]
    }
   ],
   "source": [
    "base.info()"
   ]
  },
  {
   "cell_type": "code",
   "execution_count": 66,
   "id": "utility-hughes",
   "metadata": {},
   "outputs": [
    {
     "data": {
      "text/html": [
       "<div>\n",
       "<style scoped>\n",
       "    .dataframe tbody tr th:only-of-type {\n",
       "        vertical-align: middle;\n",
       "    }\n",
       "\n",
       "    .dataframe tbody tr th {\n",
       "        vertical-align: top;\n",
       "    }\n",
       "\n",
       "    .dataframe thead th {\n",
       "        text-align: right;\n",
       "    }\n",
       "</style>\n",
       "<table border=\"1\" class=\"dataframe\">\n",
       "  <thead>\n",
       "    <tr style=\"text-align: right;\">\n",
       "      <th></th>\n",
       "      <th>id</th>\n",
       "      <th>duration</th>\n",
       "      <th>credit_amount</th>\n",
       "      <th>installment_commitment</th>\n",
       "      <th>residence_since</th>\n",
       "      <th>age</th>\n",
       "      <th>existing_credits</th>\n",
       "      <th>num_dependents</th>\n",
       "    </tr>\n",
       "  </thead>\n",
       "  <tbody>\n",
       "    <tr>\n",
       "      <th>count</th>\n",
       "      <td>900.000000</td>\n",
       "      <td>900.000000</td>\n",
       "      <td>900.000000</td>\n",
       "      <td>900.000000</td>\n",
       "      <td>900.000000</td>\n",
       "      <td>900.000000</td>\n",
       "      <td>900.000000</td>\n",
       "      <td>900.000000</td>\n",
       "    </tr>\n",
       "    <tr>\n",
       "      <th>mean</th>\n",
       "      <td>450.500000</td>\n",
       "      <td>20.792222</td>\n",
       "      <td>3290.245556</td>\n",
       "      <td>2.968889</td>\n",
       "      <td>2.858889</td>\n",
       "      <td>35.757778</td>\n",
       "      <td>1.420000</td>\n",
       "      <td>1.146667</td>\n",
       "    </tr>\n",
       "    <tr>\n",
       "      <th>std</th>\n",
       "      <td>259.951919</td>\n",
       "      <td>11.910406</td>\n",
       "      <td>2858.545993</td>\n",
       "      <td>1.117725</td>\n",
       "      <td>1.090498</td>\n",
       "      <td>11.460198</td>\n",
       "      <td>0.582694</td>\n",
       "      <td>0.353970</td>\n",
       "    </tr>\n",
       "    <tr>\n",
       "      <th>min</th>\n",
       "      <td>1.000000</td>\n",
       "      <td>4.000000</td>\n",
       "      <td>250.000000</td>\n",
       "      <td>1.000000</td>\n",
       "      <td>1.000000</td>\n",
       "      <td>19.000000</td>\n",
       "      <td>1.000000</td>\n",
       "      <td>1.000000</td>\n",
       "    </tr>\n",
       "    <tr>\n",
       "      <th>25%</th>\n",
       "      <td>225.750000</td>\n",
       "      <td>12.000000</td>\n",
       "      <td>1373.500000</td>\n",
       "      <td>2.000000</td>\n",
       "      <td>2.000000</td>\n",
       "      <td>27.000000</td>\n",
       "      <td>1.000000</td>\n",
       "      <td>1.000000</td>\n",
       "    </tr>\n",
       "    <tr>\n",
       "      <th>50%</th>\n",
       "      <td>450.500000</td>\n",
       "      <td>18.000000</td>\n",
       "      <td>2317.000000</td>\n",
       "      <td>3.000000</td>\n",
       "      <td>3.000000</td>\n",
       "      <td>33.000000</td>\n",
       "      <td>1.000000</td>\n",
       "      <td>1.000000</td>\n",
       "    </tr>\n",
       "    <tr>\n",
       "      <th>75%</th>\n",
       "      <td>675.250000</td>\n",
       "      <td>24.000000</td>\n",
       "      <td>3981.750000</td>\n",
       "      <td>4.000000</td>\n",
       "      <td>4.000000</td>\n",
       "      <td>42.000000</td>\n",
       "      <td>2.000000</td>\n",
       "      <td>1.000000</td>\n",
       "    </tr>\n",
       "    <tr>\n",
       "      <th>max</th>\n",
       "      <td>900.000000</td>\n",
       "      <td>60.000000</td>\n",
       "      <td>18424.000000</td>\n",
       "      <td>4.000000</td>\n",
       "      <td>4.000000</td>\n",
       "      <td>75.000000</td>\n",
       "      <td>4.000000</td>\n",
       "      <td>2.000000</td>\n",
       "    </tr>\n",
       "  </tbody>\n",
       "</table>\n",
       "</div>"
      ],
      "text/plain": [
       "               id    duration  credit_amount  installment_commitment  \\\n",
       "count  900.000000  900.000000     900.000000              900.000000   \n",
       "mean   450.500000   20.792222    3290.245556                2.968889   \n",
       "std    259.951919   11.910406    2858.545993                1.117725   \n",
       "min      1.000000    4.000000     250.000000                1.000000   \n",
       "25%    225.750000   12.000000    1373.500000                2.000000   \n",
       "50%    450.500000   18.000000    2317.000000                3.000000   \n",
       "75%    675.250000   24.000000    3981.750000                4.000000   \n",
       "max    900.000000   60.000000   18424.000000                4.000000   \n",
       "\n",
       "       residence_since         age  existing_credits  num_dependents  \n",
       "count       900.000000  900.000000        900.000000      900.000000  \n",
       "mean          2.858889   35.757778          1.420000        1.146667  \n",
       "std           1.090498   11.460198          0.582694        0.353970  \n",
       "min           1.000000   19.000000          1.000000        1.000000  \n",
       "25%           2.000000   27.000000          1.000000        1.000000  \n",
       "50%           3.000000   33.000000          1.000000        1.000000  \n",
       "75%           4.000000   42.000000          2.000000        1.000000  \n",
       "max           4.000000   75.000000          4.000000        2.000000  "
      ]
     },
     "execution_count": 66,
     "metadata": {},
     "output_type": "execute_result"
    }
   ],
   "source": [
    "base.describe()"
   ]
  },
  {
   "cell_type": "markdown",
   "id": "electrical-legend",
   "metadata": {},
   "source": [
    "# Análise Exploratória dos Dados"
   ]
  },
  {
   "cell_type": "markdown",
   "id": "urban-instrument",
   "metadata": {},
   "source": [
    "Características do Bom Pagador: \n",
    "- Tem o menor tempo de duração de um empréstimo, com média de 18 meses. Além disso, 75% dos clientes Bons solicitaram empréstimo menor que 24 meses.\n",
    "- Tem idade média de 35 anos e com idade máxima de 65 anos\n",
    "- O cliente bom pagador não possui conta corrente.\n",
    "\n",
    "Características do Mau Pagador:\n",
    "- Tem o maior tempo de duração de um empréstimo, com média de 24 meses. Além disso, 75% dos clientes Bons solicitaram empréstimo menor que 36 meses.\n",
    "- Tem idade média de 31 anos e com idade máxima de 61 anos\n",
    "- 50% dos clientes que estão negativados, são mau pagadores. Além disso, estão bem concentrados quando se tem ate $200. \n",
    "- Possui créditos existentes, pagos devidamente até agora"
   ]
  },
  {
   "cell_type": "code",
   "execution_count": 53,
   "id": "pointed-camel",
   "metadata": {},
   "outputs": [],
   "source": [
    "colunas = base.loc[:,['class',\n",
    "                      'duration', \n",
    "                      'credit_amount', \n",
    "                      'installment_commitment', \n",
    "                      'residence_since', \n",
    "                      'age', \n",
    "                      'existing_credits', \n",
    "                      'num_dependents']]"
   ]
  },
  {
   "cell_type": "code",
   "execution_count": 54,
   "id": "modified-prefix",
   "metadata": {},
   "outputs": [
    {
     "data": {
      "application/vnd.plotly.v1+json": {
       "config": {
        "plotlyServerURL": "https://plot.ly"
       },
       "data": [
        {
         "alignmentgroup": "True",
         "hovertemplate": "class=%{x}<br>duration=%{y}<extra></extra>",
         "legendgroup": "good",
         "marker": {
          "color": "#636efa"
         },
         "name": "good",
         "notched": false,
         "offsetgroup": "good",
         "orientation": "v",
         "showlegend": true,
         "type": "box",
         "x": [
          "good",
          "good",
          "good",
          "good",
          "good",
          "good",
          "good",
          "good",
          "good",
          "good",
          "good",
          "good",
          "good",
          "good",
          "good",
          "good",
          "good",
          "good",
          "good",
          "good",
          "good",
          "good",
          "good",
          "good",
          "good",
          "good",
          "good",
          "good",
          "good",
          "good",
          "good",
          "good",
          "good",
          "good",
          "good",
          "good",
          "good",
          "good",
          "good",
          "good",
          "good",
          "good",
          "good",
          "good",
          "good",
          "good",
          "good",
          "good",
          "good",
          "good",
          "good",
          "good",
          "good",
          "good",
          "good",
          "good",
          "good",
          "good",
          "good",
          "good",
          "good",
          "good",
          "good",
          "good",
          "good",
          "good",
          "good",
          "good",
          "good",
          "good",
          "good",
          "good",
          "good",
          "good",
          "good",
          "good",
          "good",
          "good",
          "good",
          "good",
          "good",
          "good",
          "good",
          "good",
          "good",
          "good",
          "good",
          "good",
          "good",
          "good",
          "good",
          "good",
          "good",
          "good",
          "good",
          "good",
          "good",
          "good",
          "good",
          "good",
          "good",
          "good",
          "good",
          "good",
          "good",
          "good",
          "good",
          "good",
          "good",
          "good",
          "good",
          "good",
          "good",
          "good",
          "good",
          "good",
          "good",
          "good",
          "good",
          "good",
          "good",
          "good",
          "good",
          "good",
          "good",
          "good",
          "good",
          "good",
          "good",
          "good",
          "good",
          "good",
          "good",
          "good",
          "good",
          "good",
          "good",
          "good",
          "good",
          "good",
          "good",
          "good",
          "good",
          "good",
          "good",
          "good",
          "good",
          "good",
          "good",
          "good",
          "good",
          "good",
          "good",
          "good",
          "good",
          "good",
          "good",
          "good",
          "good",
          "good",
          "good",
          "good",
          "good",
          "good",
          "good",
          "good",
          "good",
          "good",
          "good",
          "good",
          "good",
          "good",
          "good",
          "good",
          "good",
          "good",
          "good",
          "good",
          "good",
          "good",
          "good",
          "good",
          "good",
          "good",
          "good",
          "good",
          "good",
          "good",
          "good",
          "good",
          "good",
          "good",
          "good",
          "good",
          "good",
          "good",
          "good",
          "good",
          "good",
          "good",
          "good",
          "good",
          "good",
          "good",
          "good",
          "good",
          "good",
          "good",
          "good",
          "good",
          "good",
          "good",
          "good",
          "good",
          "good",
          "good",
          "good",
          "good",
          "good",
          "good",
          "good",
          "good",
          "good",
          "good",
          "good",
          "good",
          "good",
          "good",
          "good",
          "good",
          "good",
          "good",
          "good",
          "good",
          "good",
          "good",
          "good",
          "good",
          "good",
          "good",
          "good",
          "good",
          "good",
          "good",
          "good",
          "good",
          "good",
          "good",
          "good",
          "good",
          "good",
          "good",
          "good",
          "good",
          "good",
          "good",
          "good",
          "good",
          "good",
          "good",
          "good",
          "good",
          "good",
          "good",
          "good",
          "good",
          "good",
          "good",
          "good",
          "good",
          "good",
          "good",
          "good",
          "good",
          "good",
          "good",
          "good",
          "good",
          "good",
          "good",
          "good",
          "good",
          "good",
          "good",
          "good",
          "good",
          "good",
          "good",
          "good",
          "good",
          "good",
          "good",
          "good",
          "good",
          "good",
          "good",
          "good",
          "good",
          "good",
          "good",
          "good",
          "good",
          "good",
          "good",
          "good",
          "good",
          "good",
          "good",
          "good",
          "good",
          "good",
          "good",
          "good",
          "good",
          "good",
          "good",
          "good",
          "good",
          "good",
          "good",
          "good",
          "good",
          "good",
          "good",
          "good",
          "good",
          "good",
          "good",
          "good",
          "good",
          "good",
          "good",
          "good",
          "good",
          "good",
          "good",
          "good",
          "good",
          "good",
          "good",
          "good",
          "good",
          "good",
          "good",
          "good",
          "good",
          "good",
          "good",
          "good",
          "good",
          "good",
          "good",
          "good",
          "good",
          "good",
          "good",
          "good",
          "good",
          "good",
          "good",
          "good",
          "good",
          "good",
          "good",
          "good",
          "good",
          "good",
          "good",
          "good",
          "good",
          "good",
          "good",
          "good",
          "good",
          "good",
          "good",
          "good",
          "good",
          "good",
          "good",
          "good",
          "good",
          "good",
          "good",
          "good",
          "good",
          "good",
          "good",
          "good",
          "good",
          "good",
          "good",
          "good",
          "good",
          "good",
          "good",
          "good",
          "good",
          "good",
          "good",
          "good",
          "good",
          "good",
          "good",
          "good",
          "good",
          "good",
          "good",
          "good",
          "good",
          "good",
          "good",
          "good",
          "good",
          "good",
          "good",
          "good",
          "good",
          "good",
          "good",
          "good",
          "good",
          "good",
          "good",
          "good",
          "good",
          "good",
          "good",
          "good",
          "good",
          "good",
          "good",
          "good",
          "good",
          "good",
          "good",
          "good",
          "good",
          "good",
          "good",
          "good",
          "good",
          "good",
          "good",
          "good",
          "good",
          "good",
          "good",
          "good",
          "good",
          "good",
          "good",
          "good",
          "good",
          "good",
          "good",
          "good",
          "good",
          "good",
          "good",
          "good",
          "good",
          "good",
          "good",
          "good",
          "good",
          "good",
          "good",
          "good",
          "good",
          "good",
          "good",
          "good",
          "good",
          "good",
          "good",
          "good",
          "good",
          "good",
          "good",
          "good",
          "good",
          "good",
          "good",
          "good",
          "good",
          "good",
          "good",
          "good",
          "good",
          "good",
          "good",
          "good",
          "good",
          "good",
          "good",
          "good",
          "good",
          "good",
          "good",
          "good",
          "good",
          "good",
          "good",
          "good",
          "good",
          "good",
          "good",
          "good",
          "good",
          "good",
          "good",
          "good",
          "good",
          "good",
          "good",
          "good",
          "good",
          "good",
          "good",
          "good",
          "good",
          "good",
          "good",
          "good",
          "good",
          "good",
          "good",
          "good",
          "good",
          "good",
          "good",
          "good",
          "good",
          "good",
          "good",
          "good",
          "good",
          "good",
          "good",
          "good",
          "good",
          "good",
          "good",
          "good",
          "good",
          "good",
          "good",
          "good",
          "good",
          "good",
          "good",
          "good",
          "good",
          "good",
          "good",
          "good",
          "good",
          "good",
          "good",
          "good",
          "good",
          "good",
          "good",
          "good",
          "good",
          "good",
          "good",
          "good",
          "good",
          "good",
          "good",
          "good",
          "good",
          "good",
          "good",
          "good",
          "good",
          "good",
          "good",
          "good",
          "good",
          "good",
          "good",
          "good",
          "good",
          "good",
          "good",
          "good",
          "good",
          "good",
          "good",
          "good",
          "good",
          "good",
          "good",
          "good",
          "good",
          "good",
          "good",
          "good",
          "good",
          "good",
          "good",
          "good",
          "good",
          "good",
          "good",
          "good",
          "good",
          "good",
          "good",
          "good",
          "good",
          "good",
          "good",
          "good",
          "good",
          "good",
          "good",
          "good",
          "good",
          "good",
          "good",
          "good",
          "good",
          "good",
          "good",
          "good",
          "good"
         ],
         "x0": " ",
         "xaxis": "x",
         "y": [
          12,
          42,
          36,
          36,
          30,
          12,
          30,
          14,
          36,
          24,
          12,
          30,
          24,
          12,
          18,
          12,
          24,
          24,
          36,
          12,
          12,
          12,
          48,
          24,
          18,
          24,
          6,
          48,
          30,
          24,
          10,
          12,
          12,
          5,
          4,
          18,
          15,
          18,
          6,
          9,
          24,
          10,
          21,
          12,
          24,
          24,
          12,
          12,
          12,
          36,
          24,
          6,
          30,
          42,
          10,
          30,
          30,
          36,
          21,
          6,
          21,
          15,
          18,
          30,
          20,
          6,
          42,
          18,
          12,
          21,
          24,
          24,
          48,
          36,
          12,
          36,
          12,
          24,
          12,
          18,
          9,
          13,
          36,
          12,
          15,
          6,
          39,
          6,
          48,
          48,
          60,
          6,
          24,
          6,
          24,
          24,
          12,
          24,
          20,
          24,
          6,
          12,
          9,
          22,
          12,
          10,
          21,
          6,
          12,
          24,
          6,
          15,
          10,
          6,
          6,
          12,
          36,
          6,
          9,
          36,
          12,
          27,
          10,
          24,
          12,
          15,
          24,
          9,
          15,
          42,
          24,
          24,
          24,
          6,
          15,
          15,
          24,
          6,
          27,
          16,
          12,
          24,
          9,
          24,
          30,
          18,
          24,
          6,
          24,
          12,
          21,
          48,
          24,
          15,
          48,
          24,
          42,
          12,
          18,
          12,
          12,
          15,
          18,
          9,
          6,
          6,
          18,
          18,
          13,
          60,
          8,
          18,
          24,
          6,
          27,
          6,
          9,
          20,
          9,
          48,
          30,
          10,
          33,
          11,
          48,
          27,
          21,
          9,
          12,
          36,
          12,
          15,
          12,
          24,
          21,
          24,
          24,
          12,
          24,
          24,
          24,
          20,
          15,
          18,
          9,
          18,
          15,
          6,
          18,
          18,
          11,
          12,
          12,
          15,
          24,
          30,
          24,
          12,
          24,
          12,
          7,
          12,
          60,
          22,
          24,
          18,
          24,
          27,
          24,
          24,
          15,
          6,
          15,
          12,
          6,
          36,
          18,
          11,
          24,
          6,
          24,
          24,
          9,
          36,
          7,
          24,
          6,
          27,
          12,
          12,
          10,
          12,
          24,
          24,
          11,
          24,
          60,
          18,
          8,
          12,
          42,
          18,
          24,
          11,
          48,
          10,
          12,
          15,
          24,
          24,
          15,
          10,
          12,
          12,
          6,
          18,
          12,
          12,
          24,
          24,
          12,
          12,
          36,
          12,
          18,
          12,
          15,
          48,
          36,
          30,
          6,
          28,
          21,
          12,
          24,
          21,
          12,
          12,
          15,
          30,
          18,
          4,
          7,
          12,
          24,
          15,
          36,
          24,
          24,
          36,
          12,
          6,
          21,
          9,
          15,
          18,
          24,
          18,
          12,
          36,
          24,
          18,
          24,
          24,
          12,
          18,
          15,
          9,
          12,
          6,
          6,
          6,
          27,
          24,
          15,
          12,
          9,
          18,
          12,
          30,
          6,
          36,
          28,
          13,
          21,
          9,
          12,
          18,
          8,
          15,
          6,
          12,
          18,
          15,
          12,
          10,
          36,
          18,
          12,
          12,
          24,
          6,
          12,
          6,
          12,
          10,
          24,
          42,
          24,
          18,
          24,
          21,
          6,
          15,
          24,
          12,
          6,
          12,
          9,
          20,
          24,
          6,
          12,
          6,
          30,
          48,
          12,
          15,
          12,
          24,
          6,
          21,
          30,
          15,
          15,
          18,
          36,
          10,
          12,
          9,
          12,
          9,
          12,
          12,
          21,
          36,
          6,
          12,
          36,
          12,
          12,
          12,
          15,
          14,
          24,
          30,
          12,
          18,
          36,
          6,
          24,
          10,
          6,
          36,
          36,
          18,
          24,
          12,
          6,
          12,
          24,
          12,
          12,
          15,
          24,
          24,
          18,
          39,
          10,
          6,
          36,
          6,
          24,
          10,
          47,
          30,
          15,
          6,
          24,
          18,
          12,
          15,
          10,
          12,
          18,
          24,
          36,
          15,
          18,
          18,
          9,
          21,
          24,
          18,
          20,
          24,
          14,
          30,
          12,
          24,
          24,
          10,
          15,
          18,
          18,
          24,
          6,
          9,
          36,
          24,
          18,
          36,
          6,
          18,
          6,
          12,
          12,
          11,
          39,
          9,
          24,
          60,
          15,
          30,
          36,
          6,
          15,
          9,
          24,
          18,
          15,
          24,
          24,
          24,
          10,
          15,
          18,
          36,
          24,
          12,
          24,
          12,
          12,
          6,
          15,
          6,
          12,
          12,
          11,
          18,
          24,
          6,
          36,
          4,
          33,
          12,
          18,
          36,
          36,
          48,
          11,
          12,
          36,
          36,
          24,
          12,
          4,
          36,
          24,
          15,
          9,
          18,
          24,
          12,
          24,
          10,
          24,
          24,
          45,
          12,
          24,
          24,
          36,
          9,
          24,
          18,
          12,
          36,
          12,
          48,
          8,
          48,
          6,
          9,
          18,
          9,
          36,
          36,
          24,
          18,
          4,
          12,
          12,
          15,
          18,
          18,
          15,
          24,
          15,
          24,
          48,
          21,
          12,
          11,
          30,
          9,
          36,
          36,
          48,
          9,
          18,
          15,
          13,
          18,
          18,
          48,
          24,
          15,
          12,
          15,
          10,
          18,
          15,
          12,
          24,
          24,
          36,
          9,
          9,
          12,
          24,
          6,
          30,
          6,
          24,
          21,
          7,
          12,
          8,
          18,
          12,
          30,
          6,
          18,
          8,
          7,
          18,
          48,
          6,
          12
         ],
         "y0": " ",
         "yaxis": "y"
        },
        {
         "alignmentgroup": "True",
         "hovertemplate": "class=%{x}<br>duration=%{y}<extra></extra>",
         "legendgroup": "bad",
         "marker": {
          "color": "#EF553B"
         },
         "name": "bad",
         "notched": false,
         "offsetgroup": "bad",
         "orientation": "v",
         "showlegend": true,
         "type": "box",
         "x": [
          "bad",
          "bad",
          "bad",
          "bad",
          "bad",
          "bad",
          "bad",
          "bad",
          "bad",
          "bad",
          "bad",
          "bad",
          "bad",
          "bad",
          "bad",
          "bad",
          "bad",
          "bad",
          "bad",
          "bad",
          "bad",
          "bad",
          "bad",
          "bad",
          "bad",
          "bad",
          "bad",
          "bad",
          "bad",
          "bad",
          "bad",
          "bad",
          "bad",
          "bad",
          "bad",
          "bad",
          "bad",
          "bad",
          "bad",
          "bad",
          "bad",
          "bad",
          "bad",
          "bad",
          "bad",
          "bad",
          "bad",
          "bad",
          "bad",
          "bad",
          "bad",
          "bad",
          "bad",
          "bad",
          "bad",
          "bad",
          "bad",
          "bad",
          "bad",
          "bad",
          "bad",
          "bad",
          "bad",
          "bad",
          "bad",
          "bad",
          "bad",
          "bad",
          "bad",
          "bad",
          "bad",
          "bad",
          "bad",
          "bad",
          "bad",
          "bad",
          "bad",
          "bad",
          "bad",
          "bad",
          "bad",
          "bad",
          "bad",
          "bad",
          "bad",
          "bad",
          "bad",
          "bad",
          "bad",
          "bad",
          "bad",
          "bad",
          "bad",
          "bad",
          "bad",
          "bad",
          "bad",
          "bad",
          "bad",
          "bad",
          "bad",
          "bad",
          "bad",
          "bad",
          "bad",
          "bad",
          "bad",
          "bad",
          "bad",
          "bad",
          "bad",
          "bad",
          "bad",
          "bad",
          "bad",
          "bad",
          "bad",
          "bad",
          "bad",
          "bad",
          "bad",
          "bad",
          "bad",
          "bad",
          "bad",
          "bad",
          "bad",
          "bad",
          "bad",
          "bad",
          "bad",
          "bad",
          "bad",
          "bad",
          "bad",
          "bad",
          "bad",
          "bad",
          "bad",
          "bad",
          "bad",
          "bad",
          "bad",
          "bad",
          "bad",
          "bad",
          "bad",
          "bad",
          "bad",
          "bad",
          "bad",
          "bad",
          "bad",
          "bad",
          "bad",
          "bad",
          "bad",
          "bad",
          "bad",
          "bad",
          "bad",
          "bad",
          "bad",
          "bad",
          "bad",
          "bad",
          "bad",
          "bad",
          "bad",
          "bad",
          "bad",
          "bad",
          "bad",
          "bad",
          "bad",
          "bad",
          "bad",
          "bad",
          "bad",
          "bad",
          "bad",
          "bad",
          "bad",
          "bad",
          "bad",
          "bad",
          "bad",
          "bad",
          "bad",
          "bad",
          "bad",
          "bad",
          "bad",
          "bad",
          "bad",
          "bad",
          "bad",
          "bad",
          "bad",
          "bad",
          "bad",
          "bad",
          "bad",
          "bad",
          "bad",
          "bad",
          "bad",
          "bad",
          "bad",
          "bad",
          "bad",
          "bad",
          "bad",
          "bad",
          "bad",
          "bad",
          "bad",
          "bad",
          "bad",
          "bad",
          "bad",
          "bad",
          "bad",
          "bad",
          "bad",
          "bad",
          "bad",
          "bad",
          "bad",
          "bad",
          "bad",
          "bad",
          "bad",
          "bad",
          "bad",
          "bad",
          "bad",
          "bad",
          "bad",
          "bad",
          "bad",
          "bad",
          "bad",
          "bad",
          "bad",
          "bad",
          "bad",
          "bad",
          "bad",
          "bad",
          "bad",
          "bad",
          "bad",
          "bad",
          "bad",
          "bad",
          "bad",
          "bad",
          "bad",
          "bad",
          "bad",
          "bad",
          "bad",
          "bad",
          "bad",
          "bad",
          "bad",
          "bad",
          "bad",
          "bad"
         ],
         "x0": " ",
         "xaxis": "x",
         "y": [
          60,
          48,
          12,
          45,
          12,
          36,
          24,
          36,
          24,
          12,
          12,
          9,
          12,
          24,
          12,
          36,
          15,
          18,
          18,
          21,
          18,
          24,
          24,
          12,
          24,
          36,
          24,
          36,
          48,
          48,
          36,
          18,
          18,
          18,
          15,
          28,
          48,
          24,
          21,
          27,
          36,
          36,
          36,
          30,
          9,
          24,
          36,
          18,
          36,
          24,
          36,
          15,
          48,
          12,
          15,
          18,
          12,
          12,
          48,
          12,
          48,
          12,
          48,
          24,
          36,
          18,
          18,
          12,
          36,
          24,
          18,
          24,
          48,
          24,
          6,
          18,
          12,
          10,
          30,
          18,
          24,
          24,
          21,
          24,
          48,
          48,
          36,
          12,
          24,
          24,
          12,
          36,
          18,
          12,
          21,
          30,
          40,
          48,
          36,
          48,
          30,
          36,
          12,
          24,
          30,
          10,
          24,
          24,
          12,
          12,
          27,
          60,
          36,
          24,
          20,
          48,
          60,
          18,
          18,
          33,
          12,
          15,
          24,
          21,
          27,
          36,
          27,
          12,
          24,
          12,
          48,
          24,
          24,
          12,
          18,
          12,
          12,
          48,
          18,
          6,
          30,
          30,
          12,
          9,
          24,
          9,
          27,
          24,
          36,
          24,
          36,
          9,
          9,
          45,
          18,
          15,
          12,
          45,
          15,
          6,
          6,
          30,
          60,
          60,
          12,
          30,
          24,
          18,
          12,
          12,
          12,
          6,
          16,
          48,
          30,
          24,
          36,
          15,
          6,
          18,
          36,
          14,
          24,
          30,
          60,
          24,
          48,
          12,
          48,
          30,
          10,
          18,
          48,
          9,
          15,
          24,
          24,
          18,
          36,
          12,
          21,
          12,
          42,
          9,
          21,
          24,
          54,
          45,
          36,
          18,
          24,
          12,
          24,
          12,
          18,
          24,
          12,
          12,
          24,
          18,
          18,
          12,
          39,
          18,
          24,
          36,
          18,
          48,
          18,
          9,
          18,
          18,
          24,
          18,
          36,
          48,
          18,
          9,
          48,
          36,
          15,
          12,
          18,
          18,
          15,
          24,
          6,
          48,
          18,
          18,
          8,
          6,
          24,
          36,
          9,
          12,
          24,
          12,
          24,
          9,
          36,
          48,
          9,
          9,
          24,
          24,
          21,
          36,
          24,
          24
         ],
         "y0": " ",
         "yaxis": "y"
        }
       ],
       "layout": {
        "boxmode": "overlay",
        "legend": {
         "title": {
          "text": "class"
         },
         "tracegroupgap": 0
        },
        "margin": {
         "t": 60
        },
        "template": {
         "data": {
          "bar": [
           {
            "error_x": {
             "color": "#2a3f5f"
            },
            "error_y": {
             "color": "#2a3f5f"
            },
            "marker": {
             "line": {
              "color": "#E5ECF6",
              "width": 0.5
             }
            },
            "type": "bar"
           }
          ],
          "barpolar": [
           {
            "marker": {
             "line": {
              "color": "#E5ECF6",
              "width": 0.5
             }
            },
            "type": "barpolar"
           }
          ],
          "carpet": [
           {
            "aaxis": {
             "endlinecolor": "#2a3f5f",
             "gridcolor": "white",
             "linecolor": "white",
             "minorgridcolor": "white",
             "startlinecolor": "#2a3f5f"
            },
            "baxis": {
             "endlinecolor": "#2a3f5f",
             "gridcolor": "white",
             "linecolor": "white",
             "minorgridcolor": "white",
             "startlinecolor": "#2a3f5f"
            },
            "type": "carpet"
           }
          ],
          "choropleth": [
           {
            "colorbar": {
             "outlinewidth": 0,
             "ticks": ""
            },
            "type": "choropleth"
           }
          ],
          "contour": [
           {
            "colorbar": {
             "outlinewidth": 0,
             "ticks": ""
            },
            "colorscale": [
             [
              0,
              "#0d0887"
             ],
             [
              0.1111111111111111,
              "#46039f"
             ],
             [
              0.2222222222222222,
              "#7201a8"
             ],
             [
              0.3333333333333333,
              "#9c179e"
             ],
             [
              0.4444444444444444,
              "#bd3786"
             ],
             [
              0.5555555555555556,
              "#d8576b"
             ],
             [
              0.6666666666666666,
              "#ed7953"
             ],
             [
              0.7777777777777778,
              "#fb9f3a"
             ],
             [
              0.8888888888888888,
              "#fdca26"
             ],
             [
              1,
              "#f0f921"
             ]
            ],
            "type": "contour"
           }
          ],
          "contourcarpet": [
           {
            "colorbar": {
             "outlinewidth": 0,
             "ticks": ""
            },
            "type": "contourcarpet"
           }
          ],
          "heatmap": [
           {
            "colorbar": {
             "outlinewidth": 0,
             "ticks": ""
            },
            "colorscale": [
             [
              0,
              "#0d0887"
             ],
             [
              0.1111111111111111,
              "#46039f"
             ],
             [
              0.2222222222222222,
              "#7201a8"
             ],
             [
              0.3333333333333333,
              "#9c179e"
             ],
             [
              0.4444444444444444,
              "#bd3786"
             ],
             [
              0.5555555555555556,
              "#d8576b"
             ],
             [
              0.6666666666666666,
              "#ed7953"
             ],
             [
              0.7777777777777778,
              "#fb9f3a"
             ],
             [
              0.8888888888888888,
              "#fdca26"
             ],
             [
              1,
              "#f0f921"
             ]
            ],
            "type": "heatmap"
           }
          ],
          "heatmapgl": [
           {
            "colorbar": {
             "outlinewidth": 0,
             "ticks": ""
            },
            "colorscale": [
             [
              0,
              "#0d0887"
             ],
             [
              0.1111111111111111,
              "#46039f"
             ],
             [
              0.2222222222222222,
              "#7201a8"
             ],
             [
              0.3333333333333333,
              "#9c179e"
             ],
             [
              0.4444444444444444,
              "#bd3786"
             ],
             [
              0.5555555555555556,
              "#d8576b"
             ],
             [
              0.6666666666666666,
              "#ed7953"
             ],
             [
              0.7777777777777778,
              "#fb9f3a"
             ],
             [
              0.8888888888888888,
              "#fdca26"
             ],
             [
              1,
              "#f0f921"
             ]
            ],
            "type": "heatmapgl"
           }
          ],
          "histogram": [
           {
            "marker": {
             "colorbar": {
              "outlinewidth": 0,
              "ticks": ""
             }
            },
            "type": "histogram"
           }
          ],
          "histogram2d": [
           {
            "colorbar": {
             "outlinewidth": 0,
             "ticks": ""
            },
            "colorscale": [
             [
              0,
              "#0d0887"
             ],
             [
              0.1111111111111111,
              "#46039f"
             ],
             [
              0.2222222222222222,
              "#7201a8"
             ],
             [
              0.3333333333333333,
              "#9c179e"
             ],
             [
              0.4444444444444444,
              "#bd3786"
             ],
             [
              0.5555555555555556,
              "#d8576b"
             ],
             [
              0.6666666666666666,
              "#ed7953"
             ],
             [
              0.7777777777777778,
              "#fb9f3a"
             ],
             [
              0.8888888888888888,
              "#fdca26"
             ],
             [
              1,
              "#f0f921"
             ]
            ],
            "type": "histogram2d"
           }
          ],
          "histogram2dcontour": [
           {
            "colorbar": {
             "outlinewidth": 0,
             "ticks": ""
            },
            "colorscale": [
             [
              0,
              "#0d0887"
             ],
             [
              0.1111111111111111,
              "#46039f"
             ],
             [
              0.2222222222222222,
              "#7201a8"
             ],
             [
              0.3333333333333333,
              "#9c179e"
             ],
             [
              0.4444444444444444,
              "#bd3786"
             ],
             [
              0.5555555555555556,
              "#d8576b"
             ],
             [
              0.6666666666666666,
              "#ed7953"
             ],
             [
              0.7777777777777778,
              "#fb9f3a"
             ],
             [
              0.8888888888888888,
              "#fdca26"
             ],
             [
              1,
              "#f0f921"
             ]
            ],
            "type": "histogram2dcontour"
           }
          ],
          "mesh3d": [
           {
            "colorbar": {
             "outlinewidth": 0,
             "ticks": ""
            },
            "type": "mesh3d"
           }
          ],
          "parcoords": [
           {
            "line": {
             "colorbar": {
              "outlinewidth": 0,
              "ticks": ""
             }
            },
            "type": "parcoords"
           }
          ],
          "pie": [
           {
            "automargin": true,
            "type": "pie"
           }
          ],
          "scatter": [
           {
            "marker": {
             "colorbar": {
              "outlinewidth": 0,
              "ticks": ""
             }
            },
            "type": "scatter"
           }
          ],
          "scatter3d": [
           {
            "line": {
             "colorbar": {
              "outlinewidth": 0,
              "ticks": ""
             }
            },
            "marker": {
             "colorbar": {
              "outlinewidth": 0,
              "ticks": ""
             }
            },
            "type": "scatter3d"
           }
          ],
          "scattercarpet": [
           {
            "marker": {
             "colorbar": {
              "outlinewidth": 0,
              "ticks": ""
             }
            },
            "type": "scattercarpet"
           }
          ],
          "scattergeo": [
           {
            "marker": {
             "colorbar": {
              "outlinewidth": 0,
              "ticks": ""
             }
            },
            "type": "scattergeo"
           }
          ],
          "scattergl": [
           {
            "marker": {
             "colorbar": {
              "outlinewidth": 0,
              "ticks": ""
             }
            },
            "type": "scattergl"
           }
          ],
          "scattermapbox": [
           {
            "marker": {
             "colorbar": {
              "outlinewidth": 0,
              "ticks": ""
             }
            },
            "type": "scattermapbox"
           }
          ],
          "scatterpolar": [
           {
            "marker": {
             "colorbar": {
              "outlinewidth": 0,
              "ticks": ""
             }
            },
            "type": "scatterpolar"
           }
          ],
          "scatterpolargl": [
           {
            "marker": {
             "colorbar": {
              "outlinewidth": 0,
              "ticks": ""
             }
            },
            "type": "scatterpolargl"
           }
          ],
          "scatterternary": [
           {
            "marker": {
             "colorbar": {
              "outlinewidth": 0,
              "ticks": ""
             }
            },
            "type": "scatterternary"
           }
          ],
          "surface": [
           {
            "colorbar": {
             "outlinewidth": 0,
             "ticks": ""
            },
            "colorscale": [
             [
              0,
              "#0d0887"
             ],
             [
              0.1111111111111111,
              "#46039f"
             ],
             [
              0.2222222222222222,
              "#7201a8"
             ],
             [
              0.3333333333333333,
              "#9c179e"
             ],
             [
              0.4444444444444444,
              "#bd3786"
             ],
             [
              0.5555555555555556,
              "#d8576b"
             ],
             [
              0.6666666666666666,
              "#ed7953"
             ],
             [
              0.7777777777777778,
              "#fb9f3a"
             ],
             [
              0.8888888888888888,
              "#fdca26"
             ],
             [
              1,
              "#f0f921"
             ]
            ],
            "type": "surface"
           }
          ],
          "table": [
           {
            "cells": {
             "fill": {
              "color": "#EBF0F8"
             },
             "line": {
              "color": "white"
             }
            },
            "header": {
             "fill": {
              "color": "#C8D4E3"
             },
             "line": {
              "color": "white"
             }
            },
            "type": "table"
           }
          ]
         },
         "layout": {
          "annotationdefaults": {
           "arrowcolor": "#2a3f5f",
           "arrowhead": 0,
           "arrowwidth": 1
          },
          "autotypenumbers": "strict",
          "coloraxis": {
           "colorbar": {
            "outlinewidth": 0,
            "ticks": ""
           }
          },
          "colorscale": {
           "diverging": [
            [
             0,
             "#8e0152"
            ],
            [
             0.1,
             "#c51b7d"
            ],
            [
             0.2,
             "#de77ae"
            ],
            [
             0.3,
             "#f1b6da"
            ],
            [
             0.4,
             "#fde0ef"
            ],
            [
             0.5,
             "#f7f7f7"
            ],
            [
             0.6,
             "#e6f5d0"
            ],
            [
             0.7,
             "#b8e186"
            ],
            [
             0.8,
             "#7fbc41"
            ],
            [
             0.9,
             "#4d9221"
            ],
            [
             1,
             "#276419"
            ]
           ],
           "sequential": [
            [
             0,
             "#0d0887"
            ],
            [
             0.1111111111111111,
             "#46039f"
            ],
            [
             0.2222222222222222,
             "#7201a8"
            ],
            [
             0.3333333333333333,
             "#9c179e"
            ],
            [
             0.4444444444444444,
             "#bd3786"
            ],
            [
             0.5555555555555556,
             "#d8576b"
            ],
            [
             0.6666666666666666,
             "#ed7953"
            ],
            [
             0.7777777777777778,
             "#fb9f3a"
            ],
            [
             0.8888888888888888,
             "#fdca26"
            ],
            [
             1,
             "#f0f921"
            ]
           ],
           "sequentialminus": [
            [
             0,
             "#0d0887"
            ],
            [
             0.1111111111111111,
             "#46039f"
            ],
            [
             0.2222222222222222,
             "#7201a8"
            ],
            [
             0.3333333333333333,
             "#9c179e"
            ],
            [
             0.4444444444444444,
             "#bd3786"
            ],
            [
             0.5555555555555556,
             "#d8576b"
            ],
            [
             0.6666666666666666,
             "#ed7953"
            ],
            [
             0.7777777777777778,
             "#fb9f3a"
            ],
            [
             0.8888888888888888,
             "#fdca26"
            ],
            [
             1,
             "#f0f921"
            ]
           ]
          },
          "colorway": [
           "#636efa",
           "#EF553B",
           "#00cc96",
           "#ab63fa",
           "#FFA15A",
           "#19d3f3",
           "#FF6692",
           "#B6E880",
           "#FF97FF",
           "#FECB52"
          ],
          "font": {
           "color": "#2a3f5f"
          },
          "geo": {
           "bgcolor": "white",
           "lakecolor": "white",
           "landcolor": "#E5ECF6",
           "showlakes": true,
           "showland": true,
           "subunitcolor": "white"
          },
          "hoverlabel": {
           "align": "left"
          },
          "hovermode": "closest",
          "mapbox": {
           "style": "light"
          },
          "paper_bgcolor": "white",
          "plot_bgcolor": "#E5ECF6",
          "polar": {
           "angularaxis": {
            "gridcolor": "white",
            "linecolor": "white",
            "ticks": ""
           },
           "bgcolor": "#E5ECF6",
           "radialaxis": {
            "gridcolor": "white",
            "linecolor": "white",
            "ticks": ""
           }
          },
          "scene": {
           "xaxis": {
            "backgroundcolor": "#E5ECF6",
            "gridcolor": "white",
            "gridwidth": 2,
            "linecolor": "white",
            "showbackground": true,
            "ticks": "",
            "zerolinecolor": "white"
           },
           "yaxis": {
            "backgroundcolor": "#E5ECF6",
            "gridcolor": "white",
            "gridwidth": 2,
            "linecolor": "white",
            "showbackground": true,
            "ticks": "",
            "zerolinecolor": "white"
           },
           "zaxis": {
            "backgroundcolor": "#E5ECF6",
            "gridcolor": "white",
            "gridwidth": 2,
            "linecolor": "white",
            "showbackground": true,
            "ticks": "",
            "zerolinecolor": "white"
           }
          },
          "shapedefaults": {
           "line": {
            "color": "#2a3f5f"
           }
          },
          "ternary": {
           "aaxis": {
            "gridcolor": "white",
            "linecolor": "white",
            "ticks": ""
           },
           "baxis": {
            "gridcolor": "white",
            "linecolor": "white",
            "ticks": ""
           },
           "bgcolor": "#E5ECF6",
           "caxis": {
            "gridcolor": "white",
            "linecolor": "white",
            "ticks": ""
           }
          },
          "title": {
           "x": 0.05
          },
          "xaxis": {
           "automargin": true,
           "gridcolor": "white",
           "linecolor": "white",
           "ticks": "",
           "title": {
            "standoff": 15
           },
           "zerolinecolor": "white",
           "zerolinewidth": 2
          },
          "yaxis": {
           "automargin": true,
           "gridcolor": "white",
           "linecolor": "white",
           "ticks": "",
           "title": {
            "standoff": 15
           },
           "zerolinecolor": "white",
           "zerolinewidth": 2
          }
         }
        },
        "title": {
         "text": "Classe Vs Duração do Empréstimo em Meses",
         "x": 0.5,
         "xanchor": "center",
         "y": 0.95,
         "yanchor": "top"
        },
        "xaxis": {
         "anchor": "y",
         "categoryarray": [
          "good",
          "bad"
         ],
         "categoryorder": "array",
         "domain": [
          0,
          1
         ],
         "title": {
          "text": "Bom/Mau Pagador"
         }
        },
        "yaxis": {
         "anchor": "x",
         "domain": [
          0,
          1
         ],
         "title": {
          "text": "Duração do Empréstimo em Meses"
         }
        }
       }
      },
      "text/html": [
       "<div>                            <div id=\"99d349d2-7740-41b8-8d6c-9263a02fb1ed\" class=\"plotly-graph-div\" style=\"height:525px; width:100%;\"></div>            <script type=\"text/javascript\">                require([\"plotly\"], function(Plotly) {                    window.PLOTLYENV=window.PLOTLYENV || {};                                    if (document.getElementById(\"99d349d2-7740-41b8-8d6c-9263a02fb1ed\")) {                    Plotly.newPlot(                        \"99d349d2-7740-41b8-8d6c-9263a02fb1ed\",                        [{\"alignmentgroup\": \"True\", \"hovertemplate\": \"class=%{x}<br>duration=%{y}<extra></extra>\", \"legendgroup\": \"good\", \"marker\": {\"color\": \"#636efa\"}, \"name\": \"good\", \"notched\": false, \"offsetgroup\": \"good\", \"orientation\": \"v\", \"showlegend\": true, \"type\": \"box\", \"x\": [\"good\", \"good\", \"good\", \"good\", \"good\", \"good\", \"good\", \"good\", \"good\", \"good\", \"good\", \"good\", \"good\", \"good\", \"good\", \"good\", \"good\", \"good\", \"good\", \"good\", \"good\", \"good\", \"good\", \"good\", \"good\", \"good\", \"good\", \"good\", \"good\", \"good\", \"good\", \"good\", \"good\", \"good\", \"good\", \"good\", \"good\", \"good\", \"good\", \"good\", \"good\", \"good\", \"good\", \"good\", \"good\", \"good\", \"good\", \"good\", \"good\", \"good\", \"good\", \"good\", \"good\", \"good\", \"good\", \"good\", \"good\", \"good\", \"good\", \"good\", \"good\", \"good\", \"good\", \"good\", \"good\", \"good\", \"good\", \"good\", \"good\", \"good\", \"good\", \"good\", \"good\", \"good\", \"good\", \"good\", \"good\", \"good\", \"good\", \"good\", \"good\", \"good\", \"good\", \"good\", \"good\", \"good\", \"good\", \"good\", \"good\", \"good\", \"good\", \"good\", \"good\", \"good\", \"good\", \"good\", \"good\", \"good\", \"good\", \"good\", \"good\", \"good\", \"good\", \"good\", \"good\", \"good\", \"good\", \"good\", \"good\", \"good\", \"good\", \"good\", \"good\", \"good\", \"good\", \"good\", \"good\", \"good\", \"good\", \"good\", \"good\", \"good\", \"good\", \"good\", \"good\", \"good\", \"good\", \"good\", \"good\", \"good\", \"good\", \"good\", \"good\", \"good\", \"good\", \"good\", \"good\", \"good\", \"good\", \"good\", \"good\", \"good\", \"good\", \"good\", \"good\", \"good\", \"good\", \"good\", \"good\", \"good\", \"good\", \"good\", \"good\", \"good\", \"good\", \"good\", \"good\", \"good\", \"good\", \"good\", \"good\", \"good\", \"good\", \"good\", \"good\", \"good\", \"good\", \"good\", \"good\", \"good\", \"good\", \"good\", \"good\", \"good\", \"good\", \"good\", \"good\", \"good\", \"good\", \"good\", \"good\", \"good\", \"good\", \"good\", \"good\", \"good\", \"good\", \"good\", \"good\", \"good\", \"good\", \"good\", \"good\", \"good\", \"good\", \"good\", \"good\", \"good\", \"good\", \"good\", \"good\", \"good\", \"good\", \"good\", \"good\", \"good\", \"good\", \"good\", \"good\", \"good\", \"good\", \"good\", \"good\", \"good\", \"good\", \"good\", \"good\", \"good\", \"good\", \"good\", \"good\", \"good\", \"good\", \"good\", \"good\", \"good\", \"good\", \"good\", \"good\", \"good\", \"good\", \"good\", \"good\", \"good\", \"good\", \"good\", \"good\", \"good\", \"good\", \"good\", \"good\", \"good\", \"good\", \"good\", \"good\", \"good\", \"good\", \"good\", \"good\", \"good\", \"good\", \"good\", \"good\", \"good\", \"good\", \"good\", \"good\", \"good\", \"good\", \"good\", \"good\", \"good\", \"good\", \"good\", \"good\", \"good\", \"good\", \"good\", \"good\", \"good\", \"good\", \"good\", \"good\", \"good\", \"good\", \"good\", \"good\", \"good\", \"good\", \"good\", \"good\", \"good\", \"good\", \"good\", \"good\", \"good\", \"good\", \"good\", \"good\", \"good\", \"good\", \"good\", \"good\", \"good\", \"good\", \"good\", \"good\", \"good\", \"good\", \"good\", \"good\", \"good\", \"good\", \"good\", \"good\", \"good\", \"good\", \"good\", \"good\", \"good\", \"good\", \"good\", \"good\", \"good\", \"good\", \"good\", \"good\", \"good\", \"good\", \"good\", \"good\", \"good\", \"good\", \"good\", \"good\", \"good\", \"good\", \"good\", \"good\", \"good\", \"good\", \"good\", \"good\", \"good\", \"good\", \"good\", \"good\", \"good\", \"good\", \"good\", \"good\", \"good\", \"good\", \"good\", \"good\", \"good\", \"good\", \"good\", \"good\", \"good\", \"good\", \"good\", \"good\", \"good\", \"good\", \"good\", \"good\", \"good\", \"good\", \"good\", \"good\", \"good\", \"good\", \"good\", \"good\", \"good\", \"good\", \"good\", \"good\", \"good\", \"good\", \"good\", \"good\", \"good\", \"good\", \"good\", \"good\", \"good\", \"good\", \"good\", \"good\", \"good\", \"good\", \"good\", \"good\", \"good\", \"good\", \"good\", \"good\", \"good\", \"good\", \"good\", \"good\", \"good\", \"good\", \"good\", \"good\", \"good\", \"good\", \"good\", \"good\", \"good\", \"good\", \"good\", \"good\", \"good\", \"good\", \"good\", \"good\", \"good\", \"good\", \"good\", \"good\", \"good\", \"good\", \"good\", \"good\", \"good\", \"good\", \"good\", \"good\", \"good\", \"good\", \"good\", \"good\", \"good\", \"good\", \"good\", \"good\", \"good\", \"good\", \"good\", \"good\", \"good\", \"good\", \"good\", \"good\", \"good\", \"good\", \"good\", \"good\", \"good\", \"good\", \"good\", \"good\", \"good\", \"good\", \"good\", \"good\", \"good\", \"good\", \"good\", \"good\", \"good\", \"good\", \"good\", \"good\", \"good\", \"good\", \"good\", \"good\", \"good\", \"good\", \"good\", \"good\", \"good\", \"good\", \"good\", \"good\", \"good\", \"good\", \"good\", \"good\", \"good\", \"good\", \"good\", \"good\", \"good\", \"good\", \"good\", \"good\", \"good\", \"good\", \"good\", \"good\", \"good\", \"good\", \"good\", \"good\", \"good\", \"good\", \"good\", \"good\", \"good\", \"good\", \"good\", \"good\", \"good\", \"good\", \"good\", \"good\", \"good\", \"good\", \"good\", \"good\", \"good\", \"good\", \"good\", \"good\", \"good\", \"good\", \"good\", \"good\", \"good\", \"good\", \"good\", \"good\", \"good\", \"good\", \"good\", \"good\", \"good\", \"good\", \"good\", \"good\", \"good\", \"good\", \"good\", \"good\", \"good\", \"good\", \"good\", \"good\", \"good\", \"good\", \"good\", \"good\", \"good\", \"good\", \"good\", \"good\", \"good\", \"good\", \"good\", \"good\", \"good\", \"good\", \"good\", \"good\", \"good\", \"good\", \"good\", \"good\", \"good\", \"good\", \"good\", \"good\", \"good\", \"good\", \"good\", \"good\", \"good\", \"good\", \"good\", \"good\", \"good\", \"good\", \"good\", \"good\", \"good\", \"good\", \"good\", \"good\", \"good\", \"good\", \"good\", \"good\", \"good\", \"good\", \"good\", \"good\", \"good\", \"good\", \"good\", \"good\", \"good\", \"good\", \"good\", \"good\", \"good\", \"good\", \"good\", \"good\", \"good\", \"good\", \"good\", \"good\", \"good\", \"good\", \"good\", \"good\", \"good\", \"good\", \"good\", \"good\", \"good\", \"good\", \"good\", \"good\", \"good\", \"good\", \"good\", \"good\", \"good\", \"good\", \"good\", \"good\", \"good\", \"good\", \"good\", \"good\", \"good\", \"good\", \"good\", \"good\", \"good\", \"good\", \"good\", \"good\", \"good\"], \"x0\": \" \", \"xaxis\": \"x\", \"y\": [12, 42, 36, 36, 30, 12, 30, 14, 36, 24, 12, 30, 24, 12, 18, 12, 24, 24, 36, 12, 12, 12, 48, 24, 18, 24, 6, 48, 30, 24, 10, 12, 12, 5, 4, 18, 15, 18, 6, 9, 24, 10, 21, 12, 24, 24, 12, 12, 12, 36, 24, 6, 30, 42, 10, 30, 30, 36, 21, 6, 21, 15, 18, 30, 20, 6, 42, 18, 12, 21, 24, 24, 48, 36, 12, 36, 12, 24, 12, 18, 9, 13, 36, 12, 15, 6, 39, 6, 48, 48, 60, 6, 24, 6, 24, 24, 12, 24, 20, 24, 6, 12, 9, 22, 12, 10, 21, 6, 12, 24, 6, 15, 10, 6, 6, 12, 36, 6, 9, 36, 12, 27, 10, 24, 12, 15, 24, 9, 15, 42, 24, 24, 24, 6, 15, 15, 24, 6, 27, 16, 12, 24, 9, 24, 30, 18, 24, 6, 24, 12, 21, 48, 24, 15, 48, 24, 42, 12, 18, 12, 12, 15, 18, 9, 6, 6, 18, 18, 13, 60, 8, 18, 24, 6, 27, 6, 9, 20, 9, 48, 30, 10, 33, 11, 48, 27, 21, 9, 12, 36, 12, 15, 12, 24, 21, 24, 24, 12, 24, 24, 24, 20, 15, 18, 9, 18, 15, 6, 18, 18, 11, 12, 12, 15, 24, 30, 24, 12, 24, 12, 7, 12, 60, 22, 24, 18, 24, 27, 24, 24, 15, 6, 15, 12, 6, 36, 18, 11, 24, 6, 24, 24, 9, 36, 7, 24, 6, 27, 12, 12, 10, 12, 24, 24, 11, 24, 60, 18, 8, 12, 42, 18, 24, 11, 48, 10, 12, 15, 24, 24, 15, 10, 12, 12, 6, 18, 12, 12, 24, 24, 12, 12, 36, 12, 18, 12, 15, 48, 36, 30, 6, 28, 21, 12, 24, 21, 12, 12, 15, 30, 18, 4, 7, 12, 24, 15, 36, 24, 24, 36, 12, 6, 21, 9, 15, 18, 24, 18, 12, 36, 24, 18, 24, 24, 12, 18, 15, 9, 12, 6, 6, 6, 27, 24, 15, 12, 9, 18, 12, 30, 6, 36, 28, 13, 21, 9, 12, 18, 8, 15, 6, 12, 18, 15, 12, 10, 36, 18, 12, 12, 24, 6, 12, 6, 12, 10, 24, 42, 24, 18, 24, 21, 6, 15, 24, 12, 6, 12, 9, 20, 24, 6, 12, 6, 30, 48, 12, 15, 12, 24, 6, 21, 30, 15, 15, 18, 36, 10, 12, 9, 12, 9, 12, 12, 21, 36, 6, 12, 36, 12, 12, 12, 15, 14, 24, 30, 12, 18, 36, 6, 24, 10, 6, 36, 36, 18, 24, 12, 6, 12, 24, 12, 12, 15, 24, 24, 18, 39, 10, 6, 36, 6, 24, 10, 47, 30, 15, 6, 24, 18, 12, 15, 10, 12, 18, 24, 36, 15, 18, 18, 9, 21, 24, 18, 20, 24, 14, 30, 12, 24, 24, 10, 15, 18, 18, 24, 6, 9, 36, 24, 18, 36, 6, 18, 6, 12, 12, 11, 39, 9, 24, 60, 15, 30, 36, 6, 15, 9, 24, 18, 15, 24, 24, 24, 10, 15, 18, 36, 24, 12, 24, 12, 12, 6, 15, 6, 12, 12, 11, 18, 24, 6, 36, 4, 33, 12, 18, 36, 36, 48, 11, 12, 36, 36, 24, 12, 4, 36, 24, 15, 9, 18, 24, 12, 24, 10, 24, 24, 45, 12, 24, 24, 36, 9, 24, 18, 12, 36, 12, 48, 8, 48, 6, 9, 18, 9, 36, 36, 24, 18, 4, 12, 12, 15, 18, 18, 15, 24, 15, 24, 48, 21, 12, 11, 30, 9, 36, 36, 48, 9, 18, 15, 13, 18, 18, 48, 24, 15, 12, 15, 10, 18, 15, 12, 24, 24, 36, 9, 9, 12, 24, 6, 30, 6, 24, 21, 7, 12, 8, 18, 12, 30, 6, 18, 8, 7, 18, 48, 6, 12], \"y0\": \" \", \"yaxis\": \"y\"}, {\"alignmentgroup\": \"True\", \"hovertemplate\": \"class=%{x}<br>duration=%{y}<extra></extra>\", \"legendgroup\": \"bad\", \"marker\": {\"color\": \"#EF553B\"}, \"name\": \"bad\", \"notched\": false, \"offsetgroup\": \"bad\", \"orientation\": \"v\", \"showlegend\": true, \"type\": \"box\", \"x\": [\"bad\", \"bad\", \"bad\", \"bad\", \"bad\", \"bad\", \"bad\", \"bad\", \"bad\", \"bad\", \"bad\", \"bad\", \"bad\", \"bad\", \"bad\", \"bad\", \"bad\", \"bad\", \"bad\", \"bad\", \"bad\", \"bad\", \"bad\", \"bad\", \"bad\", \"bad\", \"bad\", \"bad\", \"bad\", \"bad\", \"bad\", \"bad\", \"bad\", \"bad\", \"bad\", \"bad\", \"bad\", \"bad\", \"bad\", \"bad\", \"bad\", \"bad\", \"bad\", \"bad\", \"bad\", \"bad\", \"bad\", \"bad\", \"bad\", \"bad\", \"bad\", \"bad\", \"bad\", \"bad\", \"bad\", \"bad\", \"bad\", \"bad\", \"bad\", \"bad\", \"bad\", \"bad\", \"bad\", \"bad\", \"bad\", \"bad\", \"bad\", \"bad\", \"bad\", \"bad\", \"bad\", \"bad\", \"bad\", \"bad\", \"bad\", \"bad\", \"bad\", \"bad\", \"bad\", \"bad\", \"bad\", \"bad\", \"bad\", \"bad\", \"bad\", \"bad\", \"bad\", \"bad\", \"bad\", \"bad\", \"bad\", \"bad\", \"bad\", \"bad\", \"bad\", \"bad\", \"bad\", \"bad\", \"bad\", \"bad\", \"bad\", \"bad\", \"bad\", \"bad\", \"bad\", \"bad\", \"bad\", \"bad\", \"bad\", \"bad\", \"bad\", \"bad\", \"bad\", \"bad\", \"bad\", \"bad\", \"bad\", \"bad\", \"bad\", \"bad\", \"bad\", \"bad\", \"bad\", \"bad\", \"bad\", \"bad\", \"bad\", \"bad\", \"bad\", \"bad\", \"bad\", \"bad\", \"bad\", \"bad\", \"bad\", \"bad\", \"bad\", \"bad\", \"bad\", \"bad\", \"bad\", \"bad\", \"bad\", \"bad\", \"bad\", \"bad\", \"bad\", \"bad\", \"bad\", \"bad\", \"bad\", \"bad\", \"bad\", \"bad\", \"bad\", \"bad\", \"bad\", \"bad\", \"bad\", \"bad\", \"bad\", \"bad\", \"bad\", \"bad\", \"bad\", \"bad\", \"bad\", \"bad\", \"bad\", \"bad\", \"bad\", \"bad\", \"bad\", \"bad\", \"bad\", \"bad\", \"bad\", \"bad\", \"bad\", \"bad\", \"bad\", \"bad\", \"bad\", \"bad\", \"bad\", \"bad\", \"bad\", \"bad\", \"bad\", \"bad\", \"bad\", \"bad\", \"bad\", \"bad\", \"bad\", \"bad\", \"bad\", \"bad\", \"bad\", \"bad\", \"bad\", \"bad\", \"bad\", \"bad\", \"bad\", \"bad\", \"bad\", \"bad\", \"bad\", \"bad\", \"bad\", \"bad\", \"bad\", \"bad\", \"bad\", \"bad\", \"bad\", \"bad\", \"bad\", \"bad\", \"bad\", \"bad\", \"bad\", \"bad\", \"bad\", \"bad\", \"bad\", \"bad\", \"bad\", \"bad\", \"bad\", \"bad\", \"bad\", \"bad\", \"bad\", \"bad\", \"bad\", \"bad\", \"bad\", \"bad\", \"bad\", \"bad\", \"bad\", \"bad\", \"bad\", \"bad\", \"bad\", \"bad\", \"bad\", \"bad\", \"bad\", \"bad\", \"bad\", \"bad\", \"bad\", \"bad\", \"bad\", \"bad\", \"bad\", \"bad\", \"bad\", \"bad\", \"bad\", \"bad\", \"bad\", \"bad\", \"bad\", \"bad\", \"bad\", \"bad\"], \"x0\": \" \", \"xaxis\": \"x\", \"y\": [60, 48, 12, 45, 12, 36, 24, 36, 24, 12, 12, 9, 12, 24, 12, 36, 15, 18, 18, 21, 18, 24, 24, 12, 24, 36, 24, 36, 48, 48, 36, 18, 18, 18, 15, 28, 48, 24, 21, 27, 36, 36, 36, 30, 9, 24, 36, 18, 36, 24, 36, 15, 48, 12, 15, 18, 12, 12, 48, 12, 48, 12, 48, 24, 36, 18, 18, 12, 36, 24, 18, 24, 48, 24, 6, 18, 12, 10, 30, 18, 24, 24, 21, 24, 48, 48, 36, 12, 24, 24, 12, 36, 18, 12, 21, 30, 40, 48, 36, 48, 30, 36, 12, 24, 30, 10, 24, 24, 12, 12, 27, 60, 36, 24, 20, 48, 60, 18, 18, 33, 12, 15, 24, 21, 27, 36, 27, 12, 24, 12, 48, 24, 24, 12, 18, 12, 12, 48, 18, 6, 30, 30, 12, 9, 24, 9, 27, 24, 36, 24, 36, 9, 9, 45, 18, 15, 12, 45, 15, 6, 6, 30, 60, 60, 12, 30, 24, 18, 12, 12, 12, 6, 16, 48, 30, 24, 36, 15, 6, 18, 36, 14, 24, 30, 60, 24, 48, 12, 48, 30, 10, 18, 48, 9, 15, 24, 24, 18, 36, 12, 21, 12, 42, 9, 21, 24, 54, 45, 36, 18, 24, 12, 24, 12, 18, 24, 12, 12, 24, 18, 18, 12, 39, 18, 24, 36, 18, 48, 18, 9, 18, 18, 24, 18, 36, 48, 18, 9, 48, 36, 15, 12, 18, 18, 15, 24, 6, 48, 18, 18, 8, 6, 24, 36, 9, 12, 24, 12, 24, 9, 36, 48, 9, 9, 24, 24, 21, 36, 24, 24], \"y0\": \" \", \"yaxis\": \"y\"}],                        {\"boxmode\": \"overlay\", \"legend\": {\"title\": {\"text\": \"class\"}, \"tracegroupgap\": 0}, \"margin\": {\"t\": 60}, \"template\": {\"data\": {\"bar\": [{\"error_x\": {\"color\": \"#2a3f5f\"}, \"error_y\": {\"color\": \"#2a3f5f\"}, \"marker\": {\"line\": {\"color\": \"#E5ECF6\", \"width\": 0.5}}, \"type\": \"bar\"}], \"barpolar\": [{\"marker\": {\"line\": {\"color\": \"#E5ECF6\", \"width\": 0.5}}, \"type\": \"barpolar\"}], \"carpet\": [{\"aaxis\": {\"endlinecolor\": \"#2a3f5f\", \"gridcolor\": \"white\", \"linecolor\": \"white\", \"minorgridcolor\": \"white\", \"startlinecolor\": \"#2a3f5f\"}, \"baxis\": {\"endlinecolor\": \"#2a3f5f\", \"gridcolor\": \"white\", \"linecolor\": \"white\", \"minorgridcolor\": \"white\", \"startlinecolor\": \"#2a3f5f\"}, \"type\": \"carpet\"}], \"choropleth\": [{\"colorbar\": {\"outlinewidth\": 0, \"ticks\": \"\"}, \"type\": \"choropleth\"}], \"contour\": [{\"colorbar\": {\"outlinewidth\": 0, \"ticks\": \"\"}, \"colorscale\": [[0.0, \"#0d0887\"], [0.1111111111111111, \"#46039f\"], [0.2222222222222222, \"#7201a8\"], [0.3333333333333333, \"#9c179e\"], [0.4444444444444444, \"#bd3786\"], [0.5555555555555556, \"#d8576b\"], [0.6666666666666666, \"#ed7953\"], [0.7777777777777778, \"#fb9f3a\"], [0.8888888888888888, \"#fdca26\"], [1.0, \"#f0f921\"]], \"type\": \"contour\"}], \"contourcarpet\": [{\"colorbar\": {\"outlinewidth\": 0, \"ticks\": \"\"}, \"type\": \"contourcarpet\"}], \"heatmap\": [{\"colorbar\": {\"outlinewidth\": 0, \"ticks\": \"\"}, \"colorscale\": [[0.0, \"#0d0887\"], [0.1111111111111111, \"#46039f\"], [0.2222222222222222, \"#7201a8\"], [0.3333333333333333, \"#9c179e\"], [0.4444444444444444, \"#bd3786\"], [0.5555555555555556, \"#d8576b\"], [0.6666666666666666, \"#ed7953\"], [0.7777777777777778, \"#fb9f3a\"], [0.8888888888888888, \"#fdca26\"], [1.0, \"#f0f921\"]], \"type\": \"heatmap\"}], \"heatmapgl\": [{\"colorbar\": {\"outlinewidth\": 0, \"ticks\": \"\"}, \"colorscale\": [[0.0, \"#0d0887\"], [0.1111111111111111, \"#46039f\"], [0.2222222222222222, \"#7201a8\"], [0.3333333333333333, \"#9c179e\"], [0.4444444444444444, \"#bd3786\"], [0.5555555555555556, \"#d8576b\"], [0.6666666666666666, \"#ed7953\"], [0.7777777777777778, \"#fb9f3a\"], [0.8888888888888888, \"#fdca26\"], [1.0, \"#f0f921\"]], \"type\": \"heatmapgl\"}], \"histogram\": [{\"marker\": {\"colorbar\": {\"outlinewidth\": 0, \"ticks\": \"\"}}, \"type\": \"histogram\"}], \"histogram2d\": [{\"colorbar\": {\"outlinewidth\": 0, \"ticks\": \"\"}, \"colorscale\": [[0.0, \"#0d0887\"], [0.1111111111111111, \"#46039f\"], [0.2222222222222222, \"#7201a8\"], [0.3333333333333333, \"#9c179e\"], [0.4444444444444444, \"#bd3786\"], [0.5555555555555556, \"#d8576b\"], [0.6666666666666666, \"#ed7953\"], [0.7777777777777778, \"#fb9f3a\"], [0.8888888888888888, \"#fdca26\"], [1.0, \"#f0f921\"]], \"type\": \"histogram2d\"}], \"histogram2dcontour\": [{\"colorbar\": {\"outlinewidth\": 0, \"ticks\": \"\"}, \"colorscale\": [[0.0, \"#0d0887\"], [0.1111111111111111, \"#46039f\"], [0.2222222222222222, \"#7201a8\"], [0.3333333333333333, \"#9c179e\"], [0.4444444444444444, \"#bd3786\"], [0.5555555555555556, \"#d8576b\"], [0.6666666666666666, \"#ed7953\"], [0.7777777777777778, \"#fb9f3a\"], [0.8888888888888888, \"#fdca26\"], [1.0, \"#f0f921\"]], \"type\": \"histogram2dcontour\"}], \"mesh3d\": [{\"colorbar\": {\"outlinewidth\": 0, \"ticks\": \"\"}, \"type\": \"mesh3d\"}], \"parcoords\": [{\"line\": {\"colorbar\": {\"outlinewidth\": 0, \"ticks\": \"\"}}, \"type\": \"parcoords\"}], \"pie\": [{\"automargin\": true, \"type\": \"pie\"}], \"scatter\": [{\"marker\": {\"colorbar\": {\"outlinewidth\": 0, \"ticks\": \"\"}}, \"type\": \"scatter\"}], \"scatter3d\": [{\"line\": {\"colorbar\": {\"outlinewidth\": 0, \"ticks\": \"\"}}, \"marker\": {\"colorbar\": {\"outlinewidth\": 0, \"ticks\": \"\"}}, \"type\": \"scatter3d\"}], \"scattercarpet\": [{\"marker\": {\"colorbar\": {\"outlinewidth\": 0, \"ticks\": \"\"}}, \"type\": \"scattercarpet\"}], \"scattergeo\": [{\"marker\": {\"colorbar\": {\"outlinewidth\": 0, \"ticks\": \"\"}}, \"type\": \"scattergeo\"}], \"scattergl\": [{\"marker\": {\"colorbar\": {\"outlinewidth\": 0, \"ticks\": \"\"}}, \"type\": \"scattergl\"}], \"scattermapbox\": [{\"marker\": {\"colorbar\": {\"outlinewidth\": 0, \"ticks\": \"\"}}, \"type\": \"scattermapbox\"}], \"scatterpolar\": [{\"marker\": {\"colorbar\": {\"outlinewidth\": 0, \"ticks\": \"\"}}, \"type\": \"scatterpolar\"}], \"scatterpolargl\": [{\"marker\": {\"colorbar\": {\"outlinewidth\": 0, \"ticks\": \"\"}}, \"type\": \"scatterpolargl\"}], \"scatterternary\": [{\"marker\": {\"colorbar\": {\"outlinewidth\": 0, \"ticks\": \"\"}}, \"type\": \"scatterternary\"}], \"surface\": [{\"colorbar\": {\"outlinewidth\": 0, \"ticks\": \"\"}, \"colorscale\": [[0.0, \"#0d0887\"], [0.1111111111111111, \"#46039f\"], [0.2222222222222222, \"#7201a8\"], [0.3333333333333333, \"#9c179e\"], [0.4444444444444444, \"#bd3786\"], [0.5555555555555556, \"#d8576b\"], [0.6666666666666666, \"#ed7953\"], [0.7777777777777778, \"#fb9f3a\"], [0.8888888888888888, \"#fdca26\"], [1.0, \"#f0f921\"]], \"type\": \"surface\"}], \"table\": [{\"cells\": {\"fill\": {\"color\": \"#EBF0F8\"}, \"line\": {\"color\": \"white\"}}, \"header\": {\"fill\": {\"color\": \"#C8D4E3\"}, \"line\": {\"color\": \"white\"}}, \"type\": \"table\"}]}, \"layout\": {\"annotationdefaults\": {\"arrowcolor\": \"#2a3f5f\", \"arrowhead\": 0, \"arrowwidth\": 1}, \"autotypenumbers\": \"strict\", \"coloraxis\": {\"colorbar\": {\"outlinewidth\": 0, \"ticks\": \"\"}}, \"colorscale\": {\"diverging\": [[0, \"#8e0152\"], [0.1, \"#c51b7d\"], [0.2, \"#de77ae\"], [0.3, \"#f1b6da\"], [0.4, \"#fde0ef\"], [0.5, \"#f7f7f7\"], [0.6, \"#e6f5d0\"], [0.7, \"#b8e186\"], [0.8, \"#7fbc41\"], [0.9, \"#4d9221\"], [1, \"#276419\"]], \"sequential\": [[0.0, \"#0d0887\"], [0.1111111111111111, \"#46039f\"], [0.2222222222222222, \"#7201a8\"], [0.3333333333333333, \"#9c179e\"], [0.4444444444444444, \"#bd3786\"], [0.5555555555555556, \"#d8576b\"], [0.6666666666666666, \"#ed7953\"], [0.7777777777777778, \"#fb9f3a\"], [0.8888888888888888, \"#fdca26\"], [1.0, \"#f0f921\"]], \"sequentialminus\": [[0.0, \"#0d0887\"], [0.1111111111111111, \"#46039f\"], [0.2222222222222222, \"#7201a8\"], [0.3333333333333333, \"#9c179e\"], [0.4444444444444444, \"#bd3786\"], [0.5555555555555556, \"#d8576b\"], [0.6666666666666666, \"#ed7953\"], [0.7777777777777778, \"#fb9f3a\"], [0.8888888888888888, \"#fdca26\"], [1.0, \"#f0f921\"]]}, \"colorway\": [\"#636efa\", \"#EF553B\", \"#00cc96\", \"#ab63fa\", \"#FFA15A\", \"#19d3f3\", \"#FF6692\", \"#B6E880\", \"#FF97FF\", \"#FECB52\"], \"font\": {\"color\": \"#2a3f5f\"}, \"geo\": {\"bgcolor\": \"white\", \"lakecolor\": \"white\", \"landcolor\": \"#E5ECF6\", \"showlakes\": true, \"showland\": true, \"subunitcolor\": \"white\"}, \"hoverlabel\": {\"align\": \"left\"}, \"hovermode\": \"closest\", \"mapbox\": {\"style\": \"light\"}, \"paper_bgcolor\": \"white\", \"plot_bgcolor\": \"#E5ECF6\", \"polar\": {\"angularaxis\": {\"gridcolor\": \"white\", \"linecolor\": \"white\", \"ticks\": \"\"}, \"bgcolor\": \"#E5ECF6\", \"radialaxis\": {\"gridcolor\": \"white\", \"linecolor\": \"white\", \"ticks\": \"\"}}, \"scene\": {\"xaxis\": {\"backgroundcolor\": \"#E5ECF6\", \"gridcolor\": \"white\", \"gridwidth\": 2, \"linecolor\": \"white\", \"showbackground\": true, \"ticks\": \"\", \"zerolinecolor\": \"white\"}, \"yaxis\": {\"backgroundcolor\": \"#E5ECF6\", \"gridcolor\": \"white\", \"gridwidth\": 2, \"linecolor\": \"white\", \"showbackground\": true, \"ticks\": \"\", \"zerolinecolor\": \"white\"}, \"zaxis\": {\"backgroundcolor\": \"#E5ECF6\", \"gridcolor\": \"white\", \"gridwidth\": 2, \"linecolor\": \"white\", \"showbackground\": true, \"ticks\": \"\", \"zerolinecolor\": \"white\"}}, \"shapedefaults\": {\"line\": {\"color\": \"#2a3f5f\"}}, \"ternary\": {\"aaxis\": {\"gridcolor\": \"white\", \"linecolor\": \"white\", \"ticks\": \"\"}, \"baxis\": {\"gridcolor\": \"white\", \"linecolor\": \"white\", \"ticks\": \"\"}, \"bgcolor\": \"#E5ECF6\", \"caxis\": {\"gridcolor\": \"white\", \"linecolor\": \"white\", \"ticks\": \"\"}}, \"title\": {\"x\": 0.05}, \"xaxis\": {\"automargin\": true, \"gridcolor\": \"white\", \"linecolor\": \"white\", \"ticks\": \"\", \"title\": {\"standoff\": 15}, \"zerolinecolor\": \"white\", \"zerolinewidth\": 2}, \"yaxis\": {\"automargin\": true, \"gridcolor\": \"white\", \"linecolor\": \"white\", \"ticks\": \"\", \"title\": {\"standoff\": 15}, \"zerolinecolor\": \"white\", \"zerolinewidth\": 2}}}, \"title\": {\"text\": \"Classe Vs Dura\\u00e7\\u00e3o do Empr\\u00e9stimo em Meses\", \"x\": 0.5, \"xanchor\": \"center\", \"y\": 0.95, \"yanchor\": \"top\"}, \"xaxis\": {\"anchor\": \"y\", \"categoryarray\": [\"good\", \"bad\"], \"categoryorder\": \"array\", \"domain\": [0.0, 1.0], \"title\": {\"text\": \"Bom/Mau Pagador\"}}, \"yaxis\": {\"anchor\": \"x\", \"domain\": [0.0, 1.0], \"title\": {\"text\": \"Dura\\u00e7\\u00e3o do Empr\\u00e9stimo em Meses\"}}},                        {\"responsive\": true}                    ).then(function(){\n",
       "                            \n",
       "var gd = document.getElementById('99d349d2-7740-41b8-8d6c-9263a02fb1ed');\n",
       "var x = new MutationObserver(function (mutations, observer) {{\n",
       "        var display = window.getComputedStyle(gd).display;\n",
       "        if (!display || display === 'none') {{\n",
       "            console.log([gd, 'removed!']);\n",
       "            Plotly.purge(gd);\n",
       "            observer.disconnect();\n",
       "        }}\n",
       "}});\n",
       "\n",
       "// Listen for the removal of the full notebook cells\n",
       "var notebookContainer = gd.closest('#notebook-container');\n",
       "if (notebookContainer) {{\n",
       "    x.observe(notebookContainer, {childList: true});\n",
       "}}\n",
       "\n",
       "// Listen for the clearing of the current output cell\n",
       "var outputEl = gd.closest('.output');\n",
       "if (outputEl) {{\n",
       "    x.observe(outputEl, {childList: true});\n",
       "}}\n",
       "\n",
       "                        })                };                });            </script>        </div>"
      ]
     },
     "metadata": {},
     "output_type": "display_data"
    }
   ],
   "source": [
    "fig = px.box(colunas, x=\"class\", y=\"duration\",color=\"class\")\n",
    "fig.update_layout(\n",
    "    title={'text':\"Classe Vs Duração do Empréstimo em Meses\", 'y':.95,'x':.5, 'xanchor': 'center', 'yanchor': 'top'},\n",
    "    xaxis_title=\"Bom/Mau Pagador\",\n",
    "    yaxis_title=\"Duração do Empréstimo em Meses\")\n",
    "fig.show()"
   ]
  },
  {
   "cell_type": "code",
   "execution_count": 59,
   "id": "considerable-needle",
   "metadata": {},
   "outputs": [
    {
     "data": {
      "application/vnd.plotly.v1+json": {
       "config": {
        "plotlyServerURL": "https://plot.ly"
       },
       "data": [
        {
         "alignmentgroup": "True",
         "hovertemplate": "class=%{x}<br>age=%{y}<extra></extra>",
         "legendgroup": "good",
         "marker": {
          "color": "#636efa"
         },
         "name": "good",
         "notched": false,
         "offsetgroup": "good",
         "orientation": "v",
         "showlegend": true,
         "type": "box",
         "x": [
          "good",
          "good",
          "good",
          "good",
          "good",
          "good",
          "good",
          "good",
          "good",
          "good",
          "good",
          "good",
          "good",
          "good",
          "good",
          "good",
          "good",
          "good",
          "good",
          "good",
          "good",
          "good",
          "good",
          "good",
          "good",
          "good",
          "good",
          "good",
          "good",
          "good",
          "good",
          "good",
          "good",
          "good",
          "good",
          "good",
          "good",
          "good",
          "good",
          "good",
          "good",
          "good",
          "good",
          "good",
          "good",
          "good",
          "good",
          "good",
          "good",
          "good",
          "good",
          "good",
          "good",
          "good",
          "good",
          "good",
          "good",
          "good",
          "good",
          "good",
          "good",
          "good",
          "good",
          "good",
          "good",
          "good",
          "good",
          "good",
          "good",
          "good",
          "good",
          "good",
          "good",
          "good",
          "good",
          "good",
          "good",
          "good",
          "good",
          "good",
          "good",
          "good",
          "good",
          "good",
          "good",
          "good",
          "good",
          "good",
          "good",
          "good",
          "good",
          "good",
          "good",
          "good",
          "good",
          "good",
          "good",
          "good",
          "good",
          "good",
          "good",
          "good",
          "good",
          "good",
          "good",
          "good",
          "good",
          "good",
          "good",
          "good",
          "good",
          "good",
          "good",
          "good",
          "good",
          "good",
          "good",
          "good",
          "good",
          "good",
          "good",
          "good",
          "good",
          "good",
          "good",
          "good",
          "good",
          "good",
          "good",
          "good",
          "good",
          "good",
          "good",
          "good",
          "good",
          "good",
          "good",
          "good",
          "good",
          "good",
          "good",
          "good",
          "good",
          "good",
          "good",
          "good",
          "good",
          "good",
          "good",
          "good",
          "good",
          "good",
          "good",
          "good",
          "good",
          "good",
          "good",
          "good",
          "good",
          "good",
          "good",
          "good",
          "good",
          "good",
          "good",
          "good",
          "good",
          "good",
          "good",
          "good",
          "good",
          "good",
          "good",
          "good",
          "good",
          "good",
          "good",
          "good",
          "good",
          "good",
          "good",
          "good",
          "good",
          "good",
          "good",
          "good",
          "good",
          "good",
          "good",
          "good",
          "good",
          "good",
          "good",
          "good",
          "good",
          "good",
          "good",
          "good",
          "good",
          "good",
          "good",
          "good",
          "good",
          "good",
          "good",
          "good",
          "good",
          "good",
          "good",
          "good",
          "good",
          "good",
          "good",
          "good",
          "good",
          "good",
          "good",
          "good",
          "good",
          "good",
          "good",
          "good",
          "good",
          "good",
          "good",
          "good",
          "good",
          "good",
          "good",
          "good",
          "good",
          "good",
          "good",
          "good",
          "good",
          "good",
          "good",
          "good",
          "good",
          "good",
          "good",
          "good",
          "good",
          "good",
          "good",
          "good",
          "good",
          "good",
          "good",
          "good",
          "good",
          "good",
          "good",
          "good",
          "good",
          "good",
          "good",
          "good",
          "good",
          "good",
          "good",
          "good",
          "good",
          "good",
          "good",
          "good",
          "good",
          "good",
          "good",
          "good",
          "good",
          "good",
          "good",
          "good",
          "good",
          "good",
          "good",
          "good",
          "good",
          "good",
          "good",
          "good",
          "good",
          "good",
          "good",
          "good",
          "good",
          "good",
          "good",
          "good",
          "good",
          "good",
          "good",
          "good",
          "good",
          "good",
          "good",
          "good",
          "good",
          "good",
          "good",
          "good",
          "good",
          "good",
          "good",
          "good",
          "good",
          "good",
          "good",
          "good",
          "good",
          "good",
          "good",
          "good",
          "good",
          "good",
          "good",
          "good",
          "good",
          "good",
          "good",
          "good",
          "good",
          "good",
          "good",
          "good",
          "good",
          "good",
          "good",
          "good",
          "good",
          "good",
          "good",
          "good",
          "good",
          "good",
          "good",
          "good",
          "good",
          "good",
          "good",
          "good",
          "good",
          "good",
          "good",
          "good",
          "good",
          "good",
          "good",
          "good",
          "good",
          "good",
          "good",
          "good",
          "good",
          "good",
          "good",
          "good",
          "good",
          "good",
          "good",
          "good",
          "good",
          "good",
          "good",
          "good",
          "good",
          "good",
          "good",
          "good",
          "good",
          "good",
          "good",
          "good",
          "good",
          "good",
          "good",
          "good",
          "good",
          "good",
          "good",
          "good",
          "good",
          "good",
          "good",
          "good",
          "good",
          "good",
          "good",
          "good",
          "good",
          "good",
          "good",
          "good",
          "good",
          "good",
          "good",
          "good",
          "good",
          "good",
          "good",
          "good",
          "good",
          "good",
          "good",
          "good",
          "good",
          "good",
          "good",
          "good",
          "good",
          "good",
          "good",
          "good",
          "good",
          "good",
          "good",
          "good",
          "good",
          "good",
          "good",
          "good",
          "good",
          "good",
          "good",
          "good",
          "good",
          "good",
          "good",
          "good",
          "good",
          "good",
          "good",
          "good",
          "good",
          "good",
          "good",
          "good",
          "good",
          "good",
          "good",
          "good",
          "good",
          "good",
          "good",
          "good",
          "good",
          "good",
          "good",
          "good",
          "good",
          "good",
          "good",
          "good",
          "good",
          "good",
          "good",
          "good",
          "good",
          "good",
          "good",
          "good",
          "good",
          "good",
          "good",
          "good",
          "good",
          "good",
          "good",
          "good",
          "good",
          "good",
          "good",
          "good",
          "good",
          "good",
          "good",
          "good",
          "good",
          "good",
          "good",
          "good",
          "good",
          "good",
          "good",
          "good",
          "good",
          "good",
          "good",
          "good",
          "good",
          "good",
          "good",
          "good",
          "good",
          "good",
          "good",
          "good",
          "good",
          "good",
          "good",
          "good",
          "good",
          "good",
          "good",
          "good",
          "good",
          "good",
          "good",
          "good",
          "good",
          "good",
          "good",
          "good",
          "good",
          "good",
          "good",
          "good",
          "good",
          "good",
          "good",
          "good",
          "good",
          "good",
          "good",
          "good",
          "good",
          "good",
          "good",
          "good",
          "good",
          "good",
          "good",
          "good",
          "good",
          "good",
          "good",
          "good",
          "good",
          "good",
          "good",
          "good",
          "good",
          "good",
          "good",
          "good",
          "good",
          "good",
          "good",
          "good",
          "good",
          "good",
          "good",
          "good",
          "good",
          "good",
          "good",
          "good",
          "good",
          "good",
          "good",
          "good",
          "good",
          "good",
          "good",
          "good",
          "good",
          "good",
          "good",
          "good",
          "good",
          "good",
          "good",
          "good",
          "good",
          "good",
          "good",
          "good",
          "good",
          "good",
          "good",
          "good",
          "good",
          "good",
          "good",
          "good",
          "good",
          "good",
          "good",
          "good",
          "good",
          "good",
          "good",
          "good",
          "good",
          "good",
          "good",
          "good",
          "good",
          "good",
          "good",
          "good",
          "good",
          "good",
          "good",
          "good",
          "good",
          "good",
          "good",
          "good",
          "good",
          "good",
          "good",
          "good",
          "good",
          "good",
          "good",
          "good",
          "good",
          "good",
          "good",
          "good",
          "good",
          "good",
          "good",
          "good",
          "good",
          "good",
          "good",
          "good"
         ],
         "x0": " ",
         "xaxis": "x",
         "y": [
          27,
          45,
          36,
          37,
          36,
          57,
          25,
          22,
          30,
          38,
          52,
          63,
          37,
          20,
          32,
          23,
          29,
          58,
          30,
          31,
          23,
          45,
          30,
          29,
          28,
          27,
          26,
          30,
          49,
          60,
          35,
          47,
          61,
          74,
          42,
          30,
          24,
          40,
          21,
          49,
          31,
          38,
          26,
          61,
          32,
          26,
          35,
          35,
          29,
          42,
          27,
          24,
          40,
          55,
          52,
          58,
          28,
          37,
          28,
          56,
          28,
          46,
          39,
          38,
          31,
          40,
          41,
          44,
          55,
          65,
          28,
          25,
          36,
          30,
          61,
          39,
          41,
          30,
          26,
          32,
          26,
          28,
          42,
          58,
          23,
          31,
          30,
          28,
          48,
          37,
          42,
          43,
          75,
          24,
          28,
          24,
          38,
          43,
          44,
          33,
          45,
          29,
          48,
          40,
          31,
          31,
          47,
          62,
          56,
          22,
          67,
          47,
          31,
          44,
          39,
          26,
          23,
          52,
          35,
          28,
          30,
          32,
          23,
          36,
          42,
          63,
          48,
          25,
          35,
          29,
          20,
          24,
          22,
          37,
          28,
          43,
          29,
          44,
          27,
          68,
          51,
          64,
          66,
          36,
          24,
          46,
          33,
          36,
          26,
          66,
          24,
          38,
          34,
          20,
          38,
          26,
          33,
          31,
          30,
          39,
          54,
          25,
          23,
          35,
          74,
          37,
          36,
          40,
          23,
          34,
          26,
          38,
          50,
          39,
          43,
          39,
          35,
          29,
          67,
          46,
          57,
          40,
          26,
          51,
          47,
          48,
          30,
          24,
          49,
          34,
          30,
          33,
          49,
          47,
          41,
          40,
          52,
          33,
          25,
          25,
          32,
          39,
          44,
          23,
          41,
          49,
          29,
          45,
          32,
          27,
          20,
          36,
          55,
          23,
          26,
          36,
          36,
          30,
          28,
          36,
          46,
          39,
          63,
          25,
          26,
          42,
          23,
          27,
          29,
          25,
          35,
          36,
          50,
          44,
          36,
          36,
          25,
          36,
          28,
          41,
          74,
          21,
          51,
          37,
          34,
          36,
          27,
          26,
          38,
          29,
          27,
          22,
          30,
          60,
          28,
          34,
          27,
          25,
          39,
          28,
          65,
          28,
          28,
          57,
          31,
          64,
          34,
          23,
          53,
          27,
          23,
          23,
          28,
          21,
          64,
          34,
          42,
          27,
          42,
          54,
          35,
          26,
          45,
          27,
          33,
          49,
          24,
          50,
          30,
          25,
          27,
          29,
          28,
          27,
          26,
          35,
          26,
          31,
          40,
          40,
          28,
          42,
          35,
          37,
          38,
          31,
          27,
          57,
          44,
          28,
          26,
          31,
          26,
          37,
          22,
          30,
          35,
          30,
          63,
          38,
          30,
          34,
          34,
          50,
          43,
          48,
          26,
          27,
          40,
          30,
          30,
          41,
          30,
          43,
          38,
          38,
          30,
          32,
          24,
          32,
          41,
          34,
          40,
          64,
          32,
          36,
          35,
          23,
          44,
          35,
          27,
          24,
          33,
          36,
          66,
          46,
          31,
          43,
          38,
          26,
          33,
          34,
          23,
          34,
          37,
          63,
          57,
          36,
          35,
          67,
          22,
          46,
          39,
          59,
          25,
          37,
          28,
          29,
          25,
          60,
          63,
          33,
          40,
          42,
          26,
          24,
          20,
          27,
          30,
          27,
          52,
          36,
          47,
          22,
          31,
          27,
          31,
          70,
          49,
          64,
          49,
          32,
          65,
          32,
          31,
          24,
          29,
          44,
          46,
          42,
          50,
          32,
          25,
          35,
          48,
          33,
          23,
          32,
          24,
          27,
          35,
          27,
          23,
          34,
          31,
          25,
          32,
          30,
          24,
          39,
          33,
          20,
          28,
          33,
          33,
          26,
          32,
          32,
          32,
          28,
          36,
          50,
          34,
          31,
          35,
          41,
          28,
          75,
          37,
          35,
          24,
          27,
          45,
          38,
          26,
          33,
          40,
          46,
          35,
          34,
          33,
          27,
          41,
          35,
          24,
          43,
          27,
          34,
          37,
          26,
          37,
          49,
          20,
          28,
          22,
          37,
          38,
          52,
          43,
          48,
          47,
          35,
          36,
          45,
          35,
          23,
          19,
          39,
          24,
          59,
          28,
          21,
          30,
          26,
          31,
          26,
          54,
          48,
          36,
          24,
          25,
          41,
          31,
          47,
          37,
          35,
          36,
          30,
          46,
          49,
          63,
          55,
          29,
          46,
          33,
          54,
          23,
          38,
          40,
          46,
          44,
          29,
          32,
          23,
          35,
          36,
          21,
          35,
          39,
          27,
          35,
          34,
          25,
          31,
          27,
          45,
          42,
          36,
          28,
          46,
          26,
          25,
          43,
          42,
          24,
          40,
          29,
          22,
          27,
          52,
          44,
          49,
          54,
          27,
          35,
          21,
          54,
          35,
          52,
          31,
          47,
          32,
          22,
          25,
          24,
          33,
          27,
          51,
          23,
          47,
          37,
          35,
          50,
          27,
          29,
          26,
          36,
          25,
          40,
          41,
          41,
          23,
          49,
          40,
          25,
          31,
          32,
          45,
          26,
          22,
          41,
          36,
          23,
          26,
          36,
          37,
          51,
          47,
          38,
          27,
          48,
          43,
          30,
          43,
          38,
          55,
          29,
          20,
          22,
          27,
          35,
          49,
          30,
          51,
          31,
          36,
          36,
          22,
          33,
          33,
          44,
          38,
          28,
          37,
          51,
          45,
          33,
          35,
          50,
          21
         ],
         "y0": " ",
         "yaxis": "y"
        },
        {
         "alignmentgroup": "True",
         "hovertemplate": "class=%{x}<br>age=%{y}<extra></extra>",
         "legendgroup": "bad",
         "marker": {
          "color": "#EF553B"
         },
         "name": "bad",
         "notched": false,
         "offsetgroup": "bad",
         "orientation": "v",
         "showlegend": true,
         "type": "box",
         "x": [
          "bad",
          "bad",
          "bad",
          "bad",
          "bad",
          "bad",
          "bad",
          "bad",
          "bad",
          "bad",
          "bad",
          "bad",
          "bad",
          "bad",
          "bad",
          "bad",
          "bad",
          "bad",
          "bad",
          "bad",
          "bad",
          "bad",
          "bad",
          "bad",
          "bad",
          "bad",
          "bad",
          "bad",
          "bad",
          "bad",
          "bad",
          "bad",
          "bad",
          "bad",
          "bad",
          "bad",
          "bad",
          "bad",
          "bad",
          "bad",
          "bad",
          "bad",
          "bad",
          "bad",
          "bad",
          "bad",
          "bad",
          "bad",
          "bad",
          "bad",
          "bad",
          "bad",
          "bad",
          "bad",
          "bad",
          "bad",
          "bad",
          "bad",
          "bad",
          "bad",
          "bad",
          "bad",
          "bad",
          "bad",
          "bad",
          "bad",
          "bad",
          "bad",
          "bad",
          "bad",
          "bad",
          "bad",
          "bad",
          "bad",
          "bad",
          "bad",
          "bad",
          "bad",
          "bad",
          "bad",
          "bad",
          "bad",
          "bad",
          "bad",
          "bad",
          "bad",
          "bad",
          "bad",
          "bad",
          "bad",
          "bad",
          "bad",
          "bad",
          "bad",
          "bad",
          "bad",
          "bad",
          "bad",
          "bad",
          "bad",
          "bad",
          "bad",
          "bad",
          "bad",
          "bad",
          "bad",
          "bad",
          "bad",
          "bad",
          "bad",
          "bad",
          "bad",
          "bad",
          "bad",
          "bad",
          "bad",
          "bad",
          "bad",
          "bad",
          "bad",
          "bad",
          "bad",
          "bad",
          "bad",
          "bad",
          "bad",
          "bad",
          "bad",
          "bad",
          "bad",
          "bad",
          "bad",
          "bad",
          "bad",
          "bad",
          "bad",
          "bad",
          "bad",
          "bad",
          "bad",
          "bad",
          "bad",
          "bad",
          "bad",
          "bad",
          "bad",
          "bad",
          "bad",
          "bad",
          "bad",
          "bad",
          "bad",
          "bad",
          "bad",
          "bad",
          "bad",
          "bad",
          "bad",
          "bad",
          "bad",
          "bad",
          "bad",
          "bad",
          "bad",
          "bad",
          "bad",
          "bad",
          "bad",
          "bad",
          "bad",
          "bad",
          "bad",
          "bad",
          "bad",
          "bad",
          "bad",
          "bad",
          "bad",
          "bad",
          "bad",
          "bad",
          "bad",
          "bad",
          "bad",
          "bad",
          "bad",
          "bad",
          "bad",
          "bad",
          "bad",
          "bad",
          "bad",
          "bad",
          "bad",
          "bad",
          "bad",
          "bad",
          "bad",
          "bad",
          "bad",
          "bad",
          "bad",
          "bad",
          "bad",
          "bad",
          "bad",
          "bad",
          "bad",
          "bad",
          "bad",
          "bad",
          "bad",
          "bad",
          "bad",
          "bad",
          "bad",
          "bad",
          "bad",
          "bad",
          "bad",
          "bad",
          "bad",
          "bad",
          "bad",
          "bad",
          "bad",
          "bad",
          "bad",
          "bad",
          "bad",
          "bad",
          "bad",
          "bad",
          "bad",
          "bad",
          "bad",
          "bad",
          "bad",
          "bad",
          "bad",
          "bad",
          "bad",
          "bad",
          "bad",
          "bad",
          "bad",
          "bad",
          "bad",
          "bad",
          "bad",
          "bad",
          "bad",
          "bad",
          "bad",
          "bad",
          "bad",
          "bad",
          "bad",
          "bad",
          "bad",
          "bad",
          "bad",
          "bad",
          "bad",
          "bad",
          "bad",
          "bad",
          "bad",
          "bad",
          "bad"
         ],
         "x0": " ",
         "xaxis": "x",
         "y": [
          36,
          38,
          46,
          21,
          24,
          25,
          25,
          57,
          25,
          25,
          53,
          28,
          46,
          54,
          22,
          47,
          24,
          30,
          36,
          30,
          44,
          48,
          23,
          21,
          25,
          37,
          32,
          26,
          25,
          31,
          24,
          20,
          39,
          68,
          26,
          45,
          59,
          29,
          25,
          42,
          42,
          50,
          23,
          53,
          22,
          45,
          41,
          51,
          23,
          24,
          30,
          61,
          34,
          22,
          28,
          33,
          52,
          36,
          46,
          23,
          37,
          33,
          28,
          31,
          34,
          37,
          33,
          42,
          26,
          36,
          23,
          34,
          39,
          31,
          23,
          32,
          24,
          48,
          28,
          33,
          39,
          44,
          61,
          23,
          32,
          24,
          24,
          53,
          23,
          28,
          33,
          61,
          33,
          28,
          41,
          49,
          27,
          26,
          47,
          53,
          24,
          28,
          26,
          22,
          30,
          27,
          39,
          35,
          23,
          40,
          21,
          42,
          28,
          22,
          33,
          23,
          60,
          23,
          26,
          23,
          48,
          37,
          34,
          29,
          50,
          31,
          36,
          33,
          23,
          25,
          24,
          55,
          31,
          66,
          34,
          27,
          29,
          58,
          23,
          44,
          23,
          31,
          29,
          29,
          31,
          27,
          23,
          53,
          29,
          27,
          57,
          28,
          34,
          25,
          40,
          29,
          26,
          29,
          25,
          32,
          35,
          26,
          24,
          27,
          23,
          66,
          60,
          31,
          20,
          26,
          43,
          32,
          43,
          27,
          31,
          20,
          27,
          33,
          24,
          31,
          29,
          45,
          27,
          34,
          63,
          30,
          50,
          35,
          46,
          28,
          25,
          24,
          24,
          29,
          25,
          20,
          43,
          47,
          31,
          37,
          40,
          37,
          26,
          22,
          33,
          32,
          58,
          23,
          42,
          65,
          37,
          60,
          27,
          57,
          25,
          44,
          35,
          25,
          35,
          24,
          26,
          30,
          25,
          55,
          32,
          26,
          27,
          33,
          32,
          30,
          22,
          36,
          29,
          30,
          27,
          30,
          28,
          34,
          42,
          42,
          39,
          25,
          28,
          22,
          34,
          38,
          68,
          44,
          42,
          38,
          24,
          23,
          23,
          25,
          74,
          20,
          21,
          25,
          24,
          22,
          40,
          54,
          19,
          32,
          29,
          40,
          26,
          26,
          43,
          38
         ],
         "y0": " ",
         "yaxis": "y"
        }
       ],
       "layout": {
        "boxmode": "overlay",
        "legend": {
         "title": {
          "text": "class"
         },
         "tracegroupgap": 0
        },
        "margin": {
         "t": 60
        },
        "template": {
         "data": {
          "bar": [
           {
            "error_x": {
             "color": "#2a3f5f"
            },
            "error_y": {
             "color": "#2a3f5f"
            },
            "marker": {
             "line": {
              "color": "#E5ECF6",
              "width": 0.5
             }
            },
            "type": "bar"
           }
          ],
          "barpolar": [
           {
            "marker": {
             "line": {
              "color": "#E5ECF6",
              "width": 0.5
             }
            },
            "type": "barpolar"
           }
          ],
          "carpet": [
           {
            "aaxis": {
             "endlinecolor": "#2a3f5f",
             "gridcolor": "white",
             "linecolor": "white",
             "minorgridcolor": "white",
             "startlinecolor": "#2a3f5f"
            },
            "baxis": {
             "endlinecolor": "#2a3f5f",
             "gridcolor": "white",
             "linecolor": "white",
             "minorgridcolor": "white",
             "startlinecolor": "#2a3f5f"
            },
            "type": "carpet"
           }
          ],
          "choropleth": [
           {
            "colorbar": {
             "outlinewidth": 0,
             "ticks": ""
            },
            "type": "choropleth"
           }
          ],
          "contour": [
           {
            "colorbar": {
             "outlinewidth": 0,
             "ticks": ""
            },
            "colorscale": [
             [
              0,
              "#0d0887"
             ],
             [
              0.1111111111111111,
              "#46039f"
             ],
             [
              0.2222222222222222,
              "#7201a8"
             ],
             [
              0.3333333333333333,
              "#9c179e"
             ],
             [
              0.4444444444444444,
              "#bd3786"
             ],
             [
              0.5555555555555556,
              "#d8576b"
             ],
             [
              0.6666666666666666,
              "#ed7953"
             ],
             [
              0.7777777777777778,
              "#fb9f3a"
             ],
             [
              0.8888888888888888,
              "#fdca26"
             ],
             [
              1,
              "#f0f921"
             ]
            ],
            "type": "contour"
           }
          ],
          "contourcarpet": [
           {
            "colorbar": {
             "outlinewidth": 0,
             "ticks": ""
            },
            "type": "contourcarpet"
           }
          ],
          "heatmap": [
           {
            "colorbar": {
             "outlinewidth": 0,
             "ticks": ""
            },
            "colorscale": [
             [
              0,
              "#0d0887"
             ],
             [
              0.1111111111111111,
              "#46039f"
             ],
             [
              0.2222222222222222,
              "#7201a8"
             ],
             [
              0.3333333333333333,
              "#9c179e"
             ],
             [
              0.4444444444444444,
              "#bd3786"
             ],
             [
              0.5555555555555556,
              "#d8576b"
             ],
             [
              0.6666666666666666,
              "#ed7953"
             ],
             [
              0.7777777777777778,
              "#fb9f3a"
             ],
             [
              0.8888888888888888,
              "#fdca26"
             ],
             [
              1,
              "#f0f921"
             ]
            ],
            "type": "heatmap"
           }
          ],
          "heatmapgl": [
           {
            "colorbar": {
             "outlinewidth": 0,
             "ticks": ""
            },
            "colorscale": [
             [
              0,
              "#0d0887"
             ],
             [
              0.1111111111111111,
              "#46039f"
             ],
             [
              0.2222222222222222,
              "#7201a8"
             ],
             [
              0.3333333333333333,
              "#9c179e"
             ],
             [
              0.4444444444444444,
              "#bd3786"
             ],
             [
              0.5555555555555556,
              "#d8576b"
             ],
             [
              0.6666666666666666,
              "#ed7953"
             ],
             [
              0.7777777777777778,
              "#fb9f3a"
             ],
             [
              0.8888888888888888,
              "#fdca26"
             ],
             [
              1,
              "#f0f921"
             ]
            ],
            "type": "heatmapgl"
           }
          ],
          "histogram": [
           {
            "marker": {
             "colorbar": {
              "outlinewidth": 0,
              "ticks": ""
             }
            },
            "type": "histogram"
           }
          ],
          "histogram2d": [
           {
            "colorbar": {
             "outlinewidth": 0,
             "ticks": ""
            },
            "colorscale": [
             [
              0,
              "#0d0887"
             ],
             [
              0.1111111111111111,
              "#46039f"
             ],
             [
              0.2222222222222222,
              "#7201a8"
             ],
             [
              0.3333333333333333,
              "#9c179e"
             ],
             [
              0.4444444444444444,
              "#bd3786"
             ],
             [
              0.5555555555555556,
              "#d8576b"
             ],
             [
              0.6666666666666666,
              "#ed7953"
             ],
             [
              0.7777777777777778,
              "#fb9f3a"
             ],
             [
              0.8888888888888888,
              "#fdca26"
             ],
             [
              1,
              "#f0f921"
             ]
            ],
            "type": "histogram2d"
           }
          ],
          "histogram2dcontour": [
           {
            "colorbar": {
             "outlinewidth": 0,
             "ticks": ""
            },
            "colorscale": [
             [
              0,
              "#0d0887"
             ],
             [
              0.1111111111111111,
              "#46039f"
             ],
             [
              0.2222222222222222,
              "#7201a8"
             ],
             [
              0.3333333333333333,
              "#9c179e"
             ],
             [
              0.4444444444444444,
              "#bd3786"
             ],
             [
              0.5555555555555556,
              "#d8576b"
             ],
             [
              0.6666666666666666,
              "#ed7953"
             ],
             [
              0.7777777777777778,
              "#fb9f3a"
             ],
             [
              0.8888888888888888,
              "#fdca26"
             ],
             [
              1,
              "#f0f921"
             ]
            ],
            "type": "histogram2dcontour"
           }
          ],
          "mesh3d": [
           {
            "colorbar": {
             "outlinewidth": 0,
             "ticks": ""
            },
            "type": "mesh3d"
           }
          ],
          "parcoords": [
           {
            "line": {
             "colorbar": {
              "outlinewidth": 0,
              "ticks": ""
             }
            },
            "type": "parcoords"
           }
          ],
          "pie": [
           {
            "automargin": true,
            "type": "pie"
           }
          ],
          "scatter": [
           {
            "marker": {
             "colorbar": {
              "outlinewidth": 0,
              "ticks": ""
             }
            },
            "type": "scatter"
           }
          ],
          "scatter3d": [
           {
            "line": {
             "colorbar": {
              "outlinewidth": 0,
              "ticks": ""
             }
            },
            "marker": {
             "colorbar": {
              "outlinewidth": 0,
              "ticks": ""
             }
            },
            "type": "scatter3d"
           }
          ],
          "scattercarpet": [
           {
            "marker": {
             "colorbar": {
              "outlinewidth": 0,
              "ticks": ""
             }
            },
            "type": "scattercarpet"
           }
          ],
          "scattergeo": [
           {
            "marker": {
             "colorbar": {
              "outlinewidth": 0,
              "ticks": ""
             }
            },
            "type": "scattergeo"
           }
          ],
          "scattergl": [
           {
            "marker": {
             "colorbar": {
              "outlinewidth": 0,
              "ticks": ""
             }
            },
            "type": "scattergl"
           }
          ],
          "scattermapbox": [
           {
            "marker": {
             "colorbar": {
              "outlinewidth": 0,
              "ticks": ""
             }
            },
            "type": "scattermapbox"
           }
          ],
          "scatterpolar": [
           {
            "marker": {
             "colorbar": {
              "outlinewidth": 0,
              "ticks": ""
             }
            },
            "type": "scatterpolar"
           }
          ],
          "scatterpolargl": [
           {
            "marker": {
             "colorbar": {
              "outlinewidth": 0,
              "ticks": ""
             }
            },
            "type": "scatterpolargl"
           }
          ],
          "scatterternary": [
           {
            "marker": {
             "colorbar": {
              "outlinewidth": 0,
              "ticks": ""
             }
            },
            "type": "scatterternary"
           }
          ],
          "surface": [
           {
            "colorbar": {
             "outlinewidth": 0,
             "ticks": ""
            },
            "colorscale": [
             [
              0,
              "#0d0887"
             ],
             [
              0.1111111111111111,
              "#46039f"
             ],
             [
              0.2222222222222222,
              "#7201a8"
             ],
             [
              0.3333333333333333,
              "#9c179e"
             ],
             [
              0.4444444444444444,
              "#bd3786"
             ],
             [
              0.5555555555555556,
              "#d8576b"
             ],
             [
              0.6666666666666666,
              "#ed7953"
             ],
             [
              0.7777777777777778,
              "#fb9f3a"
             ],
             [
              0.8888888888888888,
              "#fdca26"
             ],
             [
              1,
              "#f0f921"
             ]
            ],
            "type": "surface"
           }
          ],
          "table": [
           {
            "cells": {
             "fill": {
              "color": "#EBF0F8"
             },
             "line": {
              "color": "white"
             }
            },
            "header": {
             "fill": {
              "color": "#C8D4E3"
             },
             "line": {
              "color": "white"
             }
            },
            "type": "table"
           }
          ]
         },
         "layout": {
          "annotationdefaults": {
           "arrowcolor": "#2a3f5f",
           "arrowhead": 0,
           "arrowwidth": 1
          },
          "autotypenumbers": "strict",
          "coloraxis": {
           "colorbar": {
            "outlinewidth": 0,
            "ticks": ""
           }
          },
          "colorscale": {
           "diverging": [
            [
             0,
             "#8e0152"
            ],
            [
             0.1,
             "#c51b7d"
            ],
            [
             0.2,
             "#de77ae"
            ],
            [
             0.3,
             "#f1b6da"
            ],
            [
             0.4,
             "#fde0ef"
            ],
            [
             0.5,
             "#f7f7f7"
            ],
            [
             0.6,
             "#e6f5d0"
            ],
            [
             0.7,
             "#b8e186"
            ],
            [
             0.8,
             "#7fbc41"
            ],
            [
             0.9,
             "#4d9221"
            ],
            [
             1,
             "#276419"
            ]
           ],
           "sequential": [
            [
             0,
             "#0d0887"
            ],
            [
             0.1111111111111111,
             "#46039f"
            ],
            [
             0.2222222222222222,
             "#7201a8"
            ],
            [
             0.3333333333333333,
             "#9c179e"
            ],
            [
             0.4444444444444444,
             "#bd3786"
            ],
            [
             0.5555555555555556,
             "#d8576b"
            ],
            [
             0.6666666666666666,
             "#ed7953"
            ],
            [
             0.7777777777777778,
             "#fb9f3a"
            ],
            [
             0.8888888888888888,
             "#fdca26"
            ],
            [
             1,
             "#f0f921"
            ]
           ],
           "sequentialminus": [
            [
             0,
             "#0d0887"
            ],
            [
             0.1111111111111111,
             "#46039f"
            ],
            [
             0.2222222222222222,
             "#7201a8"
            ],
            [
             0.3333333333333333,
             "#9c179e"
            ],
            [
             0.4444444444444444,
             "#bd3786"
            ],
            [
             0.5555555555555556,
             "#d8576b"
            ],
            [
             0.6666666666666666,
             "#ed7953"
            ],
            [
             0.7777777777777778,
             "#fb9f3a"
            ],
            [
             0.8888888888888888,
             "#fdca26"
            ],
            [
             1,
             "#f0f921"
            ]
           ]
          },
          "colorway": [
           "#636efa",
           "#EF553B",
           "#00cc96",
           "#ab63fa",
           "#FFA15A",
           "#19d3f3",
           "#FF6692",
           "#B6E880",
           "#FF97FF",
           "#FECB52"
          ],
          "font": {
           "color": "#2a3f5f"
          },
          "geo": {
           "bgcolor": "white",
           "lakecolor": "white",
           "landcolor": "#E5ECF6",
           "showlakes": true,
           "showland": true,
           "subunitcolor": "white"
          },
          "hoverlabel": {
           "align": "left"
          },
          "hovermode": "closest",
          "mapbox": {
           "style": "light"
          },
          "paper_bgcolor": "white",
          "plot_bgcolor": "#E5ECF6",
          "polar": {
           "angularaxis": {
            "gridcolor": "white",
            "linecolor": "white",
            "ticks": ""
           },
           "bgcolor": "#E5ECF6",
           "radialaxis": {
            "gridcolor": "white",
            "linecolor": "white",
            "ticks": ""
           }
          },
          "scene": {
           "xaxis": {
            "backgroundcolor": "#E5ECF6",
            "gridcolor": "white",
            "gridwidth": 2,
            "linecolor": "white",
            "showbackground": true,
            "ticks": "",
            "zerolinecolor": "white"
           },
           "yaxis": {
            "backgroundcolor": "#E5ECF6",
            "gridcolor": "white",
            "gridwidth": 2,
            "linecolor": "white",
            "showbackground": true,
            "ticks": "",
            "zerolinecolor": "white"
           },
           "zaxis": {
            "backgroundcolor": "#E5ECF6",
            "gridcolor": "white",
            "gridwidth": 2,
            "linecolor": "white",
            "showbackground": true,
            "ticks": "",
            "zerolinecolor": "white"
           }
          },
          "shapedefaults": {
           "line": {
            "color": "#2a3f5f"
           }
          },
          "ternary": {
           "aaxis": {
            "gridcolor": "white",
            "linecolor": "white",
            "ticks": ""
           },
           "baxis": {
            "gridcolor": "white",
            "linecolor": "white",
            "ticks": ""
           },
           "bgcolor": "#E5ECF6",
           "caxis": {
            "gridcolor": "white",
            "linecolor": "white",
            "ticks": ""
           }
          },
          "title": {
           "x": 0.05
          },
          "xaxis": {
           "automargin": true,
           "gridcolor": "white",
           "linecolor": "white",
           "ticks": "",
           "title": {
            "standoff": 15
           },
           "zerolinecolor": "white",
           "zerolinewidth": 2
          },
          "yaxis": {
           "automargin": true,
           "gridcolor": "white",
           "linecolor": "white",
           "ticks": "",
           "title": {
            "standoff": 15
           },
           "zerolinecolor": "white",
           "zerolinewidth": 2
          }
         }
        },
        "title": {
         "text": "Classe Vs Idade",
         "x": 0.5,
         "xanchor": "center",
         "y": 0.95,
         "yanchor": "top"
        },
        "xaxis": {
         "anchor": "y",
         "categoryarray": [
          "good",
          "bad"
         ],
         "categoryorder": "array",
         "domain": [
          0,
          1
         ],
         "title": {
          "text": "Bom/Mau Pagador"
         }
        },
        "yaxis": {
         "anchor": "x",
         "domain": [
          0,
          1
         ],
         "title": {
          "text": "Idade"
         }
        }
       }
      },
      "text/html": [
       "<div>                            <div id=\"80555eff-adf0-4737-b5c4-eb83c1c8734b\" class=\"plotly-graph-div\" style=\"height:525px; width:100%;\"></div>            <script type=\"text/javascript\">                require([\"plotly\"], function(Plotly) {                    window.PLOTLYENV=window.PLOTLYENV || {};                                    if (document.getElementById(\"80555eff-adf0-4737-b5c4-eb83c1c8734b\")) {                    Plotly.newPlot(                        \"80555eff-adf0-4737-b5c4-eb83c1c8734b\",                        [{\"alignmentgroup\": \"True\", \"hovertemplate\": \"class=%{x}<br>age=%{y}<extra></extra>\", \"legendgroup\": \"good\", \"marker\": {\"color\": \"#636efa\"}, \"name\": \"good\", \"notched\": false, \"offsetgroup\": \"good\", \"orientation\": \"v\", \"showlegend\": true, \"type\": \"box\", \"x\": [\"good\", \"good\", \"good\", \"good\", \"good\", \"good\", \"good\", \"good\", \"good\", \"good\", \"good\", \"good\", \"good\", \"good\", \"good\", \"good\", \"good\", \"good\", \"good\", \"good\", \"good\", \"good\", \"good\", \"good\", \"good\", \"good\", \"good\", \"good\", \"good\", \"good\", \"good\", \"good\", \"good\", \"good\", \"good\", \"good\", \"good\", \"good\", \"good\", \"good\", \"good\", \"good\", \"good\", \"good\", \"good\", \"good\", \"good\", \"good\", \"good\", \"good\", \"good\", \"good\", \"good\", \"good\", \"good\", \"good\", \"good\", \"good\", \"good\", \"good\", \"good\", \"good\", \"good\", \"good\", \"good\", \"good\", \"good\", \"good\", \"good\", \"good\", \"good\", \"good\", \"good\", \"good\", \"good\", \"good\", \"good\", \"good\", \"good\", \"good\", \"good\", \"good\", \"good\", \"good\", \"good\", \"good\", \"good\", \"good\", \"good\", \"good\", \"good\", \"good\", \"good\", \"good\", \"good\", \"good\", \"good\", \"good\", \"good\", \"good\", \"good\", \"good\", \"good\", \"good\", \"good\", \"good\", \"good\", \"good\", \"good\", \"good\", \"good\", \"good\", \"good\", \"good\", \"good\", \"good\", \"good\", \"good\", \"good\", \"good\", \"good\", \"good\", \"good\", \"good\", \"good\", \"good\", \"good\", \"good\", \"good\", \"good\", \"good\", \"good\", \"good\", \"good\", \"good\", \"good\", \"good\", \"good\", \"good\", \"good\", \"good\", \"good\", \"good\", \"good\", \"good\", \"good\", \"good\", \"good\", \"good\", \"good\", \"good\", \"good\", \"good\", \"good\", \"good\", \"good\", \"good\", \"good\", \"good\", \"good\", \"good\", \"good\", \"good\", \"good\", \"good\", \"good\", \"good\", \"good\", \"good\", \"good\", \"good\", \"good\", \"good\", \"good\", \"good\", \"good\", \"good\", \"good\", \"good\", \"good\", \"good\", \"good\", \"good\", \"good\", \"good\", \"good\", \"good\", \"good\", \"good\", \"good\", \"good\", \"good\", \"good\", \"good\", \"good\", \"good\", \"good\", \"good\", \"good\", \"good\", \"good\", \"good\", \"good\", \"good\", \"good\", \"good\", \"good\", \"good\", \"good\", \"good\", \"good\", \"good\", \"good\", \"good\", \"good\", \"good\", \"good\", \"good\", \"good\", \"good\", \"good\", \"good\", \"good\", \"good\", \"good\", \"good\", \"good\", \"good\", \"good\", \"good\", \"good\", \"good\", \"good\", \"good\", \"good\", \"good\", \"good\", \"good\", \"good\", \"good\", \"good\", \"good\", \"good\", \"good\", \"good\", \"good\", \"good\", \"good\", \"good\", \"good\", \"good\", \"good\", \"good\", \"good\", \"good\", \"good\", \"good\", \"good\", \"good\", \"good\", \"good\", \"good\", \"good\", \"good\", \"good\", \"good\", \"good\", \"good\", \"good\", \"good\", \"good\", \"good\", \"good\", \"good\", \"good\", \"good\", \"good\", \"good\", \"good\", \"good\", \"good\", \"good\", \"good\", \"good\", \"good\", \"good\", \"good\", \"good\", \"good\", \"good\", \"good\", \"good\", \"good\", \"good\", \"good\", \"good\", \"good\", \"good\", \"good\", \"good\", \"good\", \"good\", \"good\", \"good\", \"good\", \"good\", \"good\", \"good\", \"good\", \"good\", \"good\", \"good\", \"good\", \"good\", \"good\", \"good\", \"good\", \"good\", \"good\", \"good\", \"good\", \"good\", \"good\", \"good\", \"good\", \"good\", \"good\", \"good\", \"good\", \"good\", \"good\", \"good\", \"good\", \"good\", \"good\", \"good\", \"good\", \"good\", \"good\", \"good\", \"good\", \"good\", \"good\", \"good\", \"good\", \"good\", \"good\", \"good\", \"good\", \"good\", \"good\", \"good\", \"good\", \"good\", \"good\", \"good\", \"good\", \"good\", \"good\", \"good\", \"good\", \"good\", \"good\", \"good\", \"good\", \"good\", \"good\", \"good\", \"good\", \"good\", \"good\", \"good\", \"good\", \"good\", \"good\", \"good\", \"good\", \"good\", \"good\", \"good\", \"good\", \"good\", \"good\", \"good\", \"good\", \"good\", \"good\", \"good\", \"good\", \"good\", \"good\", \"good\", \"good\", \"good\", \"good\", \"good\", \"good\", \"good\", \"good\", \"good\", \"good\", \"good\", \"good\", \"good\", \"good\", \"good\", \"good\", \"good\", \"good\", \"good\", \"good\", \"good\", \"good\", \"good\", \"good\", \"good\", \"good\", \"good\", \"good\", \"good\", \"good\", \"good\", \"good\", \"good\", \"good\", \"good\", \"good\", \"good\", \"good\", \"good\", \"good\", \"good\", \"good\", \"good\", \"good\", \"good\", \"good\", \"good\", \"good\", \"good\", \"good\", \"good\", \"good\", \"good\", \"good\", \"good\", \"good\", \"good\", \"good\", \"good\", \"good\", \"good\", \"good\", \"good\", \"good\", \"good\", \"good\", \"good\", \"good\", \"good\", \"good\", \"good\", \"good\", \"good\", \"good\", \"good\", \"good\", \"good\", \"good\", \"good\", \"good\", \"good\", \"good\", \"good\", \"good\", \"good\", \"good\", \"good\", \"good\", \"good\", \"good\", \"good\", \"good\", \"good\", \"good\", \"good\", \"good\", \"good\", \"good\", \"good\", \"good\", \"good\", \"good\", \"good\", \"good\", \"good\", \"good\", \"good\", \"good\", \"good\", \"good\", \"good\", \"good\", \"good\", \"good\", \"good\", \"good\", \"good\", \"good\", \"good\", \"good\", \"good\", \"good\", \"good\", \"good\", \"good\", \"good\", \"good\", \"good\", \"good\", \"good\", \"good\", \"good\", \"good\", \"good\", \"good\", \"good\", \"good\", \"good\", \"good\", \"good\", \"good\", \"good\", \"good\", \"good\", \"good\", \"good\", \"good\", \"good\", \"good\", \"good\", \"good\", \"good\", \"good\", \"good\", \"good\", \"good\", \"good\", \"good\", \"good\", \"good\", \"good\", \"good\", \"good\", \"good\", \"good\", \"good\", \"good\", \"good\", \"good\", \"good\", \"good\", \"good\", \"good\", \"good\", \"good\", \"good\", \"good\", \"good\", \"good\", \"good\", \"good\", \"good\", \"good\", \"good\", \"good\", \"good\", \"good\", \"good\", \"good\", \"good\", \"good\", \"good\", \"good\", \"good\", \"good\", \"good\", \"good\", \"good\", \"good\", \"good\", \"good\", \"good\", \"good\", \"good\", \"good\", \"good\", \"good\", \"good\", \"good\", \"good\", \"good\", \"good\", \"good\", \"good\", \"good\", \"good\", \"good\", \"good\", \"good\", \"good\", \"good\", \"good\", \"good\", \"good\", \"good\", \"good\", \"good\", \"good\", \"good\", \"good\", \"good\", \"good\", \"good\", \"good\", \"good\", \"good\", \"good\", \"good\", \"good\"], \"x0\": \" \", \"xaxis\": \"x\", \"y\": [27, 45, 36, 37, 36, 57, 25, 22, 30, 38, 52, 63, 37, 20, 32, 23, 29, 58, 30, 31, 23, 45, 30, 29, 28, 27, 26, 30, 49, 60, 35, 47, 61, 74, 42, 30, 24, 40, 21, 49, 31, 38, 26, 61, 32, 26, 35, 35, 29, 42, 27, 24, 40, 55, 52, 58, 28, 37, 28, 56, 28, 46, 39, 38, 31, 40, 41, 44, 55, 65, 28, 25, 36, 30, 61, 39, 41, 30, 26, 32, 26, 28, 42, 58, 23, 31, 30, 28, 48, 37, 42, 43, 75, 24, 28, 24, 38, 43, 44, 33, 45, 29, 48, 40, 31, 31, 47, 62, 56, 22, 67, 47, 31, 44, 39, 26, 23, 52, 35, 28, 30, 32, 23, 36, 42, 63, 48, 25, 35, 29, 20, 24, 22, 37, 28, 43, 29, 44, 27, 68, 51, 64, 66, 36, 24, 46, 33, 36, 26, 66, 24, 38, 34, 20, 38, 26, 33, 31, 30, 39, 54, 25, 23, 35, 74, 37, 36, 40, 23, 34, 26, 38, 50, 39, 43, 39, 35, 29, 67, 46, 57, 40, 26, 51, 47, 48, 30, 24, 49, 34, 30, 33, 49, 47, 41, 40, 52, 33, 25, 25, 32, 39, 44, 23, 41, 49, 29, 45, 32, 27, 20, 36, 55, 23, 26, 36, 36, 30, 28, 36, 46, 39, 63, 25, 26, 42, 23, 27, 29, 25, 35, 36, 50, 44, 36, 36, 25, 36, 28, 41, 74, 21, 51, 37, 34, 36, 27, 26, 38, 29, 27, 22, 30, 60, 28, 34, 27, 25, 39, 28, 65, 28, 28, 57, 31, 64, 34, 23, 53, 27, 23, 23, 28, 21, 64, 34, 42, 27, 42, 54, 35, 26, 45, 27, 33, 49, 24, 50, 30, 25, 27, 29, 28, 27, 26, 35, 26, 31, 40, 40, 28, 42, 35, 37, 38, 31, 27, 57, 44, 28, 26, 31, 26, 37, 22, 30, 35, 30, 63, 38, 30, 34, 34, 50, 43, 48, 26, 27, 40, 30, 30, 41, 30, 43, 38, 38, 30, 32, 24, 32, 41, 34, 40, 64, 32, 36, 35, 23, 44, 35, 27, 24, 33, 36, 66, 46, 31, 43, 38, 26, 33, 34, 23, 34, 37, 63, 57, 36, 35, 67, 22, 46, 39, 59, 25, 37, 28, 29, 25, 60, 63, 33, 40, 42, 26, 24, 20, 27, 30, 27, 52, 36, 47, 22, 31, 27, 31, 70, 49, 64, 49, 32, 65, 32, 31, 24, 29, 44, 46, 42, 50, 32, 25, 35, 48, 33, 23, 32, 24, 27, 35, 27, 23, 34, 31, 25, 32, 30, 24, 39, 33, 20, 28, 33, 33, 26, 32, 32, 32, 28, 36, 50, 34, 31, 35, 41, 28, 75, 37, 35, 24, 27, 45, 38, 26, 33, 40, 46, 35, 34, 33, 27, 41, 35, 24, 43, 27, 34, 37, 26, 37, 49, 20, 28, 22, 37, 38, 52, 43, 48, 47, 35, 36, 45, 35, 23, 19, 39, 24, 59, 28, 21, 30, 26, 31, 26, 54, 48, 36, 24, 25, 41, 31, 47, 37, 35, 36, 30, 46, 49, 63, 55, 29, 46, 33, 54, 23, 38, 40, 46, 44, 29, 32, 23, 35, 36, 21, 35, 39, 27, 35, 34, 25, 31, 27, 45, 42, 36, 28, 46, 26, 25, 43, 42, 24, 40, 29, 22, 27, 52, 44, 49, 54, 27, 35, 21, 54, 35, 52, 31, 47, 32, 22, 25, 24, 33, 27, 51, 23, 47, 37, 35, 50, 27, 29, 26, 36, 25, 40, 41, 41, 23, 49, 40, 25, 31, 32, 45, 26, 22, 41, 36, 23, 26, 36, 37, 51, 47, 38, 27, 48, 43, 30, 43, 38, 55, 29, 20, 22, 27, 35, 49, 30, 51, 31, 36, 36, 22, 33, 33, 44, 38, 28, 37, 51, 45, 33, 35, 50, 21], \"y0\": \" \", \"yaxis\": \"y\"}, {\"alignmentgroup\": \"True\", \"hovertemplate\": \"class=%{x}<br>age=%{y}<extra></extra>\", \"legendgroup\": \"bad\", \"marker\": {\"color\": \"#EF553B\"}, \"name\": \"bad\", \"notched\": false, \"offsetgroup\": \"bad\", \"orientation\": \"v\", \"showlegend\": true, \"type\": \"box\", \"x\": [\"bad\", \"bad\", \"bad\", \"bad\", \"bad\", \"bad\", \"bad\", \"bad\", \"bad\", \"bad\", \"bad\", \"bad\", \"bad\", \"bad\", \"bad\", \"bad\", \"bad\", \"bad\", \"bad\", \"bad\", \"bad\", \"bad\", \"bad\", \"bad\", \"bad\", \"bad\", \"bad\", \"bad\", \"bad\", \"bad\", \"bad\", \"bad\", \"bad\", \"bad\", \"bad\", \"bad\", \"bad\", \"bad\", \"bad\", \"bad\", \"bad\", \"bad\", \"bad\", \"bad\", \"bad\", \"bad\", \"bad\", \"bad\", \"bad\", \"bad\", \"bad\", \"bad\", \"bad\", \"bad\", \"bad\", \"bad\", \"bad\", \"bad\", \"bad\", \"bad\", \"bad\", \"bad\", \"bad\", \"bad\", \"bad\", \"bad\", \"bad\", \"bad\", \"bad\", \"bad\", \"bad\", \"bad\", \"bad\", \"bad\", \"bad\", \"bad\", \"bad\", \"bad\", \"bad\", \"bad\", \"bad\", \"bad\", \"bad\", \"bad\", \"bad\", \"bad\", \"bad\", \"bad\", \"bad\", \"bad\", \"bad\", \"bad\", \"bad\", \"bad\", \"bad\", \"bad\", \"bad\", \"bad\", \"bad\", \"bad\", \"bad\", \"bad\", \"bad\", \"bad\", \"bad\", \"bad\", \"bad\", \"bad\", \"bad\", \"bad\", \"bad\", \"bad\", \"bad\", \"bad\", \"bad\", \"bad\", \"bad\", \"bad\", \"bad\", \"bad\", \"bad\", \"bad\", \"bad\", \"bad\", \"bad\", \"bad\", \"bad\", \"bad\", \"bad\", \"bad\", \"bad\", \"bad\", \"bad\", \"bad\", \"bad\", \"bad\", \"bad\", \"bad\", \"bad\", \"bad\", \"bad\", \"bad\", \"bad\", \"bad\", \"bad\", \"bad\", \"bad\", \"bad\", \"bad\", \"bad\", \"bad\", \"bad\", \"bad\", \"bad\", \"bad\", \"bad\", \"bad\", \"bad\", \"bad\", \"bad\", \"bad\", \"bad\", \"bad\", \"bad\", \"bad\", \"bad\", \"bad\", \"bad\", \"bad\", \"bad\", \"bad\", \"bad\", \"bad\", \"bad\", \"bad\", \"bad\", \"bad\", \"bad\", \"bad\", \"bad\", \"bad\", \"bad\", \"bad\", \"bad\", \"bad\", \"bad\", \"bad\", \"bad\", \"bad\", \"bad\", \"bad\", \"bad\", \"bad\", \"bad\", \"bad\", \"bad\", \"bad\", \"bad\", \"bad\", \"bad\", \"bad\", \"bad\", \"bad\", \"bad\", \"bad\", \"bad\", \"bad\", \"bad\", \"bad\", \"bad\", \"bad\", \"bad\", \"bad\", \"bad\", \"bad\", \"bad\", \"bad\", \"bad\", \"bad\", \"bad\", \"bad\", \"bad\", \"bad\", \"bad\", \"bad\", \"bad\", \"bad\", \"bad\", \"bad\", \"bad\", \"bad\", \"bad\", \"bad\", \"bad\", \"bad\", \"bad\", \"bad\", \"bad\", \"bad\", \"bad\", \"bad\", \"bad\", \"bad\", \"bad\", \"bad\", \"bad\", \"bad\", \"bad\", \"bad\", \"bad\", \"bad\", \"bad\", \"bad\", \"bad\", \"bad\", \"bad\", \"bad\", \"bad\", \"bad\", \"bad\", \"bad\", \"bad\", \"bad\", \"bad\", \"bad\", \"bad\", \"bad\", \"bad\", \"bad\", \"bad\"], \"x0\": \" \", \"xaxis\": \"x\", \"y\": [36, 38, 46, 21, 24, 25, 25, 57, 25, 25, 53, 28, 46, 54, 22, 47, 24, 30, 36, 30, 44, 48, 23, 21, 25, 37, 32, 26, 25, 31, 24, 20, 39, 68, 26, 45, 59, 29, 25, 42, 42, 50, 23, 53, 22, 45, 41, 51, 23, 24, 30, 61, 34, 22, 28, 33, 52, 36, 46, 23, 37, 33, 28, 31, 34, 37, 33, 42, 26, 36, 23, 34, 39, 31, 23, 32, 24, 48, 28, 33, 39, 44, 61, 23, 32, 24, 24, 53, 23, 28, 33, 61, 33, 28, 41, 49, 27, 26, 47, 53, 24, 28, 26, 22, 30, 27, 39, 35, 23, 40, 21, 42, 28, 22, 33, 23, 60, 23, 26, 23, 48, 37, 34, 29, 50, 31, 36, 33, 23, 25, 24, 55, 31, 66, 34, 27, 29, 58, 23, 44, 23, 31, 29, 29, 31, 27, 23, 53, 29, 27, 57, 28, 34, 25, 40, 29, 26, 29, 25, 32, 35, 26, 24, 27, 23, 66, 60, 31, 20, 26, 43, 32, 43, 27, 31, 20, 27, 33, 24, 31, 29, 45, 27, 34, 63, 30, 50, 35, 46, 28, 25, 24, 24, 29, 25, 20, 43, 47, 31, 37, 40, 37, 26, 22, 33, 32, 58, 23, 42, 65, 37, 60, 27, 57, 25, 44, 35, 25, 35, 24, 26, 30, 25, 55, 32, 26, 27, 33, 32, 30, 22, 36, 29, 30, 27, 30, 28, 34, 42, 42, 39, 25, 28, 22, 34, 38, 68, 44, 42, 38, 24, 23, 23, 25, 74, 20, 21, 25, 24, 22, 40, 54, 19, 32, 29, 40, 26, 26, 43, 38], \"y0\": \" \", \"yaxis\": \"y\"}],                        {\"boxmode\": \"overlay\", \"legend\": {\"title\": {\"text\": \"class\"}, \"tracegroupgap\": 0}, \"margin\": {\"t\": 60}, \"template\": {\"data\": {\"bar\": [{\"error_x\": {\"color\": \"#2a3f5f\"}, \"error_y\": {\"color\": \"#2a3f5f\"}, \"marker\": {\"line\": {\"color\": \"#E5ECF6\", \"width\": 0.5}}, \"type\": \"bar\"}], \"barpolar\": [{\"marker\": {\"line\": {\"color\": \"#E5ECF6\", \"width\": 0.5}}, \"type\": \"barpolar\"}], \"carpet\": [{\"aaxis\": {\"endlinecolor\": \"#2a3f5f\", \"gridcolor\": \"white\", \"linecolor\": \"white\", \"minorgridcolor\": \"white\", \"startlinecolor\": \"#2a3f5f\"}, \"baxis\": {\"endlinecolor\": \"#2a3f5f\", \"gridcolor\": \"white\", \"linecolor\": \"white\", \"minorgridcolor\": \"white\", \"startlinecolor\": \"#2a3f5f\"}, \"type\": \"carpet\"}], \"choropleth\": [{\"colorbar\": {\"outlinewidth\": 0, \"ticks\": \"\"}, \"type\": \"choropleth\"}], \"contour\": [{\"colorbar\": {\"outlinewidth\": 0, \"ticks\": \"\"}, \"colorscale\": [[0.0, \"#0d0887\"], [0.1111111111111111, \"#46039f\"], [0.2222222222222222, \"#7201a8\"], [0.3333333333333333, \"#9c179e\"], [0.4444444444444444, \"#bd3786\"], [0.5555555555555556, \"#d8576b\"], [0.6666666666666666, \"#ed7953\"], [0.7777777777777778, \"#fb9f3a\"], [0.8888888888888888, \"#fdca26\"], [1.0, \"#f0f921\"]], \"type\": \"contour\"}], \"contourcarpet\": [{\"colorbar\": {\"outlinewidth\": 0, \"ticks\": \"\"}, \"type\": \"contourcarpet\"}], \"heatmap\": [{\"colorbar\": {\"outlinewidth\": 0, \"ticks\": \"\"}, \"colorscale\": [[0.0, \"#0d0887\"], [0.1111111111111111, \"#46039f\"], [0.2222222222222222, \"#7201a8\"], [0.3333333333333333, \"#9c179e\"], [0.4444444444444444, \"#bd3786\"], [0.5555555555555556, \"#d8576b\"], [0.6666666666666666, \"#ed7953\"], [0.7777777777777778, \"#fb9f3a\"], [0.8888888888888888, \"#fdca26\"], [1.0, \"#f0f921\"]], \"type\": \"heatmap\"}], \"heatmapgl\": [{\"colorbar\": {\"outlinewidth\": 0, \"ticks\": \"\"}, \"colorscale\": [[0.0, \"#0d0887\"], [0.1111111111111111, \"#46039f\"], [0.2222222222222222, \"#7201a8\"], [0.3333333333333333, \"#9c179e\"], [0.4444444444444444, \"#bd3786\"], [0.5555555555555556, \"#d8576b\"], [0.6666666666666666, \"#ed7953\"], [0.7777777777777778, \"#fb9f3a\"], [0.8888888888888888, \"#fdca26\"], [1.0, \"#f0f921\"]], \"type\": \"heatmapgl\"}], \"histogram\": [{\"marker\": {\"colorbar\": {\"outlinewidth\": 0, \"ticks\": \"\"}}, \"type\": \"histogram\"}], \"histogram2d\": [{\"colorbar\": {\"outlinewidth\": 0, \"ticks\": \"\"}, \"colorscale\": [[0.0, \"#0d0887\"], [0.1111111111111111, \"#46039f\"], [0.2222222222222222, \"#7201a8\"], [0.3333333333333333, \"#9c179e\"], [0.4444444444444444, \"#bd3786\"], [0.5555555555555556, \"#d8576b\"], [0.6666666666666666, \"#ed7953\"], [0.7777777777777778, \"#fb9f3a\"], [0.8888888888888888, \"#fdca26\"], [1.0, \"#f0f921\"]], \"type\": \"histogram2d\"}], \"histogram2dcontour\": [{\"colorbar\": {\"outlinewidth\": 0, \"ticks\": \"\"}, \"colorscale\": [[0.0, \"#0d0887\"], [0.1111111111111111, \"#46039f\"], [0.2222222222222222, \"#7201a8\"], [0.3333333333333333, \"#9c179e\"], [0.4444444444444444, \"#bd3786\"], [0.5555555555555556, \"#d8576b\"], [0.6666666666666666, \"#ed7953\"], [0.7777777777777778, \"#fb9f3a\"], [0.8888888888888888, \"#fdca26\"], [1.0, \"#f0f921\"]], \"type\": \"histogram2dcontour\"}], \"mesh3d\": [{\"colorbar\": {\"outlinewidth\": 0, \"ticks\": \"\"}, \"type\": \"mesh3d\"}], \"parcoords\": [{\"line\": {\"colorbar\": {\"outlinewidth\": 0, \"ticks\": \"\"}}, \"type\": \"parcoords\"}], \"pie\": [{\"automargin\": true, \"type\": \"pie\"}], \"scatter\": [{\"marker\": {\"colorbar\": {\"outlinewidth\": 0, \"ticks\": \"\"}}, \"type\": \"scatter\"}], \"scatter3d\": [{\"line\": {\"colorbar\": {\"outlinewidth\": 0, \"ticks\": \"\"}}, \"marker\": {\"colorbar\": {\"outlinewidth\": 0, \"ticks\": \"\"}}, \"type\": \"scatter3d\"}], \"scattercarpet\": [{\"marker\": {\"colorbar\": {\"outlinewidth\": 0, \"ticks\": \"\"}}, \"type\": \"scattercarpet\"}], \"scattergeo\": [{\"marker\": {\"colorbar\": {\"outlinewidth\": 0, \"ticks\": \"\"}}, \"type\": \"scattergeo\"}], \"scattergl\": [{\"marker\": {\"colorbar\": {\"outlinewidth\": 0, \"ticks\": \"\"}}, \"type\": \"scattergl\"}], \"scattermapbox\": [{\"marker\": {\"colorbar\": {\"outlinewidth\": 0, \"ticks\": \"\"}}, \"type\": \"scattermapbox\"}], \"scatterpolar\": [{\"marker\": {\"colorbar\": {\"outlinewidth\": 0, \"ticks\": \"\"}}, \"type\": \"scatterpolar\"}], \"scatterpolargl\": [{\"marker\": {\"colorbar\": {\"outlinewidth\": 0, \"ticks\": \"\"}}, \"type\": \"scatterpolargl\"}], \"scatterternary\": [{\"marker\": {\"colorbar\": {\"outlinewidth\": 0, \"ticks\": \"\"}}, \"type\": \"scatterternary\"}], \"surface\": [{\"colorbar\": {\"outlinewidth\": 0, \"ticks\": \"\"}, \"colorscale\": [[0.0, \"#0d0887\"], [0.1111111111111111, \"#46039f\"], [0.2222222222222222, \"#7201a8\"], [0.3333333333333333, \"#9c179e\"], [0.4444444444444444, \"#bd3786\"], [0.5555555555555556, \"#d8576b\"], [0.6666666666666666, \"#ed7953\"], [0.7777777777777778, \"#fb9f3a\"], [0.8888888888888888, \"#fdca26\"], [1.0, \"#f0f921\"]], \"type\": \"surface\"}], \"table\": [{\"cells\": {\"fill\": {\"color\": \"#EBF0F8\"}, \"line\": {\"color\": \"white\"}}, \"header\": {\"fill\": {\"color\": \"#C8D4E3\"}, \"line\": {\"color\": \"white\"}}, \"type\": \"table\"}]}, \"layout\": {\"annotationdefaults\": {\"arrowcolor\": \"#2a3f5f\", \"arrowhead\": 0, \"arrowwidth\": 1}, \"autotypenumbers\": \"strict\", \"coloraxis\": {\"colorbar\": {\"outlinewidth\": 0, \"ticks\": \"\"}}, \"colorscale\": {\"diverging\": [[0, \"#8e0152\"], [0.1, \"#c51b7d\"], [0.2, \"#de77ae\"], [0.3, \"#f1b6da\"], [0.4, \"#fde0ef\"], [0.5, \"#f7f7f7\"], [0.6, \"#e6f5d0\"], [0.7, \"#b8e186\"], [0.8, \"#7fbc41\"], [0.9, \"#4d9221\"], [1, \"#276419\"]], \"sequential\": [[0.0, \"#0d0887\"], [0.1111111111111111, \"#46039f\"], [0.2222222222222222, \"#7201a8\"], [0.3333333333333333, \"#9c179e\"], [0.4444444444444444, \"#bd3786\"], [0.5555555555555556, \"#d8576b\"], [0.6666666666666666, \"#ed7953\"], [0.7777777777777778, \"#fb9f3a\"], [0.8888888888888888, \"#fdca26\"], [1.0, \"#f0f921\"]], \"sequentialminus\": [[0.0, \"#0d0887\"], [0.1111111111111111, \"#46039f\"], [0.2222222222222222, \"#7201a8\"], [0.3333333333333333, \"#9c179e\"], [0.4444444444444444, \"#bd3786\"], [0.5555555555555556, \"#d8576b\"], [0.6666666666666666, \"#ed7953\"], [0.7777777777777778, \"#fb9f3a\"], [0.8888888888888888, \"#fdca26\"], [1.0, \"#f0f921\"]]}, \"colorway\": [\"#636efa\", \"#EF553B\", \"#00cc96\", \"#ab63fa\", \"#FFA15A\", \"#19d3f3\", \"#FF6692\", \"#B6E880\", \"#FF97FF\", \"#FECB52\"], \"font\": {\"color\": \"#2a3f5f\"}, \"geo\": {\"bgcolor\": \"white\", \"lakecolor\": \"white\", \"landcolor\": \"#E5ECF6\", \"showlakes\": true, \"showland\": true, \"subunitcolor\": \"white\"}, \"hoverlabel\": {\"align\": \"left\"}, \"hovermode\": \"closest\", \"mapbox\": {\"style\": \"light\"}, \"paper_bgcolor\": \"white\", \"plot_bgcolor\": \"#E5ECF6\", \"polar\": {\"angularaxis\": {\"gridcolor\": \"white\", \"linecolor\": \"white\", \"ticks\": \"\"}, \"bgcolor\": \"#E5ECF6\", \"radialaxis\": {\"gridcolor\": \"white\", \"linecolor\": \"white\", \"ticks\": \"\"}}, \"scene\": {\"xaxis\": {\"backgroundcolor\": \"#E5ECF6\", \"gridcolor\": \"white\", \"gridwidth\": 2, \"linecolor\": \"white\", \"showbackground\": true, \"ticks\": \"\", \"zerolinecolor\": \"white\"}, \"yaxis\": {\"backgroundcolor\": \"#E5ECF6\", \"gridcolor\": \"white\", \"gridwidth\": 2, \"linecolor\": \"white\", \"showbackground\": true, \"ticks\": \"\", \"zerolinecolor\": \"white\"}, \"zaxis\": {\"backgroundcolor\": \"#E5ECF6\", \"gridcolor\": \"white\", \"gridwidth\": 2, \"linecolor\": \"white\", \"showbackground\": true, \"ticks\": \"\", \"zerolinecolor\": \"white\"}}, \"shapedefaults\": {\"line\": {\"color\": \"#2a3f5f\"}}, \"ternary\": {\"aaxis\": {\"gridcolor\": \"white\", \"linecolor\": \"white\", \"ticks\": \"\"}, \"baxis\": {\"gridcolor\": \"white\", \"linecolor\": \"white\", \"ticks\": \"\"}, \"bgcolor\": \"#E5ECF6\", \"caxis\": {\"gridcolor\": \"white\", \"linecolor\": \"white\", \"ticks\": \"\"}}, \"title\": {\"x\": 0.05}, \"xaxis\": {\"automargin\": true, \"gridcolor\": \"white\", \"linecolor\": \"white\", \"ticks\": \"\", \"title\": {\"standoff\": 15}, \"zerolinecolor\": \"white\", \"zerolinewidth\": 2}, \"yaxis\": {\"automargin\": true, \"gridcolor\": \"white\", \"linecolor\": \"white\", \"ticks\": \"\", \"title\": {\"standoff\": 15}, \"zerolinecolor\": \"white\", \"zerolinewidth\": 2}}}, \"title\": {\"text\": \"Classe Vs Idade\", \"x\": 0.5, \"xanchor\": \"center\", \"y\": 0.95, \"yanchor\": \"top\"}, \"xaxis\": {\"anchor\": \"y\", \"categoryarray\": [\"good\", \"bad\"], \"categoryorder\": \"array\", \"domain\": [0.0, 1.0], \"title\": {\"text\": \"Bom/Mau Pagador\"}}, \"yaxis\": {\"anchor\": \"x\", \"domain\": [0.0, 1.0], \"title\": {\"text\": \"Idade\"}}},                        {\"responsive\": true}                    ).then(function(){\n",
       "                            \n",
       "var gd = document.getElementById('80555eff-adf0-4737-b5c4-eb83c1c8734b');\n",
       "var x = new MutationObserver(function (mutations, observer) {{\n",
       "        var display = window.getComputedStyle(gd).display;\n",
       "        if (!display || display === 'none') {{\n",
       "            console.log([gd, 'removed!']);\n",
       "            Plotly.purge(gd);\n",
       "            observer.disconnect();\n",
       "        }}\n",
       "}});\n",
       "\n",
       "// Listen for the removal of the full notebook cells\n",
       "var notebookContainer = gd.closest('#notebook-container');\n",
       "if (notebookContainer) {{\n",
       "    x.observe(notebookContainer, {childList: true});\n",
       "}}\n",
       "\n",
       "// Listen for the clearing of the current output cell\n",
       "var outputEl = gd.closest('.output');\n",
       "if (outputEl) {{\n",
       "    x.observe(outputEl, {childList: true});\n",
       "}}\n",
       "\n",
       "                        })                };                });            </script>        </div>"
      ]
     },
     "metadata": {},
     "output_type": "display_data"
    }
   ],
   "source": [
    "fig = px.box(colunas, x=\"class\", y=\"age\",color=\"class\")\n",
    "fig.update_layout(\n",
    "    title={'text':\"Classe Vs Idade\", 'y':.95,'x':.5, 'xanchor': 'center', 'yanchor': 'top'},\n",
    "    xaxis_title=\"Bom/Mau Pagador\",\n",
    "    yaxis_title=\"Idade\")\n",
    "fig.show()"
   ]
  },
  {
   "cell_type": "code",
   "execution_count": 68,
   "id": "directed-calibration",
   "metadata": {},
   "outputs": [
    {
     "data": {
      "application/vnd.plotly.v1+json": {
       "config": {
        "plotlyServerURL": "https://plot.ly"
       },
       "data": [
        {
         "alignmentgroup": "True",
         "bingroup": "x",
         "hovertemplate": "class=good<br>checking_status=%{x}<br>count=%{y}<extra></extra>",
         "legendgroup": "good",
         "marker": {
          "color": "#636efa"
         },
         "name": "good",
         "offsetgroup": "good",
         "orientation": "v",
         "showlegend": true,
         "type": "histogram",
         "x": [
          "<0",
          "<0",
          "no checking",
          "no checking",
          "no checking",
          "no checking",
          "0<=X<200",
          "<0",
          "0<=X<200",
          "no checking",
          "no checking",
          "no checking",
          "0<=X<200",
          "<0",
          "no checking",
          "<0",
          "0<=X<200",
          "<0",
          "no checking",
          "no checking",
          "no checking",
          "<0",
          "0<=X<200",
          "0<=X<200",
          "0<=X<200",
          "no checking",
          "no checking",
          "0<=X<200",
          ">=200",
          "no checking",
          "no checking",
          "no checking",
          "no checking",
          "no checking",
          "no checking",
          "no checking",
          "no checking",
          "0<=X<200",
          "no checking",
          ">=200",
          "no checking",
          "no checking",
          "no checking",
          "no checking",
          "<0",
          "no checking",
          "<0",
          "no checking",
          "no checking",
          "no checking",
          "no checking",
          "no checking",
          "<0",
          "0<=X<200",
          "<0",
          "no checking",
          "0<=X<200",
          "<0",
          "no checking",
          "no checking",
          "<0",
          "no checking",
          "no checking",
          "<0",
          "0<=X<200",
          "<0",
          "0<=X<200",
          "0<=X<200",
          "<0",
          "<0",
          "<0",
          "no checking",
          "0<=X<200",
          "<0",
          "no checking",
          "no checking",
          "no checking",
          "0<=X<200",
          "no checking",
          "0<=X<200",
          "no checking",
          "<0",
          "<0",
          "<0",
          "no checking",
          "<0",
          "<0",
          "0<=X<200",
          "0<=X<200",
          "no checking",
          "no checking",
          "<0",
          "<0",
          "no checking",
          "no checking",
          "<0",
          "<0",
          "no checking",
          "no checking",
          "no checking",
          "no checking",
          "<0",
          "no checking",
          "no checking",
          "<0",
          "0<=X<200",
          "0<=X<200",
          "no checking",
          "no checking",
          "<0",
          "<0",
          "no checking",
          "no checking",
          "<0",
          "<0",
          "no checking",
          ">=200",
          "no checking",
          "0<=X<200",
          "<0",
          "0<=X<200",
          "no checking",
          "no checking",
          "0<=X<200",
          "<0",
          "no checking",
          "0<=X<200",
          "<0",
          "no checking",
          "no checking",
          "0<=X<200",
          "<0",
          "<0",
          "<0",
          "no checking",
          "no checking",
          "no checking",
          "<0",
          "<0",
          "0<=X<200",
          "no checking",
          "<0",
          "0<=X<200",
          ">=200",
          "<0",
          "no checking",
          "no checking",
          "no checking",
          ">=200",
          "<0",
          "<0",
          "no checking",
          "<0",
          "no checking",
          "0<=X<200",
          ">=200",
          ">=200",
          "0<=X<200",
          "<0",
          "<0",
          "<0",
          "<0",
          "<0",
          "0<=X<200",
          ">=200",
          "<0",
          "<0",
          "0<=X<200",
          "0<=X<200",
          "no checking",
          "0<=X<200",
          "no checking",
          "no checking",
          "no checking",
          "<0",
          "0<=X<200",
          "no checking",
          "0<=X<200",
          "0<=X<200",
          "no checking",
          "<0",
          "no checking",
          "no checking",
          "0<=X<200",
          "no checking",
          "no checking",
          "<0",
          "0<=X<200",
          "no checking",
          "no checking",
          "0<=X<200",
          "no checking",
          "0<=X<200",
          ">=200",
          "no checking",
          "no checking",
          "no checking",
          ">=200",
          "no checking",
          "no checking",
          "no checking",
          "<0",
          "<0",
          ">=200",
          "no checking",
          ">=200",
          "no checking",
          "no checking",
          "no checking",
          "0<=X<200",
          "0<=X<200",
          "0<=X<200",
          ">=200",
          "no checking",
          "<0",
          "0<=X<200",
          "no checking",
          "<0",
          "no checking",
          "no checking",
          "no checking",
          "0<=X<200",
          "no checking",
          "no checking",
          "no checking",
          "0<=X<200",
          "no checking",
          "no checking",
          "<0",
          ">=200",
          "no checking",
          "no checking",
          "0<=X<200",
          "no checking",
          "<0",
          "0<=X<200",
          "0<=X<200",
          "<0",
          "<0",
          "<0",
          "no checking",
          "<0",
          "no checking",
          "no checking",
          "0<=X<200",
          "0<=X<200",
          "no checking",
          "no checking",
          "no checking",
          "no checking",
          ">=200",
          "0<=X<200",
          "<0",
          "no checking",
          "no checking",
          "no checking",
          "0<=X<200",
          "no checking",
          "<0",
          "no checking",
          "<0",
          "no checking",
          "no checking",
          "no checking",
          "no checking",
          "no checking",
          "no checking",
          "0<=X<200",
          "no checking",
          "no checking",
          ">=200",
          ">=200",
          "no checking",
          "no checking",
          "0<=X<200",
          "no checking",
          "no checking",
          "no checking",
          "0<=X<200",
          "no checking",
          "no checking",
          "0<=X<200",
          "no checking",
          "0<=X<200",
          "0<=X<200",
          "no checking",
          "no checking",
          "<0",
          "no checking",
          "<0",
          "no checking",
          "no checking",
          ">=200",
          "<0",
          "<0",
          "0<=X<200",
          "no checking",
          "no checking",
          ">=200",
          "no checking",
          "<0",
          "no checking",
          "0<=X<200",
          "no checking",
          "0<=X<200",
          "no checking",
          "0<=X<200",
          "<0",
          "no checking",
          "no checking",
          ">=200",
          "0<=X<200",
          "<0",
          "0<=X<200",
          "0<=X<200",
          "0<=X<200",
          "no checking",
          "no checking",
          "no checking",
          "no checking",
          "no checking",
          "0<=X<200",
          "no checking",
          "no checking",
          "no checking",
          "0<=X<200",
          ">=200",
          "0<=X<200",
          "0<=X<200",
          "no checking",
          "0<=X<200",
          "no checking",
          "0<=X<200",
          "no checking",
          "0<=X<200",
          "no checking",
          "no checking",
          "no checking",
          "<0",
          "<0",
          ">=200",
          "0<=X<200",
          "no checking",
          "no checking",
          "0<=X<200",
          "<0",
          "no checking",
          "<0",
          "0<=X<200",
          "no checking",
          "<0",
          "<0",
          "no checking",
          "no checking",
          ">=200",
          "no checking",
          "no checking",
          "0<=X<200",
          "<0",
          "no checking",
          "0<=X<200",
          "no checking",
          "0<=X<200",
          "no checking",
          "no checking",
          ">=200",
          ">=200",
          "no checking",
          "no checking",
          "0<=X<200",
          "<0",
          "no checking",
          "<0",
          "no checking",
          "no checking",
          "no checking",
          ">=200",
          "0<=X<200",
          "0<=X<200",
          "0<=X<200",
          "<0",
          "no checking",
          "<0",
          "no checking",
          "no checking",
          "0<=X<200",
          "0<=X<200",
          "no checking",
          "no checking",
          "no checking",
          "<0",
          "no checking",
          ">=200",
          "<0",
          "no checking",
          "no checking",
          "no checking",
          "0<=X<200",
          "no checking",
          "no checking",
          "no checking",
          "no checking",
          "no checking",
          "0<=X<200",
          "no checking",
          "0<=X<200",
          "no checking",
          "0<=X<200",
          "<0",
          ">=200",
          "no checking",
          "no checking",
          "<0",
          "0<=X<200",
          "no checking",
          "no checking",
          "<0",
          "no checking",
          ">=200",
          ">=200",
          "no checking",
          "<0",
          "<0",
          "no checking",
          ">=200",
          "0<=X<200",
          "no checking",
          "<0",
          "no checking",
          "no checking",
          "no checking",
          "no checking",
          "0<=X<200",
          "no checking",
          "no checking",
          "no checking",
          "<0",
          "0<=X<200",
          "no checking",
          "0<=X<200",
          "no checking",
          ">=200",
          "0<=X<200",
          "no checking",
          "<0",
          "0<=X<200",
          "<0",
          "<0",
          "0<=X<200",
          "0<=X<200",
          ">=200",
          "0<=X<200",
          "no checking",
          "no checking",
          "0<=X<200",
          "no checking",
          "no checking",
          "no checking",
          "<0",
          "no checking",
          "no checking",
          "0<=X<200",
          "no checking",
          "no checking",
          "<0",
          "no checking",
          "no checking",
          "0<=X<200",
          ">=200",
          "no checking",
          "no checking",
          "<0",
          "no checking",
          "0<=X<200",
          "<0",
          "no checking",
          "0<=X<200",
          "no checking",
          "<0",
          "0<=X<200",
          "no checking",
          "no checking",
          "<0",
          ">=200",
          "0<=X<200",
          ">=200",
          "0<=X<200",
          "no checking",
          "no checking",
          "<0",
          "no checking",
          "no checking",
          "no checking",
          "0<=X<200",
          "0<=X<200",
          "0<=X<200",
          "no checking",
          "<0",
          "no checking",
          "no checking",
          "0<=X<200",
          "no checking",
          ">=200",
          "no checking",
          ">=200",
          "0<=X<200",
          "<0",
          "0<=X<200",
          "no checking",
          "0<=X<200",
          "<0",
          "no checking",
          "<0",
          ">=200",
          "no checking",
          "no checking",
          "0<=X<200",
          "no checking",
          "<0",
          "no checking",
          "no checking",
          ">=200",
          "0<=X<200",
          "no checking",
          "no checking",
          ">=200",
          "0<=X<200",
          "no checking",
          "<0",
          "no checking",
          "no checking",
          "no checking",
          "no checking",
          "no checking",
          "<0",
          "no checking",
          "no checking",
          "no checking",
          "no checking",
          "<0",
          "no checking",
          "<0",
          "no checking",
          "no checking",
          "0<=X<200",
          "no checking",
          "no checking",
          "<0",
          "0<=X<200",
          "no checking",
          "<0",
          "<0",
          "0<=X<200",
          "0<=X<200",
          "no checking",
          "no checking",
          "0<=X<200",
          "0<=X<200",
          "no checking",
          "0<=X<200",
          "<0",
          "no checking",
          "0<=X<200",
          "<0",
          "no checking",
          "0<=X<200",
          "no checking",
          "no checking",
          "0<=X<200",
          "no checking",
          "no checking",
          "no checking",
          "no checking",
          "<0",
          "no checking",
          "no checking",
          "<0",
          "no checking",
          "no checking",
          "no checking",
          "0<=X<200",
          "no checking",
          "<0",
          "0<=X<200",
          "no checking",
          "no checking",
          "no checking",
          "no checking",
          "<0",
          "0<=X<200",
          "0<=X<200",
          ">=200",
          "0<=X<200",
          "no checking",
          "0<=X<200",
          "no checking",
          ">=200",
          "no checking",
          "no checking",
          "<0",
          "<0",
          "no checking",
          "no checking",
          "<0",
          "no checking",
          "<0",
          "0<=X<200",
          "no checking",
          "no checking",
          "no checking",
          "no checking",
          "<0",
          "no checking",
          "no checking",
          "no checking",
          "no checking",
          "no checking",
          "<0",
          "0<=X<200",
          "no checking",
          ">=200",
          "no checking",
          "no checking",
          "0<=X<200",
          "<0",
          "0<=X<200",
          "0<=X<200",
          "no checking",
          "no checking",
          "<0"
         ],
         "xaxis": "x",
         "yaxis": "y"
        },
        {
         "alignmentgroup": "True",
         "bingroup": "x",
         "hovertemplate": "class=bad<br>checking_status=%{x}<br>count=%{y}<extra></extra>",
         "legendgroup": "bad",
         "marker": {
          "color": "#EF553B"
         },
         "name": "bad",
         "offsetgroup": "bad",
         "orientation": "v",
         "showlegend": true,
         "type": "histogram",
         "x": [
          "<0",
          "no checking",
          "<0",
          "0<=X<200",
          "<0",
          "no checking",
          "0<=X<200",
          "0<=X<200",
          "<0",
          "0<=X<200",
          "<0",
          "<0",
          "0<=X<200",
          "no checking",
          "<0",
          "<0",
          "<0",
          "0<=X<200",
          "0<=X<200",
          "no checking",
          "<0",
          "<0",
          "<0",
          "<0",
          "0<=X<200",
          "no checking",
          "<0",
          "<0",
          "0<=X<200",
          "<0",
          "<0",
          "<0",
          "no checking",
          "no checking",
          "0<=X<200",
          "<0",
          "0<=X<200",
          "<0",
          "<0",
          "0<=X<200",
          "0<=X<200",
          "0<=X<200",
          "<0",
          "no checking",
          "<0",
          "<0",
          "<0",
          "<0",
          "no checking",
          "<0",
          "0<=X<200",
          "0<=X<200",
          "<0",
          "0<=X<200",
          "0<=X<200",
          "0<=X<200",
          "0<=X<200",
          "<0",
          "<0",
          "0<=X<200",
          "<0",
          "no checking",
          "0<=X<200",
          "<0",
          "<0",
          ">=200",
          "<0",
          "no checking",
          "no checking",
          "0<=X<200",
          "<0",
          "0<=X<200",
          "<0",
          "0<=X<200",
          "<0",
          "<0",
          "<0",
          ">=200",
          "0<=X<200",
          "<0",
          "<0",
          "0<=X<200",
          "0<=X<200",
          "0<=X<200",
          "0<=X<200",
          "no checking",
          "<0",
          "<0",
          "0<=X<200",
          "0<=X<200",
          "<0",
          "0<=X<200",
          "0<=X<200",
          "<0",
          "no checking",
          "0<=X<200",
          "<0",
          "0<=X<200",
          "0<=X<200",
          "<0",
          "0<=X<200",
          "no checking",
          "<0",
          "0<=X<200",
          "0<=X<200",
          "no checking",
          "0<=X<200",
          "<0",
          "0<=X<200",
          "<0",
          "no checking",
          "0<=X<200",
          "no checking",
          "0<=X<200",
          "<0",
          "0<=X<200",
          "0<=X<200",
          "no checking",
          "<0",
          "<0",
          "<0",
          "0<=X<200",
          "0<=X<200",
          "no checking",
          "<0",
          "<0",
          "0<=X<200",
          "<0",
          "<0",
          "0<=X<200",
          "<0",
          "<0",
          "<0",
          "0<=X<200",
          ">=200",
          "0<=X<200",
          "<0",
          "<0",
          "<0",
          "<0",
          "<0",
          "<0",
          "<0",
          "0<=X<200",
          "no checking",
          "<0",
          "0<=X<200",
          "<0",
          "0<=X<200",
          "<0",
          "0<=X<200",
          ">=200",
          ">=200",
          "0<=X<200",
          "0<=X<200",
          "<0",
          "no checking",
          "<0",
          "0<=X<200",
          "0<=X<200",
          "<0",
          "0<=X<200",
          "0<=X<200",
          "0<=X<200",
          "<0",
          ">=200",
          "<0",
          "0<=X<200",
          "<0",
          ">=200",
          "<0",
          "no checking",
          "<0",
          "0<=X<200",
          "<0",
          "0<=X<200",
          "0<=X<200",
          "<0",
          "0<=X<200",
          "no checking",
          "<0",
          "<0",
          "<0",
          "<0",
          "<0",
          "<0",
          "0<=X<200",
          "<0",
          "<0",
          "0<=X<200",
          "no checking",
          "<0",
          "<0",
          "0<=X<200",
          ">=200",
          "<0",
          "0<=X<200",
          "<0",
          "<0",
          "0<=X<200",
          "<0",
          "<0",
          "<0",
          "0<=X<200",
          ">=200",
          "<0",
          "0<=X<200",
          "<0",
          "0<=X<200",
          "<0",
          ">=200",
          "<0",
          "no checking",
          "<0",
          "<0",
          "no checking",
          "<0",
          "0<=X<200",
          "no checking",
          "<0",
          "<0",
          "0<=X<200",
          "0<=X<200",
          "<0",
          "<0",
          ">=200",
          "0<=X<200",
          "no checking",
          "no checking",
          "0<=X<200",
          "<0",
          "no checking",
          "0<=X<200",
          "no checking",
          "no checking",
          "0<=X<200",
          "0<=X<200",
          "0<=X<200",
          "<0",
          "<0",
          ">=200",
          "0<=X<200",
          "no checking",
          "no checking",
          "0<=X<200",
          ">=200",
          "<0",
          "no checking",
          "<0",
          "0<=X<200",
          "0<=X<200",
          "0<=X<200",
          "<0",
          "<0",
          "0<=X<200",
          "<0",
          "<0",
          "0<=X<200",
          "<0",
          "no checking",
          "<0",
          "<0",
          "no checking",
          "0<=X<200",
          "<0",
          "<0",
          "<0",
          "no checking",
          "<0",
          "0<=X<200"
         ],
         "xaxis": "x",
         "yaxis": "y"
        }
       ],
       "layout": {
        "barmode": "relative",
        "legend": {
         "title": {
          "text": "class"
         },
         "tracegroupgap": 0
        },
        "margin": {
         "t": 60
        },
        "template": {
         "data": {
          "bar": [
           {
            "error_x": {
             "color": "#2a3f5f"
            },
            "error_y": {
             "color": "#2a3f5f"
            },
            "marker": {
             "line": {
              "color": "#E5ECF6",
              "width": 0.5
             }
            },
            "type": "bar"
           }
          ],
          "barpolar": [
           {
            "marker": {
             "line": {
              "color": "#E5ECF6",
              "width": 0.5
             }
            },
            "type": "barpolar"
           }
          ],
          "carpet": [
           {
            "aaxis": {
             "endlinecolor": "#2a3f5f",
             "gridcolor": "white",
             "linecolor": "white",
             "minorgridcolor": "white",
             "startlinecolor": "#2a3f5f"
            },
            "baxis": {
             "endlinecolor": "#2a3f5f",
             "gridcolor": "white",
             "linecolor": "white",
             "minorgridcolor": "white",
             "startlinecolor": "#2a3f5f"
            },
            "type": "carpet"
           }
          ],
          "choropleth": [
           {
            "colorbar": {
             "outlinewidth": 0,
             "ticks": ""
            },
            "type": "choropleth"
           }
          ],
          "contour": [
           {
            "colorbar": {
             "outlinewidth": 0,
             "ticks": ""
            },
            "colorscale": [
             [
              0,
              "#0d0887"
             ],
             [
              0.1111111111111111,
              "#46039f"
             ],
             [
              0.2222222222222222,
              "#7201a8"
             ],
             [
              0.3333333333333333,
              "#9c179e"
             ],
             [
              0.4444444444444444,
              "#bd3786"
             ],
             [
              0.5555555555555556,
              "#d8576b"
             ],
             [
              0.6666666666666666,
              "#ed7953"
             ],
             [
              0.7777777777777778,
              "#fb9f3a"
             ],
             [
              0.8888888888888888,
              "#fdca26"
             ],
             [
              1,
              "#f0f921"
             ]
            ],
            "type": "contour"
           }
          ],
          "contourcarpet": [
           {
            "colorbar": {
             "outlinewidth": 0,
             "ticks": ""
            },
            "type": "contourcarpet"
           }
          ],
          "heatmap": [
           {
            "colorbar": {
             "outlinewidth": 0,
             "ticks": ""
            },
            "colorscale": [
             [
              0,
              "#0d0887"
             ],
             [
              0.1111111111111111,
              "#46039f"
             ],
             [
              0.2222222222222222,
              "#7201a8"
             ],
             [
              0.3333333333333333,
              "#9c179e"
             ],
             [
              0.4444444444444444,
              "#bd3786"
             ],
             [
              0.5555555555555556,
              "#d8576b"
             ],
             [
              0.6666666666666666,
              "#ed7953"
             ],
             [
              0.7777777777777778,
              "#fb9f3a"
             ],
             [
              0.8888888888888888,
              "#fdca26"
             ],
             [
              1,
              "#f0f921"
             ]
            ],
            "type": "heatmap"
           }
          ],
          "heatmapgl": [
           {
            "colorbar": {
             "outlinewidth": 0,
             "ticks": ""
            },
            "colorscale": [
             [
              0,
              "#0d0887"
             ],
             [
              0.1111111111111111,
              "#46039f"
             ],
             [
              0.2222222222222222,
              "#7201a8"
             ],
             [
              0.3333333333333333,
              "#9c179e"
             ],
             [
              0.4444444444444444,
              "#bd3786"
             ],
             [
              0.5555555555555556,
              "#d8576b"
             ],
             [
              0.6666666666666666,
              "#ed7953"
             ],
             [
              0.7777777777777778,
              "#fb9f3a"
             ],
             [
              0.8888888888888888,
              "#fdca26"
             ],
             [
              1,
              "#f0f921"
             ]
            ],
            "type": "heatmapgl"
           }
          ],
          "histogram": [
           {
            "marker": {
             "colorbar": {
              "outlinewidth": 0,
              "ticks": ""
             }
            },
            "type": "histogram"
           }
          ],
          "histogram2d": [
           {
            "colorbar": {
             "outlinewidth": 0,
             "ticks": ""
            },
            "colorscale": [
             [
              0,
              "#0d0887"
             ],
             [
              0.1111111111111111,
              "#46039f"
             ],
             [
              0.2222222222222222,
              "#7201a8"
             ],
             [
              0.3333333333333333,
              "#9c179e"
             ],
             [
              0.4444444444444444,
              "#bd3786"
             ],
             [
              0.5555555555555556,
              "#d8576b"
             ],
             [
              0.6666666666666666,
              "#ed7953"
             ],
             [
              0.7777777777777778,
              "#fb9f3a"
             ],
             [
              0.8888888888888888,
              "#fdca26"
             ],
             [
              1,
              "#f0f921"
             ]
            ],
            "type": "histogram2d"
           }
          ],
          "histogram2dcontour": [
           {
            "colorbar": {
             "outlinewidth": 0,
             "ticks": ""
            },
            "colorscale": [
             [
              0,
              "#0d0887"
             ],
             [
              0.1111111111111111,
              "#46039f"
             ],
             [
              0.2222222222222222,
              "#7201a8"
             ],
             [
              0.3333333333333333,
              "#9c179e"
             ],
             [
              0.4444444444444444,
              "#bd3786"
             ],
             [
              0.5555555555555556,
              "#d8576b"
             ],
             [
              0.6666666666666666,
              "#ed7953"
             ],
             [
              0.7777777777777778,
              "#fb9f3a"
             ],
             [
              0.8888888888888888,
              "#fdca26"
             ],
             [
              1,
              "#f0f921"
             ]
            ],
            "type": "histogram2dcontour"
           }
          ],
          "mesh3d": [
           {
            "colorbar": {
             "outlinewidth": 0,
             "ticks": ""
            },
            "type": "mesh3d"
           }
          ],
          "parcoords": [
           {
            "line": {
             "colorbar": {
              "outlinewidth": 0,
              "ticks": ""
             }
            },
            "type": "parcoords"
           }
          ],
          "pie": [
           {
            "automargin": true,
            "type": "pie"
           }
          ],
          "scatter": [
           {
            "marker": {
             "colorbar": {
              "outlinewidth": 0,
              "ticks": ""
             }
            },
            "type": "scatter"
           }
          ],
          "scatter3d": [
           {
            "line": {
             "colorbar": {
              "outlinewidth": 0,
              "ticks": ""
             }
            },
            "marker": {
             "colorbar": {
              "outlinewidth": 0,
              "ticks": ""
             }
            },
            "type": "scatter3d"
           }
          ],
          "scattercarpet": [
           {
            "marker": {
             "colorbar": {
              "outlinewidth": 0,
              "ticks": ""
             }
            },
            "type": "scattercarpet"
           }
          ],
          "scattergeo": [
           {
            "marker": {
             "colorbar": {
              "outlinewidth": 0,
              "ticks": ""
             }
            },
            "type": "scattergeo"
           }
          ],
          "scattergl": [
           {
            "marker": {
             "colorbar": {
              "outlinewidth": 0,
              "ticks": ""
             }
            },
            "type": "scattergl"
           }
          ],
          "scattermapbox": [
           {
            "marker": {
             "colorbar": {
              "outlinewidth": 0,
              "ticks": ""
             }
            },
            "type": "scattermapbox"
           }
          ],
          "scatterpolar": [
           {
            "marker": {
             "colorbar": {
              "outlinewidth": 0,
              "ticks": ""
             }
            },
            "type": "scatterpolar"
           }
          ],
          "scatterpolargl": [
           {
            "marker": {
             "colorbar": {
              "outlinewidth": 0,
              "ticks": ""
             }
            },
            "type": "scatterpolargl"
           }
          ],
          "scatterternary": [
           {
            "marker": {
             "colorbar": {
              "outlinewidth": 0,
              "ticks": ""
             }
            },
            "type": "scatterternary"
           }
          ],
          "surface": [
           {
            "colorbar": {
             "outlinewidth": 0,
             "ticks": ""
            },
            "colorscale": [
             [
              0,
              "#0d0887"
             ],
             [
              0.1111111111111111,
              "#46039f"
             ],
             [
              0.2222222222222222,
              "#7201a8"
             ],
             [
              0.3333333333333333,
              "#9c179e"
             ],
             [
              0.4444444444444444,
              "#bd3786"
             ],
             [
              0.5555555555555556,
              "#d8576b"
             ],
             [
              0.6666666666666666,
              "#ed7953"
             ],
             [
              0.7777777777777778,
              "#fb9f3a"
             ],
             [
              0.8888888888888888,
              "#fdca26"
             ],
             [
              1,
              "#f0f921"
             ]
            ],
            "type": "surface"
           }
          ],
          "table": [
           {
            "cells": {
             "fill": {
              "color": "#EBF0F8"
             },
             "line": {
              "color": "white"
             }
            },
            "header": {
             "fill": {
              "color": "#C8D4E3"
             },
             "line": {
              "color": "white"
             }
            },
            "type": "table"
           }
          ]
         },
         "layout": {
          "annotationdefaults": {
           "arrowcolor": "#2a3f5f",
           "arrowhead": 0,
           "arrowwidth": 1
          },
          "autotypenumbers": "strict",
          "coloraxis": {
           "colorbar": {
            "outlinewidth": 0,
            "ticks": ""
           }
          },
          "colorscale": {
           "diverging": [
            [
             0,
             "#8e0152"
            ],
            [
             0.1,
             "#c51b7d"
            ],
            [
             0.2,
             "#de77ae"
            ],
            [
             0.3,
             "#f1b6da"
            ],
            [
             0.4,
             "#fde0ef"
            ],
            [
             0.5,
             "#f7f7f7"
            ],
            [
             0.6,
             "#e6f5d0"
            ],
            [
             0.7,
             "#b8e186"
            ],
            [
             0.8,
             "#7fbc41"
            ],
            [
             0.9,
             "#4d9221"
            ],
            [
             1,
             "#276419"
            ]
           ],
           "sequential": [
            [
             0,
             "#0d0887"
            ],
            [
             0.1111111111111111,
             "#46039f"
            ],
            [
             0.2222222222222222,
             "#7201a8"
            ],
            [
             0.3333333333333333,
             "#9c179e"
            ],
            [
             0.4444444444444444,
             "#bd3786"
            ],
            [
             0.5555555555555556,
             "#d8576b"
            ],
            [
             0.6666666666666666,
             "#ed7953"
            ],
            [
             0.7777777777777778,
             "#fb9f3a"
            ],
            [
             0.8888888888888888,
             "#fdca26"
            ],
            [
             1,
             "#f0f921"
            ]
           ],
           "sequentialminus": [
            [
             0,
             "#0d0887"
            ],
            [
             0.1111111111111111,
             "#46039f"
            ],
            [
             0.2222222222222222,
             "#7201a8"
            ],
            [
             0.3333333333333333,
             "#9c179e"
            ],
            [
             0.4444444444444444,
             "#bd3786"
            ],
            [
             0.5555555555555556,
             "#d8576b"
            ],
            [
             0.6666666666666666,
             "#ed7953"
            ],
            [
             0.7777777777777778,
             "#fb9f3a"
            ],
            [
             0.8888888888888888,
             "#fdca26"
            ],
            [
             1,
             "#f0f921"
            ]
           ]
          },
          "colorway": [
           "#636efa",
           "#EF553B",
           "#00cc96",
           "#ab63fa",
           "#FFA15A",
           "#19d3f3",
           "#FF6692",
           "#B6E880",
           "#FF97FF",
           "#FECB52"
          ],
          "font": {
           "color": "#2a3f5f"
          },
          "geo": {
           "bgcolor": "white",
           "lakecolor": "white",
           "landcolor": "#E5ECF6",
           "showlakes": true,
           "showland": true,
           "subunitcolor": "white"
          },
          "hoverlabel": {
           "align": "left"
          },
          "hovermode": "closest",
          "mapbox": {
           "style": "light"
          },
          "paper_bgcolor": "white",
          "plot_bgcolor": "#E5ECF6",
          "polar": {
           "angularaxis": {
            "gridcolor": "white",
            "linecolor": "white",
            "ticks": ""
           },
           "bgcolor": "#E5ECF6",
           "radialaxis": {
            "gridcolor": "white",
            "linecolor": "white",
            "ticks": ""
           }
          },
          "scene": {
           "xaxis": {
            "backgroundcolor": "#E5ECF6",
            "gridcolor": "white",
            "gridwidth": 2,
            "linecolor": "white",
            "showbackground": true,
            "ticks": "",
            "zerolinecolor": "white"
           },
           "yaxis": {
            "backgroundcolor": "#E5ECF6",
            "gridcolor": "white",
            "gridwidth": 2,
            "linecolor": "white",
            "showbackground": true,
            "ticks": "",
            "zerolinecolor": "white"
           },
           "zaxis": {
            "backgroundcolor": "#E5ECF6",
            "gridcolor": "white",
            "gridwidth": 2,
            "linecolor": "white",
            "showbackground": true,
            "ticks": "",
            "zerolinecolor": "white"
           }
          },
          "shapedefaults": {
           "line": {
            "color": "#2a3f5f"
           }
          },
          "ternary": {
           "aaxis": {
            "gridcolor": "white",
            "linecolor": "white",
            "ticks": ""
           },
           "baxis": {
            "gridcolor": "white",
            "linecolor": "white",
            "ticks": ""
           },
           "bgcolor": "#E5ECF6",
           "caxis": {
            "gridcolor": "white",
            "linecolor": "white",
            "ticks": ""
           }
          },
          "title": {
           "x": 0.05
          },
          "xaxis": {
           "automargin": true,
           "gridcolor": "white",
           "linecolor": "white",
           "ticks": "",
           "title": {
            "standoff": 15
           },
           "zerolinecolor": "white",
           "zerolinewidth": 2
          },
          "yaxis": {
           "automargin": true,
           "gridcolor": "white",
           "linecolor": "white",
           "ticks": "",
           "title": {
            "standoff": 15
           },
           "zerolinecolor": "white",
           "zerolinewidth": 2
          }
         }
        },
        "title": {
         "text": " Status da conta corrente existente",
         "x": 0.5,
         "xanchor": "center",
         "y": 0.95,
         "yanchor": "top"
        },
        "xaxis": {
         "anchor": "y",
         "domain": [
          0,
          1
         ],
         "title": {
          "text": "checking_status"
         }
        },
        "yaxis": {
         "anchor": "x",
         "domain": [
          0,
          1
         ],
         "title": {
          "text": "count"
         }
        }
       }
      },
      "text/html": [
       "<div>                            <div id=\"6a112b94-59c7-442e-b955-a6c0f2f9cd2f\" class=\"plotly-graph-div\" style=\"height:525px; width:100%;\"></div>            <script type=\"text/javascript\">                require([\"plotly\"], function(Plotly) {                    window.PLOTLYENV=window.PLOTLYENV || {};                                    if (document.getElementById(\"6a112b94-59c7-442e-b955-a6c0f2f9cd2f\")) {                    Plotly.newPlot(                        \"6a112b94-59c7-442e-b955-a6c0f2f9cd2f\",                        [{\"alignmentgroup\": \"True\", \"bingroup\": \"x\", \"hovertemplate\": \"class=good<br>checking_status=%{x}<br>count=%{y}<extra></extra>\", \"legendgroup\": \"good\", \"marker\": {\"color\": \"#636efa\"}, \"name\": \"good\", \"offsetgroup\": \"good\", \"orientation\": \"v\", \"showlegend\": true, \"type\": \"histogram\", \"x\": [\"<0\", \"<0\", \"no checking\", \"no checking\", \"no checking\", \"no checking\", \"0<=X<200\", \"<0\", \"0<=X<200\", \"no checking\", \"no checking\", \"no checking\", \"0<=X<200\", \"<0\", \"no checking\", \"<0\", \"0<=X<200\", \"<0\", \"no checking\", \"no checking\", \"no checking\", \"<0\", \"0<=X<200\", \"0<=X<200\", \"0<=X<200\", \"no checking\", \"no checking\", \"0<=X<200\", \">=200\", \"no checking\", \"no checking\", \"no checking\", \"no checking\", \"no checking\", \"no checking\", \"no checking\", \"no checking\", \"0<=X<200\", \"no checking\", \">=200\", \"no checking\", \"no checking\", \"no checking\", \"no checking\", \"<0\", \"no checking\", \"<0\", \"no checking\", \"no checking\", \"no checking\", \"no checking\", \"no checking\", \"<0\", \"0<=X<200\", \"<0\", \"no checking\", \"0<=X<200\", \"<0\", \"no checking\", \"no checking\", \"<0\", \"no checking\", \"no checking\", \"<0\", \"0<=X<200\", \"<0\", \"0<=X<200\", \"0<=X<200\", \"<0\", \"<0\", \"<0\", \"no checking\", \"0<=X<200\", \"<0\", \"no checking\", \"no checking\", \"no checking\", \"0<=X<200\", \"no checking\", \"0<=X<200\", \"no checking\", \"<0\", \"<0\", \"<0\", \"no checking\", \"<0\", \"<0\", \"0<=X<200\", \"0<=X<200\", \"no checking\", \"no checking\", \"<0\", \"<0\", \"no checking\", \"no checking\", \"<0\", \"<0\", \"no checking\", \"no checking\", \"no checking\", \"no checking\", \"<0\", \"no checking\", \"no checking\", \"<0\", \"0<=X<200\", \"0<=X<200\", \"no checking\", \"no checking\", \"<0\", \"<0\", \"no checking\", \"no checking\", \"<0\", \"<0\", \"no checking\", \">=200\", \"no checking\", \"0<=X<200\", \"<0\", \"0<=X<200\", \"no checking\", \"no checking\", \"0<=X<200\", \"<0\", \"no checking\", \"0<=X<200\", \"<0\", \"no checking\", \"no checking\", \"0<=X<200\", \"<0\", \"<0\", \"<0\", \"no checking\", \"no checking\", \"no checking\", \"<0\", \"<0\", \"0<=X<200\", \"no checking\", \"<0\", \"0<=X<200\", \">=200\", \"<0\", \"no checking\", \"no checking\", \"no checking\", \">=200\", \"<0\", \"<0\", \"no checking\", \"<0\", \"no checking\", \"0<=X<200\", \">=200\", \">=200\", \"0<=X<200\", \"<0\", \"<0\", \"<0\", \"<0\", \"<0\", \"0<=X<200\", \">=200\", \"<0\", \"<0\", \"0<=X<200\", \"0<=X<200\", \"no checking\", \"0<=X<200\", \"no checking\", \"no checking\", \"no checking\", \"<0\", \"0<=X<200\", \"no checking\", \"0<=X<200\", \"0<=X<200\", \"no checking\", \"<0\", \"no checking\", \"no checking\", \"0<=X<200\", \"no checking\", \"no checking\", \"<0\", \"0<=X<200\", \"no checking\", \"no checking\", \"0<=X<200\", \"no checking\", \"0<=X<200\", \">=200\", \"no checking\", \"no checking\", \"no checking\", \">=200\", \"no checking\", \"no checking\", \"no checking\", \"<0\", \"<0\", \">=200\", \"no checking\", \">=200\", \"no checking\", \"no checking\", \"no checking\", \"0<=X<200\", \"0<=X<200\", \"0<=X<200\", \">=200\", \"no checking\", \"<0\", \"0<=X<200\", \"no checking\", \"<0\", \"no checking\", \"no checking\", \"no checking\", \"0<=X<200\", \"no checking\", \"no checking\", \"no checking\", \"0<=X<200\", \"no checking\", \"no checking\", \"<0\", \">=200\", \"no checking\", \"no checking\", \"0<=X<200\", \"no checking\", \"<0\", \"0<=X<200\", \"0<=X<200\", \"<0\", \"<0\", \"<0\", \"no checking\", \"<0\", \"no checking\", \"no checking\", \"0<=X<200\", \"0<=X<200\", \"no checking\", \"no checking\", \"no checking\", \"no checking\", \">=200\", \"0<=X<200\", \"<0\", \"no checking\", \"no checking\", \"no checking\", \"0<=X<200\", \"no checking\", \"<0\", \"no checking\", \"<0\", \"no checking\", \"no checking\", \"no checking\", \"no checking\", \"no checking\", \"no checking\", \"0<=X<200\", \"no checking\", \"no checking\", \">=200\", \">=200\", \"no checking\", \"no checking\", \"0<=X<200\", \"no checking\", \"no checking\", \"no checking\", \"0<=X<200\", \"no checking\", \"no checking\", \"0<=X<200\", \"no checking\", \"0<=X<200\", \"0<=X<200\", \"no checking\", \"no checking\", \"<0\", \"no checking\", \"<0\", \"no checking\", \"no checking\", \">=200\", \"<0\", \"<0\", \"0<=X<200\", \"no checking\", \"no checking\", \">=200\", \"no checking\", \"<0\", \"no checking\", \"0<=X<200\", \"no checking\", \"0<=X<200\", \"no checking\", \"0<=X<200\", \"<0\", \"no checking\", \"no checking\", \">=200\", \"0<=X<200\", \"<0\", \"0<=X<200\", \"0<=X<200\", \"0<=X<200\", \"no checking\", \"no checking\", \"no checking\", \"no checking\", \"no checking\", \"0<=X<200\", \"no checking\", \"no checking\", \"no checking\", \"0<=X<200\", \">=200\", \"0<=X<200\", \"0<=X<200\", \"no checking\", \"0<=X<200\", \"no checking\", \"0<=X<200\", \"no checking\", \"0<=X<200\", \"no checking\", \"no checking\", \"no checking\", \"<0\", \"<0\", \">=200\", \"0<=X<200\", \"no checking\", \"no checking\", \"0<=X<200\", \"<0\", \"no checking\", \"<0\", \"0<=X<200\", \"no checking\", \"<0\", \"<0\", \"no checking\", \"no checking\", \">=200\", \"no checking\", \"no checking\", \"0<=X<200\", \"<0\", \"no checking\", \"0<=X<200\", \"no checking\", \"0<=X<200\", \"no checking\", \"no checking\", \">=200\", \">=200\", \"no checking\", \"no checking\", \"0<=X<200\", \"<0\", \"no checking\", \"<0\", \"no checking\", \"no checking\", \"no checking\", \">=200\", \"0<=X<200\", \"0<=X<200\", \"0<=X<200\", \"<0\", \"no checking\", \"<0\", \"no checking\", \"no checking\", \"0<=X<200\", \"0<=X<200\", \"no checking\", \"no checking\", \"no checking\", \"<0\", \"no checking\", \">=200\", \"<0\", \"no checking\", \"no checking\", \"no checking\", \"0<=X<200\", \"no checking\", \"no checking\", \"no checking\", \"no checking\", \"no checking\", \"0<=X<200\", \"no checking\", \"0<=X<200\", \"no checking\", \"0<=X<200\", \"<0\", \">=200\", \"no checking\", \"no checking\", \"<0\", \"0<=X<200\", \"no checking\", \"no checking\", \"<0\", \"no checking\", \">=200\", \">=200\", \"no checking\", \"<0\", \"<0\", \"no checking\", \">=200\", \"0<=X<200\", \"no checking\", \"<0\", \"no checking\", \"no checking\", \"no checking\", \"no checking\", \"0<=X<200\", \"no checking\", \"no checking\", \"no checking\", \"<0\", \"0<=X<200\", \"no checking\", \"0<=X<200\", \"no checking\", \">=200\", \"0<=X<200\", \"no checking\", \"<0\", \"0<=X<200\", \"<0\", \"<0\", \"0<=X<200\", \"0<=X<200\", \">=200\", \"0<=X<200\", \"no checking\", \"no checking\", \"0<=X<200\", \"no checking\", \"no checking\", \"no checking\", \"<0\", \"no checking\", \"no checking\", \"0<=X<200\", \"no checking\", \"no checking\", \"<0\", \"no checking\", \"no checking\", \"0<=X<200\", \">=200\", \"no checking\", \"no checking\", \"<0\", \"no checking\", \"0<=X<200\", \"<0\", \"no checking\", \"0<=X<200\", \"no checking\", \"<0\", \"0<=X<200\", \"no checking\", \"no checking\", \"<0\", \">=200\", \"0<=X<200\", \">=200\", \"0<=X<200\", \"no checking\", \"no checking\", \"<0\", \"no checking\", \"no checking\", \"no checking\", \"0<=X<200\", \"0<=X<200\", \"0<=X<200\", \"no checking\", \"<0\", \"no checking\", \"no checking\", \"0<=X<200\", \"no checking\", \">=200\", \"no checking\", \">=200\", \"0<=X<200\", \"<0\", \"0<=X<200\", \"no checking\", \"0<=X<200\", \"<0\", \"no checking\", \"<0\", \">=200\", \"no checking\", \"no checking\", \"0<=X<200\", \"no checking\", \"<0\", \"no checking\", \"no checking\", \">=200\", \"0<=X<200\", \"no checking\", \"no checking\", \">=200\", \"0<=X<200\", \"no checking\", \"<0\", \"no checking\", \"no checking\", \"no checking\", \"no checking\", \"no checking\", \"<0\", \"no checking\", \"no checking\", \"no checking\", \"no checking\", \"<0\", \"no checking\", \"<0\", \"no checking\", \"no checking\", \"0<=X<200\", \"no checking\", \"no checking\", \"<0\", \"0<=X<200\", \"no checking\", \"<0\", \"<0\", \"0<=X<200\", \"0<=X<200\", \"no checking\", \"no checking\", \"0<=X<200\", \"0<=X<200\", \"no checking\", \"0<=X<200\", \"<0\", \"no checking\", \"0<=X<200\", \"<0\", \"no checking\", \"0<=X<200\", \"no checking\", \"no checking\", \"0<=X<200\", \"no checking\", \"no checking\", \"no checking\", \"no checking\", \"<0\", \"no checking\", \"no checking\", \"<0\", \"no checking\", \"no checking\", \"no checking\", \"0<=X<200\", \"no checking\", \"<0\", \"0<=X<200\", \"no checking\", \"no checking\", \"no checking\", \"no checking\", \"<0\", \"0<=X<200\", \"0<=X<200\", \">=200\", \"0<=X<200\", \"no checking\", \"0<=X<200\", \"no checking\", \">=200\", \"no checking\", \"no checking\", \"<0\", \"<0\", \"no checking\", \"no checking\", \"<0\", \"no checking\", \"<0\", \"0<=X<200\", \"no checking\", \"no checking\", \"no checking\", \"no checking\", \"<0\", \"no checking\", \"no checking\", \"no checking\", \"no checking\", \"no checking\", \"<0\", \"0<=X<200\", \"no checking\", \">=200\", \"no checking\", \"no checking\", \"0<=X<200\", \"<0\", \"0<=X<200\", \"0<=X<200\", \"no checking\", \"no checking\", \"<0\"], \"xaxis\": \"x\", \"yaxis\": \"y\"}, {\"alignmentgroup\": \"True\", \"bingroup\": \"x\", \"hovertemplate\": \"class=bad<br>checking_status=%{x}<br>count=%{y}<extra></extra>\", \"legendgroup\": \"bad\", \"marker\": {\"color\": \"#EF553B\"}, \"name\": \"bad\", \"offsetgroup\": \"bad\", \"orientation\": \"v\", \"showlegend\": true, \"type\": \"histogram\", \"x\": [\"<0\", \"no checking\", \"<0\", \"0<=X<200\", \"<0\", \"no checking\", \"0<=X<200\", \"0<=X<200\", \"<0\", \"0<=X<200\", \"<0\", \"<0\", \"0<=X<200\", \"no checking\", \"<0\", \"<0\", \"<0\", \"0<=X<200\", \"0<=X<200\", \"no checking\", \"<0\", \"<0\", \"<0\", \"<0\", \"0<=X<200\", \"no checking\", \"<0\", \"<0\", \"0<=X<200\", \"<0\", \"<0\", \"<0\", \"no checking\", \"no checking\", \"0<=X<200\", \"<0\", \"0<=X<200\", \"<0\", \"<0\", \"0<=X<200\", \"0<=X<200\", \"0<=X<200\", \"<0\", \"no checking\", \"<0\", \"<0\", \"<0\", \"<0\", \"no checking\", \"<0\", \"0<=X<200\", \"0<=X<200\", \"<0\", \"0<=X<200\", \"0<=X<200\", \"0<=X<200\", \"0<=X<200\", \"<0\", \"<0\", \"0<=X<200\", \"<0\", \"no checking\", \"0<=X<200\", \"<0\", \"<0\", \">=200\", \"<0\", \"no checking\", \"no checking\", \"0<=X<200\", \"<0\", \"0<=X<200\", \"<0\", \"0<=X<200\", \"<0\", \"<0\", \"<0\", \">=200\", \"0<=X<200\", \"<0\", \"<0\", \"0<=X<200\", \"0<=X<200\", \"0<=X<200\", \"0<=X<200\", \"no checking\", \"<0\", \"<0\", \"0<=X<200\", \"0<=X<200\", \"<0\", \"0<=X<200\", \"0<=X<200\", \"<0\", \"no checking\", \"0<=X<200\", \"<0\", \"0<=X<200\", \"0<=X<200\", \"<0\", \"0<=X<200\", \"no checking\", \"<0\", \"0<=X<200\", \"0<=X<200\", \"no checking\", \"0<=X<200\", \"<0\", \"0<=X<200\", \"<0\", \"no checking\", \"0<=X<200\", \"no checking\", \"0<=X<200\", \"<0\", \"0<=X<200\", \"0<=X<200\", \"no checking\", \"<0\", \"<0\", \"<0\", \"0<=X<200\", \"0<=X<200\", \"no checking\", \"<0\", \"<0\", \"0<=X<200\", \"<0\", \"<0\", \"0<=X<200\", \"<0\", \"<0\", \"<0\", \"0<=X<200\", \">=200\", \"0<=X<200\", \"<0\", \"<0\", \"<0\", \"<0\", \"<0\", \"<0\", \"<0\", \"0<=X<200\", \"no checking\", \"<0\", \"0<=X<200\", \"<0\", \"0<=X<200\", \"<0\", \"0<=X<200\", \">=200\", \">=200\", \"0<=X<200\", \"0<=X<200\", \"<0\", \"no checking\", \"<0\", \"0<=X<200\", \"0<=X<200\", \"<0\", \"0<=X<200\", \"0<=X<200\", \"0<=X<200\", \"<0\", \">=200\", \"<0\", \"0<=X<200\", \"<0\", \">=200\", \"<0\", \"no checking\", \"<0\", \"0<=X<200\", \"<0\", \"0<=X<200\", \"0<=X<200\", \"<0\", \"0<=X<200\", \"no checking\", \"<0\", \"<0\", \"<0\", \"<0\", \"<0\", \"<0\", \"0<=X<200\", \"<0\", \"<0\", \"0<=X<200\", \"no checking\", \"<0\", \"<0\", \"0<=X<200\", \">=200\", \"<0\", \"0<=X<200\", \"<0\", \"<0\", \"0<=X<200\", \"<0\", \"<0\", \"<0\", \"0<=X<200\", \">=200\", \"<0\", \"0<=X<200\", \"<0\", \"0<=X<200\", \"<0\", \">=200\", \"<0\", \"no checking\", \"<0\", \"<0\", \"no checking\", \"<0\", \"0<=X<200\", \"no checking\", \"<0\", \"<0\", \"0<=X<200\", \"0<=X<200\", \"<0\", \"<0\", \">=200\", \"0<=X<200\", \"no checking\", \"no checking\", \"0<=X<200\", \"<0\", \"no checking\", \"0<=X<200\", \"no checking\", \"no checking\", \"0<=X<200\", \"0<=X<200\", \"0<=X<200\", \"<0\", \"<0\", \">=200\", \"0<=X<200\", \"no checking\", \"no checking\", \"0<=X<200\", \">=200\", \"<0\", \"no checking\", \"<0\", \"0<=X<200\", \"0<=X<200\", \"0<=X<200\", \"<0\", \"<0\", \"0<=X<200\", \"<0\", \"<0\", \"0<=X<200\", \"<0\", \"no checking\", \"<0\", \"<0\", \"no checking\", \"0<=X<200\", \"<0\", \"<0\", \"<0\", \"no checking\", \"<0\", \"0<=X<200\"], \"xaxis\": \"x\", \"yaxis\": \"y\"}],                        {\"barmode\": \"relative\", \"legend\": {\"title\": {\"text\": \"class\"}, \"tracegroupgap\": 0}, \"margin\": {\"t\": 60}, \"template\": {\"data\": {\"bar\": [{\"error_x\": {\"color\": \"#2a3f5f\"}, \"error_y\": {\"color\": \"#2a3f5f\"}, \"marker\": {\"line\": {\"color\": \"#E5ECF6\", \"width\": 0.5}}, \"type\": \"bar\"}], \"barpolar\": [{\"marker\": {\"line\": {\"color\": \"#E5ECF6\", \"width\": 0.5}}, \"type\": \"barpolar\"}], \"carpet\": [{\"aaxis\": {\"endlinecolor\": \"#2a3f5f\", \"gridcolor\": \"white\", \"linecolor\": \"white\", \"minorgridcolor\": \"white\", \"startlinecolor\": \"#2a3f5f\"}, \"baxis\": {\"endlinecolor\": \"#2a3f5f\", \"gridcolor\": \"white\", \"linecolor\": \"white\", \"minorgridcolor\": \"white\", \"startlinecolor\": \"#2a3f5f\"}, \"type\": \"carpet\"}], \"choropleth\": [{\"colorbar\": {\"outlinewidth\": 0, \"ticks\": \"\"}, \"type\": \"choropleth\"}], \"contour\": [{\"colorbar\": {\"outlinewidth\": 0, \"ticks\": \"\"}, \"colorscale\": [[0.0, \"#0d0887\"], [0.1111111111111111, \"#46039f\"], [0.2222222222222222, \"#7201a8\"], [0.3333333333333333, \"#9c179e\"], [0.4444444444444444, \"#bd3786\"], [0.5555555555555556, \"#d8576b\"], [0.6666666666666666, \"#ed7953\"], [0.7777777777777778, \"#fb9f3a\"], [0.8888888888888888, \"#fdca26\"], [1.0, \"#f0f921\"]], \"type\": \"contour\"}], \"contourcarpet\": [{\"colorbar\": {\"outlinewidth\": 0, \"ticks\": \"\"}, \"type\": \"contourcarpet\"}], \"heatmap\": [{\"colorbar\": {\"outlinewidth\": 0, \"ticks\": \"\"}, \"colorscale\": [[0.0, \"#0d0887\"], [0.1111111111111111, \"#46039f\"], [0.2222222222222222, \"#7201a8\"], [0.3333333333333333, \"#9c179e\"], [0.4444444444444444, \"#bd3786\"], [0.5555555555555556, \"#d8576b\"], [0.6666666666666666, \"#ed7953\"], [0.7777777777777778, \"#fb9f3a\"], [0.8888888888888888, \"#fdca26\"], [1.0, \"#f0f921\"]], \"type\": \"heatmap\"}], \"heatmapgl\": [{\"colorbar\": {\"outlinewidth\": 0, \"ticks\": \"\"}, \"colorscale\": [[0.0, \"#0d0887\"], [0.1111111111111111, \"#46039f\"], [0.2222222222222222, \"#7201a8\"], [0.3333333333333333, \"#9c179e\"], [0.4444444444444444, \"#bd3786\"], [0.5555555555555556, \"#d8576b\"], [0.6666666666666666, \"#ed7953\"], [0.7777777777777778, \"#fb9f3a\"], [0.8888888888888888, \"#fdca26\"], [1.0, \"#f0f921\"]], \"type\": \"heatmapgl\"}], \"histogram\": [{\"marker\": {\"colorbar\": {\"outlinewidth\": 0, \"ticks\": \"\"}}, \"type\": \"histogram\"}], \"histogram2d\": [{\"colorbar\": {\"outlinewidth\": 0, \"ticks\": \"\"}, \"colorscale\": [[0.0, \"#0d0887\"], [0.1111111111111111, \"#46039f\"], [0.2222222222222222, \"#7201a8\"], [0.3333333333333333, \"#9c179e\"], [0.4444444444444444, \"#bd3786\"], [0.5555555555555556, \"#d8576b\"], [0.6666666666666666, \"#ed7953\"], [0.7777777777777778, \"#fb9f3a\"], [0.8888888888888888, \"#fdca26\"], [1.0, \"#f0f921\"]], \"type\": \"histogram2d\"}], \"histogram2dcontour\": [{\"colorbar\": {\"outlinewidth\": 0, \"ticks\": \"\"}, \"colorscale\": [[0.0, \"#0d0887\"], [0.1111111111111111, \"#46039f\"], [0.2222222222222222, \"#7201a8\"], [0.3333333333333333, \"#9c179e\"], [0.4444444444444444, \"#bd3786\"], [0.5555555555555556, \"#d8576b\"], [0.6666666666666666, \"#ed7953\"], [0.7777777777777778, \"#fb9f3a\"], [0.8888888888888888, \"#fdca26\"], [1.0, \"#f0f921\"]], \"type\": \"histogram2dcontour\"}], \"mesh3d\": [{\"colorbar\": {\"outlinewidth\": 0, \"ticks\": \"\"}, \"type\": \"mesh3d\"}], \"parcoords\": [{\"line\": {\"colorbar\": {\"outlinewidth\": 0, \"ticks\": \"\"}}, \"type\": \"parcoords\"}], \"pie\": [{\"automargin\": true, \"type\": \"pie\"}], \"scatter\": [{\"marker\": {\"colorbar\": {\"outlinewidth\": 0, \"ticks\": \"\"}}, \"type\": \"scatter\"}], \"scatter3d\": [{\"line\": {\"colorbar\": {\"outlinewidth\": 0, \"ticks\": \"\"}}, \"marker\": {\"colorbar\": {\"outlinewidth\": 0, \"ticks\": \"\"}}, \"type\": \"scatter3d\"}], \"scattercarpet\": [{\"marker\": {\"colorbar\": {\"outlinewidth\": 0, \"ticks\": \"\"}}, \"type\": \"scattercarpet\"}], \"scattergeo\": [{\"marker\": {\"colorbar\": {\"outlinewidth\": 0, \"ticks\": \"\"}}, \"type\": \"scattergeo\"}], \"scattergl\": [{\"marker\": {\"colorbar\": {\"outlinewidth\": 0, \"ticks\": \"\"}}, \"type\": \"scattergl\"}], \"scattermapbox\": [{\"marker\": {\"colorbar\": {\"outlinewidth\": 0, \"ticks\": \"\"}}, \"type\": \"scattermapbox\"}], \"scatterpolar\": [{\"marker\": {\"colorbar\": {\"outlinewidth\": 0, \"ticks\": \"\"}}, \"type\": \"scatterpolar\"}], \"scatterpolargl\": [{\"marker\": {\"colorbar\": {\"outlinewidth\": 0, \"ticks\": \"\"}}, \"type\": \"scatterpolargl\"}], \"scatterternary\": [{\"marker\": {\"colorbar\": {\"outlinewidth\": 0, \"ticks\": \"\"}}, \"type\": \"scatterternary\"}], \"surface\": [{\"colorbar\": {\"outlinewidth\": 0, \"ticks\": \"\"}, \"colorscale\": [[0.0, \"#0d0887\"], [0.1111111111111111, \"#46039f\"], [0.2222222222222222, \"#7201a8\"], [0.3333333333333333, \"#9c179e\"], [0.4444444444444444, \"#bd3786\"], [0.5555555555555556, \"#d8576b\"], [0.6666666666666666, \"#ed7953\"], [0.7777777777777778, \"#fb9f3a\"], [0.8888888888888888, \"#fdca26\"], [1.0, \"#f0f921\"]], \"type\": \"surface\"}], \"table\": [{\"cells\": {\"fill\": {\"color\": \"#EBF0F8\"}, \"line\": {\"color\": \"white\"}}, \"header\": {\"fill\": {\"color\": \"#C8D4E3\"}, \"line\": {\"color\": \"white\"}}, \"type\": \"table\"}]}, \"layout\": {\"annotationdefaults\": {\"arrowcolor\": \"#2a3f5f\", \"arrowhead\": 0, \"arrowwidth\": 1}, \"autotypenumbers\": \"strict\", \"coloraxis\": {\"colorbar\": {\"outlinewidth\": 0, \"ticks\": \"\"}}, \"colorscale\": {\"diverging\": [[0, \"#8e0152\"], [0.1, \"#c51b7d\"], [0.2, \"#de77ae\"], [0.3, \"#f1b6da\"], [0.4, \"#fde0ef\"], [0.5, \"#f7f7f7\"], [0.6, \"#e6f5d0\"], [0.7, \"#b8e186\"], [0.8, \"#7fbc41\"], [0.9, \"#4d9221\"], [1, \"#276419\"]], \"sequential\": [[0.0, \"#0d0887\"], [0.1111111111111111, \"#46039f\"], [0.2222222222222222, \"#7201a8\"], [0.3333333333333333, \"#9c179e\"], [0.4444444444444444, \"#bd3786\"], [0.5555555555555556, \"#d8576b\"], [0.6666666666666666, \"#ed7953\"], [0.7777777777777778, \"#fb9f3a\"], [0.8888888888888888, \"#fdca26\"], [1.0, \"#f0f921\"]], \"sequentialminus\": [[0.0, \"#0d0887\"], [0.1111111111111111, \"#46039f\"], [0.2222222222222222, \"#7201a8\"], [0.3333333333333333, \"#9c179e\"], [0.4444444444444444, \"#bd3786\"], [0.5555555555555556, \"#d8576b\"], [0.6666666666666666, \"#ed7953\"], [0.7777777777777778, \"#fb9f3a\"], [0.8888888888888888, \"#fdca26\"], [1.0, \"#f0f921\"]]}, \"colorway\": [\"#636efa\", \"#EF553B\", \"#00cc96\", \"#ab63fa\", \"#FFA15A\", \"#19d3f3\", \"#FF6692\", \"#B6E880\", \"#FF97FF\", \"#FECB52\"], \"font\": {\"color\": \"#2a3f5f\"}, \"geo\": {\"bgcolor\": \"white\", \"lakecolor\": \"white\", \"landcolor\": \"#E5ECF6\", \"showlakes\": true, \"showland\": true, \"subunitcolor\": \"white\"}, \"hoverlabel\": {\"align\": \"left\"}, \"hovermode\": \"closest\", \"mapbox\": {\"style\": \"light\"}, \"paper_bgcolor\": \"white\", \"plot_bgcolor\": \"#E5ECF6\", \"polar\": {\"angularaxis\": {\"gridcolor\": \"white\", \"linecolor\": \"white\", \"ticks\": \"\"}, \"bgcolor\": \"#E5ECF6\", \"radialaxis\": {\"gridcolor\": \"white\", \"linecolor\": \"white\", \"ticks\": \"\"}}, \"scene\": {\"xaxis\": {\"backgroundcolor\": \"#E5ECF6\", \"gridcolor\": \"white\", \"gridwidth\": 2, \"linecolor\": \"white\", \"showbackground\": true, \"ticks\": \"\", \"zerolinecolor\": \"white\"}, \"yaxis\": {\"backgroundcolor\": \"#E5ECF6\", \"gridcolor\": \"white\", \"gridwidth\": 2, \"linecolor\": \"white\", \"showbackground\": true, \"ticks\": \"\", \"zerolinecolor\": \"white\"}, \"zaxis\": {\"backgroundcolor\": \"#E5ECF6\", \"gridcolor\": \"white\", \"gridwidth\": 2, \"linecolor\": \"white\", \"showbackground\": true, \"ticks\": \"\", \"zerolinecolor\": \"white\"}}, \"shapedefaults\": {\"line\": {\"color\": \"#2a3f5f\"}}, \"ternary\": {\"aaxis\": {\"gridcolor\": \"white\", \"linecolor\": \"white\", \"ticks\": \"\"}, \"baxis\": {\"gridcolor\": \"white\", \"linecolor\": \"white\", \"ticks\": \"\"}, \"bgcolor\": \"#E5ECF6\", \"caxis\": {\"gridcolor\": \"white\", \"linecolor\": \"white\", \"ticks\": \"\"}}, \"title\": {\"x\": 0.05}, \"xaxis\": {\"automargin\": true, \"gridcolor\": \"white\", \"linecolor\": \"white\", \"ticks\": \"\", \"title\": {\"standoff\": 15}, \"zerolinecolor\": \"white\", \"zerolinewidth\": 2}, \"yaxis\": {\"automargin\": true, \"gridcolor\": \"white\", \"linecolor\": \"white\", \"ticks\": \"\", \"title\": {\"standoff\": 15}, \"zerolinecolor\": \"white\", \"zerolinewidth\": 2}}}, \"title\": {\"text\": \" Status da conta corrente existente\", \"x\": 0.5, \"xanchor\": \"center\", \"y\": 0.95, \"yanchor\": \"top\"}, \"xaxis\": {\"anchor\": \"y\", \"domain\": [0.0, 1.0], \"title\": {\"text\": \"checking_status\"}}, \"yaxis\": {\"anchor\": \"x\", \"domain\": [0.0, 1.0], \"title\": {\"text\": \"count\"}}},                        {\"responsive\": true}                    ).then(function(){\n",
       "                            \n",
       "var gd = document.getElementById('6a112b94-59c7-442e-b955-a6c0f2f9cd2f');\n",
       "var x = new MutationObserver(function (mutations, observer) {{\n",
       "        var display = window.getComputedStyle(gd).display;\n",
       "        if (!display || display === 'none') {{\n",
       "            console.log([gd, 'removed!']);\n",
       "            Plotly.purge(gd);\n",
       "            observer.disconnect();\n",
       "        }}\n",
       "}});\n",
       "\n",
       "// Listen for the removal of the full notebook cells\n",
       "var notebookContainer = gd.closest('#notebook-container');\n",
       "if (notebookContainer) {{\n",
       "    x.observe(notebookContainer, {childList: true});\n",
       "}}\n",
       "\n",
       "// Listen for the clearing of the current output cell\n",
       "var outputEl = gd.closest('.output');\n",
       "if (outputEl) {{\n",
       "    x.observe(outputEl, {childList: true});\n",
       "}}\n",
       "\n",
       "                        })                };                });            </script>        </div>"
      ]
     },
     "metadata": {},
     "output_type": "display_data"
    }
   ],
   "source": [
    "fig = px.histogram(base, x=\"checking_status\", color=\"class\")\n",
    "fig.update_layout(\n",
    "    title={\n",
    "          'text':\" Status da conta corrente existente\",\n",
    "        'y':.95,\n",
    "        'x':.5,\n",
    "        'xanchor': 'center',\n",
    "        'yanchor': 'top'\n",
    "    }  \n",
    ")\n",
    "fig.show()"
   ]
  },
  {
   "cell_type": "code",
   "execution_count": 71,
   "id": "considered-overhead",
   "metadata": {},
   "outputs": [
    {
     "data": {
      "application/vnd.plotly.v1+json": {
       "config": {
        "plotlyServerURL": "https://plot.ly"
       },
       "data": [
        {
         "alignmentgroup": "True",
         "bingroup": "x",
         "hovertemplate": "class=good<br>credit_history=%{x}<br>count=%{y}<extra></extra>",
         "legendgroup": "good",
         "marker": {
          "color": "#636efa"
         },
         "name": "good",
         "offsetgroup": "good",
         "orientation": "v",
         "showlegend": true,
         "type": "histogram",
         "x": [
          "existing paid",
          "existing paid",
          "critical/other existing credit",
          "critical/other existing credit",
          "critical/other existing credit",
          "critical/other existing credit",
          "existing paid",
          "existing paid",
          "delayed previously",
          "existing paid",
          "existing paid",
          "critical/other existing credit",
          "delayed previously",
          "existing paid",
          "existing paid",
          "existing paid",
          "critical/other existing credit",
          "existing paid",
          "critical/other existing credit",
          "existing paid",
          "critical/other existing credit",
          "all paid",
          "no credits/all paid",
          "delayed previously",
          "existing paid",
          "existing paid",
          "all paid",
          "all paid",
          "critical/other existing credit",
          "critical/other existing credit",
          "existing paid",
          "existing paid",
          "critical/other existing credit",
          "existing paid",
          "critical/other existing credit",
          "critical/other existing credit",
          "existing paid",
          "existing paid",
          "existing paid",
          "existing paid",
          "existing paid",
          "existing paid",
          "existing paid",
          "existing paid",
          "all paid",
          "existing paid",
          "existing paid",
          "critical/other existing credit",
          "existing paid",
          "critical/other existing credit",
          "critical/other existing credit",
          "critical/other existing credit",
          "existing paid",
          "all paid",
          "existing paid",
          "existing paid",
          "no credits/all paid",
          "existing paid",
          "delayed previously",
          "existing paid",
          "existing paid",
          "delayed previously",
          "existing paid",
          "critical/other existing credit",
          "no credits/all paid",
          "critical/other existing credit",
          "critical/other existing credit",
          "delayed previously",
          "existing paid",
          "critical/other existing credit",
          "existing paid",
          "existing paid",
          "all paid",
          "existing paid",
          "critical/other existing credit",
          "existing paid",
          "delayed previously",
          "existing paid",
          "existing paid",
          "existing paid",
          "existing paid",
          "critical/other existing credit",
          "existing paid",
          "critical/other existing credit",
          "critical/other existing credit",
          "critical/other existing credit",
          "critical/other existing credit",
          "existing paid",
          "no credits/all paid",
          "existing paid",
          "existing paid",
          "existing paid",
          "critical/other existing credit",
          "critical/other existing credit",
          "existing paid",
          "existing paid",
          "critical/other existing credit",
          "critical/other existing credit",
          "critical/other existing credit",
          "existing paid",
          "all paid",
          "existing paid",
          "critical/other existing credit",
          "existing paid",
          "existing paid",
          "existing paid",
          "delayed previously",
          "existing paid",
          "critical/other existing credit",
          "all paid",
          "critical/other existing credit",
          "critical/other existing credit",
          "existing paid",
          "existing paid",
          "critical/other existing credit",
          "critical/other existing credit",
          "existing paid",
          "critical/other existing credit",
          "existing paid",
          "critical/other existing credit",
          "existing paid",
          "critical/other existing credit",
          "critical/other existing credit",
          "existing paid",
          "existing paid",
          "critical/other existing credit",
          "critical/other existing credit",
          "critical/other existing credit",
          "critical/other existing credit",
          "existing paid",
          "existing paid",
          "existing paid",
          "all paid",
          "critical/other existing credit",
          "critical/other existing credit",
          "critical/other existing credit",
          "existing paid",
          "critical/other existing credit",
          "existing paid",
          "critical/other existing credit",
          "critical/other existing credit",
          "existing paid",
          "existing paid",
          "critical/other existing credit",
          "critical/other existing credit",
          "critical/other existing credit",
          "critical/other existing credit",
          "critical/other existing credit",
          "existing paid",
          "critical/other existing credit",
          "existing paid",
          "critical/other existing credit",
          "existing paid",
          "existing paid",
          "delayed previously",
          "existing paid",
          "no credits/all paid",
          "no credits/all paid",
          "existing paid",
          "critical/other existing credit",
          "critical/other existing credit",
          "critical/other existing credit",
          "delayed previously",
          "critical/other existing credit",
          "critical/other existing credit",
          "critical/other existing credit",
          "all paid",
          "critical/other existing credit",
          "critical/other existing credit",
          "existing paid",
          "existing paid",
          "critical/other existing credit",
          "all paid",
          "no credits/all paid",
          "critical/other existing credit",
          "critical/other existing credit",
          "existing paid",
          "delayed previously",
          "existing paid",
          "critical/other existing credit",
          "existing paid",
          "existing paid",
          "delayed previously",
          "delayed previously",
          "critical/other existing credit",
          "existing paid",
          "critical/other existing credit",
          "existing paid",
          "critical/other existing credit",
          "critical/other existing credit",
          "existing paid",
          "existing paid",
          "existing paid",
          "existing paid",
          "existing paid",
          "critical/other existing credit",
          "critical/other existing credit",
          "existing paid",
          "existing paid",
          "existing paid",
          "delayed previously",
          "existing paid",
          "critical/other existing credit",
          "existing paid",
          "critical/other existing credit",
          "all paid",
          "existing paid",
          "critical/other existing credit",
          "existing paid",
          "critical/other existing credit",
          "existing paid",
          "critical/other existing credit",
          "existing paid",
          "existing paid",
          "existing paid",
          "critical/other existing credit",
          "existing paid",
          "existing paid",
          "existing paid",
          "existing paid",
          "critical/other existing credit",
          "existing paid",
          "critical/other existing credit",
          "existing paid",
          "existing paid",
          "delayed previously",
          "existing paid",
          "delayed previously",
          "existing paid",
          "existing paid",
          "existing paid",
          "existing paid",
          "critical/other existing credit",
          "critical/other existing credit",
          "critical/other existing credit",
          "critical/other existing credit",
          "existing paid",
          "critical/other existing credit",
          "existing paid",
          "existing paid",
          "critical/other existing credit",
          "existing paid",
          "existing paid",
          "existing paid",
          "existing paid",
          "delayed previously",
          "critical/other existing credit",
          "delayed previously",
          "critical/other existing credit",
          "critical/other existing credit",
          "critical/other existing credit",
          "existing paid",
          "existing paid",
          "delayed previously",
          "existing paid",
          "existing paid",
          "delayed previously",
          "critical/other existing credit",
          "critical/other existing credit",
          "existing paid",
          "critical/other existing credit",
          "critical/other existing credit",
          "existing paid",
          "critical/other existing credit",
          "critical/other existing credit",
          "existing paid",
          "no credits/all paid",
          "existing paid",
          "critical/other existing credit",
          "critical/other existing credit",
          "existing paid",
          "existing paid",
          "existing paid",
          "existing paid",
          "existing paid",
          "existing paid",
          "critical/other existing credit",
          "existing paid",
          "existing paid",
          "existing paid",
          "all paid",
          "existing paid",
          "delayed previously",
          "existing paid",
          "existing paid",
          "critical/other existing credit",
          "critical/other existing credit",
          "existing paid",
          "existing paid",
          "no credits/all paid",
          "critical/other existing credit",
          "critical/other existing credit",
          "existing paid",
          "existing paid",
          "critical/other existing credit",
          "existing paid",
          "existing paid",
          "existing paid",
          "existing paid",
          "critical/other existing credit",
          "existing paid",
          "critical/other existing credit",
          "existing paid",
          "existing paid",
          "existing paid",
          "critical/other existing credit",
          "existing paid",
          "critical/other existing credit",
          "critical/other existing credit",
          "existing paid",
          "existing paid",
          "delayed previously",
          "existing paid",
          "critical/other existing credit",
          "existing paid",
          "existing paid",
          "critical/other existing credit",
          "existing paid",
          "critical/other existing credit",
          "critical/other existing credit",
          "critical/other existing credit",
          "existing paid",
          "critical/other existing credit",
          "critical/other existing credit",
          "critical/other existing credit",
          "critical/other existing credit",
          "existing paid",
          "existing paid",
          "existing paid",
          "critical/other existing credit",
          "existing paid",
          "critical/other existing credit",
          "delayed previously",
          "critical/other existing credit",
          "existing paid",
          "critical/other existing credit",
          "critical/other existing credit",
          "critical/other existing credit",
          "existing paid",
          "no credits/all paid",
          "existing paid",
          "critical/other existing credit",
          "all paid",
          "existing paid",
          "critical/other existing credit",
          "critical/other existing credit",
          "critical/other existing credit",
          "existing paid",
          "existing paid",
          "existing paid",
          "existing paid",
          "existing paid",
          "existing paid",
          "existing paid",
          "critical/other existing credit",
          "existing paid",
          "critical/other existing credit",
          "delayed previously",
          "existing paid",
          "existing paid",
          "delayed previously",
          "delayed previously",
          "critical/other existing credit",
          "critical/other existing credit",
          "critical/other existing credit",
          "critical/other existing credit",
          "existing paid",
          "critical/other existing credit",
          "delayed previously",
          "existing paid",
          "all paid",
          "existing paid",
          "critical/other existing credit",
          "critical/other existing credit",
          "existing paid",
          "critical/other existing credit",
          "critical/other existing credit",
          "existing paid",
          "existing paid",
          "existing paid",
          "existing paid",
          "existing paid",
          "existing paid",
          "existing paid",
          "delayed previously",
          "existing paid",
          "delayed previously",
          "existing paid",
          "existing paid",
          "critical/other existing credit",
          "critical/other existing credit",
          "existing paid",
          "critical/other existing credit",
          "existing paid",
          "critical/other existing credit",
          "critical/other existing credit",
          "existing paid",
          "existing paid",
          "critical/other existing credit",
          "existing paid",
          "existing paid",
          "existing paid",
          "critical/other existing credit",
          "existing paid",
          "existing paid",
          "existing paid",
          "existing paid",
          "critical/other existing credit",
          "critical/other existing credit",
          "all paid",
          "existing paid",
          "critical/other existing credit",
          "critical/other existing credit",
          "existing paid",
          "existing paid",
          "critical/other existing credit",
          "existing paid",
          "existing paid",
          "existing paid",
          "existing paid",
          "existing paid",
          "critical/other existing credit",
          "existing paid",
          "delayed previously",
          "existing paid",
          "existing paid",
          "delayed previously",
          "critical/other existing credit",
          "delayed previously",
          "existing paid",
          "critical/other existing credit",
          "existing paid",
          "critical/other existing credit",
          "existing paid",
          "critical/other existing credit",
          "existing paid",
          "critical/other existing credit",
          "delayed previously",
          "critical/other existing credit",
          "existing paid",
          "existing paid",
          "critical/other existing credit",
          "critical/other existing credit",
          "existing paid",
          "existing paid",
          "delayed previously",
          "existing paid",
          "existing paid",
          "critical/other existing credit",
          "existing paid",
          "existing paid",
          "critical/other existing credit",
          "existing paid",
          "existing paid",
          "existing paid",
          "critical/other existing credit",
          "delayed previously",
          "critical/other existing credit",
          "existing paid",
          "delayed previously",
          "critical/other existing credit",
          "critical/other existing credit",
          "critical/other existing credit",
          "critical/other existing credit",
          "critical/other existing credit",
          "critical/other existing credit",
          "delayed previously",
          "all paid",
          "existing paid",
          "existing paid",
          "critical/other existing credit",
          "critical/other existing credit",
          "existing paid",
          "critical/other existing credit",
          "existing paid",
          "critical/other existing credit",
          "existing paid",
          "critical/other existing credit",
          "existing paid",
          "existing paid",
          "existing paid",
          "critical/other existing credit",
          "existing paid",
          "existing paid",
          "delayed previously",
          "existing paid",
          "existing paid",
          "critical/other existing credit",
          "existing paid",
          "existing paid",
          "existing paid",
          "delayed previously",
          "existing paid",
          "existing paid",
          "delayed previously",
          "existing paid",
          "existing paid",
          "critical/other existing credit",
          "critical/other existing credit",
          "critical/other existing credit",
          "existing paid",
          "existing paid",
          "critical/other existing credit",
          "critical/other existing credit",
          "existing paid",
          "critical/other existing credit",
          "critical/other existing credit",
          "existing paid",
          "critical/other existing credit",
          "critical/other existing credit",
          "critical/other existing credit",
          "existing paid",
          "existing paid",
          "critical/other existing credit",
          "delayed previously",
          "existing paid",
          "existing paid",
          "critical/other existing credit",
          "critical/other existing credit",
          "critical/other existing credit",
          "delayed previously",
          "delayed previously",
          "existing paid",
          "existing paid",
          "critical/other existing credit",
          "delayed previously",
          "existing paid",
          "existing paid",
          "existing paid",
          "all paid",
          "critical/other existing credit",
          "existing paid",
          "existing paid",
          "delayed previously",
          "existing paid",
          "existing paid",
          "critical/other existing credit",
          "existing paid",
          "existing paid",
          "existing paid",
          "existing paid",
          "existing paid",
          "existing paid",
          "critical/other existing credit",
          "critical/other existing credit",
          "existing paid",
          "existing paid",
          "existing paid",
          "critical/other existing credit",
          "existing paid",
          "critical/other existing credit",
          "existing paid",
          "delayed previously",
          "existing paid",
          "delayed previously",
          "existing paid",
          "existing paid",
          "existing paid",
          "critical/other existing credit",
          "delayed previously",
          "critical/other existing credit",
          "delayed previously",
          "existing paid",
          "existing paid",
          "existing paid",
          "existing paid",
          "no credits/all paid",
          "critical/other existing credit",
          "delayed previously",
          "existing paid",
          "critical/other existing credit",
          "critical/other existing credit",
          "existing paid",
          "existing paid",
          "critical/other existing credit",
          "critical/other existing credit",
          "existing paid",
          "existing paid",
          "existing paid",
          "existing paid",
          "existing paid",
          "critical/other existing credit",
          "existing paid",
          "critical/other existing credit",
          "critical/other existing credit",
          "critical/other existing credit",
          "existing paid",
          "existing paid",
          "existing paid",
          "existing paid",
          "critical/other existing credit",
          "critical/other existing credit",
          "existing paid",
          "existing paid",
          "existing paid",
          "delayed previously",
          "existing paid",
          "existing paid",
          "existing paid",
          "delayed previously",
          "critical/other existing credit",
          "existing paid",
          "delayed previously",
          "delayed previously",
          "existing paid",
          "existing paid",
          "all paid",
          "existing paid",
          "existing paid",
          "critical/other existing credit",
          "critical/other existing credit",
          "existing paid",
          "existing paid",
          "existing paid",
          "existing paid",
          "critical/other existing credit",
          "delayed previously",
          "existing paid",
          "existing paid",
          "critical/other existing credit",
          "existing paid",
          "critical/other existing credit",
          "critical/other existing credit",
          "critical/other existing credit",
          "critical/other existing credit",
          "existing paid",
          "no credits/all paid",
          "critical/other existing credit",
          "existing paid",
          "existing paid"
         ],
         "xaxis": "x",
         "yaxis": "y"
        },
        {
         "alignmentgroup": "True",
         "bingroup": "x",
         "hovertemplate": "class=bad<br>credit_history=%{x}<br>count=%{y}<extra></extra>",
         "legendgroup": "bad",
         "marker": {
          "color": "#EF553B"
         },
         "name": "bad",
         "offsetgroup": "bad",
         "orientation": "v",
         "showlegend": true,
         "type": "histogram",
         "x": [
          "existing paid",
          "existing paid",
          "all paid",
          "existing paid",
          "all paid",
          "critical/other existing credit",
          "existing paid",
          "existing paid",
          "existing paid",
          "existing paid",
          "existing paid",
          "existing paid",
          "existing paid",
          "existing paid",
          "existing paid",
          "existing paid",
          "existing paid",
          "critical/other existing credit",
          "critical/other existing credit",
          "critical/other existing credit",
          "all paid",
          "delayed previously",
          "no credits/all paid",
          "existing paid",
          "critical/other existing credit",
          "existing paid",
          "existing paid",
          "existing paid",
          "no credits/all paid",
          "existing paid",
          "critical/other existing credit",
          "existing paid",
          "all paid",
          "existing paid",
          "no credits/all paid",
          "existing paid",
          "all paid",
          "delayed previously",
          "existing paid",
          "no credits/all paid",
          "delayed previously",
          "existing paid",
          "critical/other existing credit",
          "all paid",
          "existing paid",
          "existing paid",
          "existing paid",
          "existing paid",
          "critical/other existing credit",
          "existing paid",
          "delayed previously",
          "delayed previously",
          "existing paid",
          "existing paid",
          "existing paid",
          "existing paid",
          "existing paid",
          "existing paid",
          "existing paid",
          "existing paid",
          "all paid",
          "critical/other existing credit",
          "existing paid",
          "all paid",
          "existing paid",
          "existing paid",
          "critical/other existing credit",
          "critical/other existing credit",
          "existing paid",
          "no credits/all paid",
          "existing paid",
          "all paid",
          "existing paid",
          "critical/other existing credit",
          "existing paid",
          "all paid",
          "existing paid",
          "existing paid",
          "critical/other existing credit",
          "existing paid",
          "existing paid",
          "existing paid",
          "existing paid",
          "existing paid",
          "no credits/all paid",
          "critical/other existing credit",
          "existing paid",
          "existing paid",
          "existing paid",
          "existing paid",
          "existing paid",
          "no credits/all paid",
          "critical/other existing credit",
          "no credits/all paid",
          "delayed previously",
          "critical/other existing credit",
          "critical/other existing credit",
          "existing paid",
          "existing paid",
          "no credits/all paid",
          "existing paid",
          "delayed previously",
          "existing paid",
          "existing paid",
          "delayed previously",
          "existing paid",
          "critical/other existing credit",
          "existing paid",
          "existing paid",
          "existing paid",
          "existing paid",
          "existing paid",
          "existing paid",
          "existing paid",
          "critical/other existing credit",
          "existing paid",
          "all paid",
          "existing paid",
          "existing paid",
          "critical/other existing credit",
          "no credits/all paid",
          "existing paid",
          "delayed previously",
          "no credits/all paid",
          "no credits/all paid",
          "all paid",
          "existing paid",
          "existing paid",
          "existing paid",
          "existing paid",
          "existing paid",
          "all paid",
          "existing paid",
          "existing paid",
          "existing paid",
          "existing paid",
          "critical/other existing credit",
          "critical/other existing credit",
          "existing paid",
          "critical/other existing credit",
          "existing paid",
          "existing paid",
          "all paid",
          "all paid",
          "existing paid",
          "existing paid",
          "critical/other existing credit",
          "delayed previously",
          "existing paid",
          "all paid",
          "delayed previously",
          "existing paid",
          "no credits/all paid",
          "critical/other existing credit",
          "delayed previously",
          "existing paid",
          "existing paid",
          "no credits/all paid",
          "all paid",
          "all paid",
          "all paid",
          "no credits/all paid",
          "existing paid",
          "existing paid",
          "existing paid",
          "delayed previously",
          "critical/other existing credit",
          "critical/other existing credit",
          "existing paid",
          "all paid",
          "critical/other existing credit",
          "existing paid",
          "critical/other existing credit",
          "existing paid",
          "existing paid",
          "existing paid",
          "critical/other existing credit",
          "no credits/all paid",
          "all paid",
          "critical/other existing credit",
          "delayed previously",
          "existing paid",
          "existing paid",
          "existing paid",
          "delayed previously",
          "existing paid",
          "delayed previously",
          "critical/other existing credit",
          "critical/other existing credit",
          "critical/other existing credit",
          "existing paid",
          "existing paid",
          "no credits/all paid",
          "existing paid",
          "existing paid",
          "existing paid",
          "existing paid",
          "existing paid",
          "existing paid",
          "existing paid",
          "all paid",
          "existing paid",
          "delayed previously",
          "existing paid",
          "critical/other existing credit",
          "existing paid",
          "no credits/all paid",
          "existing paid",
          "no credits/all paid",
          "existing paid",
          "critical/other existing credit",
          "critical/other existing credit",
          "delayed previously",
          "existing paid",
          "existing paid",
          "existing paid",
          "existing paid",
          "existing paid",
          "existing paid",
          "critical/other existing credit",
          "no credits/all paid",
          "existing paid",
          "critical/other existing credit",
          "critical/other existing credit",
          "existing paid",
          "existing paid",
          "existing paid",
          "existing paid",
          "critical/other existing credit",
          "existing paid",
          "existing paid",
          "no credits/all paid",
          "existing paid",
          "critical/other existing credit",
          "delayed previously",
          "critical/other existing credit",
          "no credits/all paid",
          "critical/other existing credit",
          "existing paid",
          "existing paid",
          "critical/other existing credit",
          "no credits/all paid",
          "delayed previously",
          "delayed previously",
          "all paid",
          "existing paid",
          "existing paid",
          "critical/other existing credit",
          "existing paid",
          "existing paid",
          "existing paid",
          "existing paid",
          "existing paid",
          "critical/other existing credit",
          "all paid",
          "existing paid",
          "existing paid",
          "existing paid",
          "all paid",
          "existing paid",
          "existing paid",
          "existing paid",
          "existing paid",
          "critical/other existing credit",
          "all paid",
          "all paid",
          "delayed previously",
          "delayed previously",
          "delayed previously",
          "critical/other existing credit"
         ],
         "xaxis": "x",
         "yaxis": "y"
        }
       ],
       "layout": {
        "barmode": "relative",
        "legend": {
         "title": {
          "text": "class"
         },
         "tracegroupgap": 0
        },
        "margin": {
         "t": 60
        },
        "template": {
         "data": {
          "bar": [
           {
            "error_x": {
             "color": "#2a3f5f"
            },
            "error_y": {
             "color": "#2a3f5f"
            },
            "marker": {
             "line": {
              "color": "#E5ECF6",
              "width": 0.5
             }
            },
            "type": "bar"
           }
          ],
          "barpolar": [
           {
            "marker": {
             "line": {
              "color": "#E5ECF6",
              "width": 0.5
             }
            },
            "type": "barpolar"
           }
          ],
          "carpet": [
           {
            "aaxis": {
             "endlinecolor": "#2a3f5f",
             "gridcolor": "white",
             "linecolor": "white",
             "minorgridcolor": "white",
             "startlinecolor": "#2a3f5f"
            },
            "baxis": {
             "endlinecolor": "#2a3f5f",
             "gridcolor": "white",
             "linecolor": "white",
             "minorgridcolor": "white",
             "startlinecolor": "#2a3f5f"
            },
            "type": "carpet"
           }
          ],
          "choropleth": [
           {
            "colorbar": {
             "outlinewidth": 0,
             "ticks": ""
            },
            "type": "choropleth"
           }
          ],
          "contour": [
           {
            "colorbar": {
             "outlinewidth": 0,
             "ticks": ""
            },
            "colorscale": [
             [
              0,
              "#0d0887"
             ],
             [
              0.1111111111111111,
              "#46039f"
             ],
             [
              0.2222222222222222,
              "#7201a8"
             ],
             [
              0.3333333333333333,
              "#9c179e"
             ],
             [
              0.4444444444444444,
              "#bd3786"
             ],
             [
              0.5555555555555556,
              "#d8576b"
             ],
             [
              0.6666666666666666,
              "#ed7953"
             ],
             [
              0.7777777777777778,
              "#fb9f3a"
             ],
             [
              0.8888888888888888,
              "#fdca26"
             ],
             [
              1,
              "#f0f921"
             ]
            ],
            "type": "contour"
           }
          ],
          "contourcarpet": [
           {
            "colorbar": {
             "outlinewidth": 0,
             "ticks": ""
            },
            "type": "contourcarpet"
           }
          ],
          "heatmap": [
           {
            "colorbar": {
             "outlinewidth": 0,
             "ticks": ""
            },
            "colorscale": [
             [
              0,
              "#0d0887"
             ],
             [
              0.1111111111111111,
              "#46039f"
             ],
             [
              0.2222222222222222,
              "#7201a8"
             ],
             [
              0.3333333333333333,
              "#9c179e"
             ],
             [
              0.4444444444444444,
              "#bd3786"
             ],
             [
              0.5555555555555556,
              "#d8576b"
             ],
             [
              0.6666666666666666,
              "#ed7953"
             ],
             [
              0.7777777777777778,
              "#fb9f3a"
             ],
             [
              0.8888888888888888,
              "#fdca26"
             ],
             [
              1,
              "#f0f921"
             ]
            ],
            "type": "heatmap"
           }
          ],
          "heatmapgl": [
           {
            "colorbar": {
             "outlinewidth": 0,
             "ticks": ""
            },
            "colorscale": [
             [
              0,
              "#0d0887"
             ],
             [
              0.1111111111111111,
              "#46039f"
             ],
             [
              0.2222222222222222,
              "#7201a8"
             ],
             [
              0.3333333333333333,
              "#9c179e"
             ],
             [
              0.4444444444444444,
              "#bd3786"
             ],
             [
              0.5555555555555556,
              "#d8576b"
             ],
             [
              0.6666666666666666,
              "#ed7953"
             ],
             [
              0.7777777777777778,
              "#fb9f3a"
             ],
             [
              0.8888888888888888,
              "#fdca26"
             ],
             [
              1,
              "#f0f921"
             ]
            ],
            "type": "heatmapgl"
           }
          ],
          "histogram": [
           {
            "marker": {
             "colorbar": {
              "outlinewidth": 0,
              "ticks": ""
             }
            },
            "type": "histogram"
           }
          ],
          "histogram2d": [
           {
            "colorbar": {
             "outlinewidth": 0,
             "ticks": ""
            },
            "colorscale": [
             [
              0,
              "#0d0887"
             ],
             [
              0.1111111111111111,
              "#46039f"
             ],
             [
              0.2222222222222222,
              "#7201a8"
             ],
             [
              0.3333333333333333,
              "#9c179e"
             ],
             [
              0.4444444444444444,
              "#bd3786"
             ],
             [
              0.5555555555555556,
              "#d8576b"
             ],
             [
              0.6666666666666666,
              "#ed7953"
             ],
             [
              0.7777777777777778,
              "#fb9f3a"
             ],
             [
              0.8888888888888888,
              "#fdca26"
             ],
             [
              1,
              "#f0f921"
             ]
            ],
            "type": "histogram2d"
           }
          ],
          "histogram2dcontour": [
           {
            "colorbar": {
             "outlinewidth": 0,
             "ticks": ""
            },
            "colorscale": [
             [
              0,
              "#0d0887"
             ],
             [
              0.1111111111111111,
              "#46039f"
             ],
             [
              0.2222222222222222,
              "#7201a8"
             ],
             [
              0.3333333333333333,
              "#9c179e"
             ],
             [
              0.4444444444444444,
              "#bd3786"
             ],
             [
              0.5555555555555556,
              "#d8576b"
             ],
             [
              0.6666666666666666,
              "#ed7953"
             ],
             [
              0.7777777777777778,
              "#fb9f3a"
             ],
             [
              0.8888888888888888,
              "#fdca26"
             ],
             [
              1,
              "#f0f921"
             ]
            ],
            "type": "histogram2dcontour"
           }
          ],
          "mesh3d": [
           {
            "colorbar": {
             "outlinewidth": 0,
             "ticks": ""
            },
            "type": "mesh3d"
           }
          ],
          "parcoords": [
           {
            "line": {
             "colorbar": {
              "outlinewidth": 0,
              "ticks": ""
             }
            },
            "type": "parcoords"
           }
          ],
          "pie": [
           {
            "automargin": true,
            "type": "pie"
           }
          ],
          "scatter": [
           {
            "marker": {
             "colorbar": {
              "outlinewidth": 0,
              "ticks": ""
             }
            },
            "type": "scatter"
           }
          ],
          "scatter3d": [
           {
            "line": {
             "colorbar": {
              "outlinewidth": 0,
              "ticks": ""
             }
            },
            "marker": {
             "colorbar": {
              "outlinewidth": 0,
              "ticks": ""
             }
            },
            "type": "scatter3d"
           }
          ],
          "scattercarpet": [
           {
            "marker": {
             "colorbar": {
              "outlinewidth": 0,
              "ticks": ""
             }
            },
            "type": "scattercarpet"
           }
          ],
          "scattergeo": [
           {
            "marker": {
             "colorbar": {
              "outlinewidth": 0,
              "ticks": ""
             }
            },
            "type": "scattergeo"
           }
          ],
          "scattergl": [
           {
            "marker": {
             "colorbar": {
              "outlinewidth": 0,
              "ticks": ""
             }
            },
            "type": "scattergl"
           }
          ],
          "scattermapbox": [
           {
            "marker": {
             "colorbar": {
              "outlinewidth": 0,
              "ticks": ""
             }
            },
            "type": "scattermapbox"
           }
          ],
          "scatterpolar": [
           {
            "marker": {
             "colorbar": {
              "outlinewidth": 0,
              "ticks": ""
             }
            },
            "type": "scatterpolar"
           }
          ],
          "scatterpolargl": [
           {
            "marker": {
             "colorbar": {
              "outlinewidth": 0,
              "ticks": ""
             }
            },
            "type": "scatterpolargl"
           }
          ],
          "scatterternary": [
           {
            "marker": {
             "colorbar": {
              "outlinewidth": 0,
              "ticks": ""
             }
            },
            "type": "scatterternary"
           }
          ],
          "surface": [
           {
            "colorbar": {
             "outlinewidth": 0,
             "ticks": ""
            },
            "colorscale": [
             [
              0,
              "#0d0887"
             ],
             [
              0.1111111111111111,
              "#46039f"
             ],
             [
              0.2222222222222222,
              "#7201a8"
             ],
             [
              0.3333333333333333,
              "#9c179e"
             ],
             [
              0.4444444444444444,
              "#bd3786"
             ],
             [
              0.5555555555555556,
              "#d8576b"
             ],
             [
              0.6666666666666666,
              "#ed7953"
             ],
             [
              0.7777777777777778,
              "#fb9f3a"
             ],
             [
              0.8888888888888888,
              "#fdca26"
             ],
             [
              1,
              "#f0f921"
             ]
            ],
            "type": "surface"
           }
          ],
          "table": [
           {
            "cells": {
             "fill": {
              "color": "#EBF0F8"
             },
             "line": {
              "color": "white"
             }
            },
            "header": {
             "fill": {
              "color": "#C8D4E3"
             },
             "line": {
              "color": "white"
             }
            },
            "type": "table"
           }
          ]
         },
         "layout": {
          "annotationdefaults": {
           "arrowcolor": "#2a3f5f",
           "arrowhead": 0,
           "arrowwidth": 1
          },
          "autotypenumbers": "strict",
          "coloraxis": {
           "colorbar": {
            "outlinewidth": 0,
            "ticks": ""
           }
          },
          "colorscale": {
           "diverging": [
            [
             0,
             "#8e0152"
            ],
            [
             0.1,
             "#c51b7d"
            ],
            [
             0.2,
             "#de77ae"
            ],
            [
             0.3,
             "#f1b6da"
            ],
            [
             0.4,
             "#fde0ef"
            ],
            [
             0.5,
             "#f7f7f7"
            ],
            [
             0.6,
             "#e6f5d0"
            ],
            [
             0.7,
             "#b8e186"
            ],
            [
             0.8,
             "#7fbc41"
            ],
            [
             0.9,
             "#4d9221"
            ],
            [
             1,
             "#276419"
            ]
           ],
           "sequential": [
            [
             0,
             "#0d0887"
            ],
            [
             0.1111111111111111,
             "#46039f"
            ],
            [
             0.2222222222222222,
             "#7201a8"
            ],
            [
             0.3333333333333333,
             "#9c179e"
            ],
            [
             0.4444444444444444,
             "#bd3786"
            ],
            [
             0.5555555555555556,
             "#d8576b"
            ],
            [
             0.6666666666666666,
             "#ed7953"
            ],
            [
             0.7777777777777778,
             "#fb9f3a"
            ],
            [
             0.8888888888888888,
             "#fdca26"
            ],
            [
             1,
             "#f0f921"
            ]
           ],
           "sequentialminus": [
            [
             0,
             "#0d0887"
            ],
            [
             0.1111111111111111,
             "#46039f"
            ],
            [
             0.2222222222222222,
             "#7201a8"
            ],
            [
             0.3333333333333333,
             "#9c179e"
            ],
            [
             0.4444444444444444,
             "#bd3786"
            ],
            [
             0.5555555555555556,
             "#d8576b"
            ],
            [
             0.6666666666666666,
             "#ed7953"
            ],
            [
             0.7777777777777778,
             "#fb9f3a"
            ],
            [
             0.8888888888888888,
             "#fdca26"
            ],
            [
             1,
             "#f0f921"
            ]
           ]
          },
          "colorway": [
           "#636efa",
           "#EF553B",
           "#00cc96",
           "#ab63fa",
           "#FFA15A",
           "#19d3f3",
           "#FF6692",
           "#B6E880",
           "#FF97FF",
           "#FECB52"
          ],
          "font": {
           "color": "#2a3f5f"
          },
          "geo": {
           "bgcolor": "white",
           "lakecolor": "white",
           "landcolor": "#E5ECF6",
           "showlakes": true,
           "showland": true,
           "subunitcolor": "white"
          },
          "hoverlabel": {
           "align": "left"
          },
          "hovermode": "closest",
          "mapbox": {
           "style": "light"
          },
          "paper_bgcolor": "white",
          "plot_bgcolor": "#E5ECF6",
          "polar": {
           "angularaxis": {
            "gridcolor": "white",
            "linecolor": "white",
            "ticks": ""
           },
           "bgcolor": "#E5ECF6",
           "radialaxis": {
            "gridcolor": "white",
            "linecolor": "white",
            "ticks": ""
           }
          },
          "scene": {
           "xaxis": {
            "backgroundcolor": "#E5ECF6",
            "gridcolor": "white",
            "gridwidth": 2,
            "linecolor": "white",
            "showbackground": true,
            "ticks": "",
            "zerolinecolor": "white"
           },
           "yaxis": {
            "backgroundcolor": "#E5ECF6",
            "gridcolor": "white",
            "gridwidth": 2,
            "linecolor": "white",
            "showbackground": true,
            "ticks": "",
            "zerolinecolor": "white"
           },
           "zaxis": {
            "backgroundcolor": "#E5ECF6",
            "gridcolor": "white",
            "gridwidth": 2,
            "linecolor": "white",
            "showbackground": true,
            "ticks": "",
            "zerolinecolor": "white"
           }
          },
          "shapedefaults": {
           "line": {
            "color": "#2a3f5f"
           }
          },
          "ternary": {
           "aaxis": {
            "gridcolor": "white",
            "linecolor": "white",
            "ticks": ""
           },
           "baxis": {
            "gridcolor": "white",
            "linecolor": "white",
            "ticks": ""
           },
           "bgcolor": "#E5ECF6",
           "caxis": {
            "gridcolor": "white",
            "linecolor": "white",
            "ticks": ""
           }
          },
          "title": {
           "x": 0.05
          },
          "xaxis": {
           "automargin": true,
           "gridcolor": "white",
           "linecolor": "white",
           "ticks": "",
           "title": {
            "standoff": 15
           },
           "zerolinecolor": "white",
           "zerolinewidth": 2
          },
          "yaxis": {
           "automargin": true,
           "gridcolor": "white",
           "linecolor": "white",
           "ticks": "",
           "title": {
            "standoff": 15
           },
           "zerolinecolor": "white",
           "zerolinewidth": 2
          }
         }
        },
        "title": {
         "text": " História de Crédito",
         "x": 0.5,
         "xanchor": "center",
         "y": 0.95,
         "yanchor": "top"
        },
        "xaxis": {
         "anchor": "y",
         "domain": [
          0,
          1
         ],
         "title": {
          "text": "credit_history"
         }
        },
        "yaxis": {
         "anchor": "x",
         "domain": [
          0,
          1
         ],
         "title": {
          "text": "count"
         }
        }
       }
      },
      "text/html": [
       "<div>                            <div id=\"ae521182-ee33-46f4-b515-cbea5e1b264f\" class=\"plotly-graph-div\" style=\"height:525px; width:100%;\"></div>            <script type=\"text/javascript\">                require([\"plotly\"], function(Plotly) {                    window.PLOTLYENV=window.PLOTLYENV || {};                                    if (document.getElementById(\"ae521182-ee33-46f4-b515-cbea5e1b264f\")) {                    Plotly.newPlot(                        \"ae521182-ee33-46f4-b515-cbea5e1b264f\",                        [{\"alignmentgroup\": \"True\", \"bingroup\": \"x\", \"hovertemplate\": \"class=good<br>credit_history=%{x}<br>count=%{y}<extra></extra>\", \"legendgroup\": \"good\", \"marker\": {\"color\": \"#636efa\"}, \"name\": \"good\", \"offsetgroup\": \"good\", \"orientation\": \"v\", \"showlegend\": true, \"type\": \"histogram\", \"x\": [\"existing paid\", \"existing paid\", \"critical/other existing credit\", \"critical/other existing credit\", \"critical/other existing credit\", \"critical/other existing credit\", \"existing paid\", \"existing paid\", \"delayed previously\", \"existing paid\", \"existing paid\", \"critical/other existing credit\", \"delayed previously\", \"existing paid\", \"existing paid\", \"existing paid\", \"critical/other existing credit\", \"existing paid\", \"critical/other existing credit\", \"existing paid\", \"critical/other existing credit\", \"all paid\", \"no credits/all paid\", \"delayed previously\", \"existing paid\", \"existing paid\", \"all paid\", \"all paid\", \"critical/other existing credit\", \"critical/other existing credit\", \"existing paid\", \"existing paid\", \"critical/other existing credit\", \"existing paid\", \"critical/other existing credit\", \"critical/other existing credit\", \"existing paid\", \"existing paid\", \"existing paid\", \"existing paid\", \"existing paid\", \"existing paid\", \"existing paid\", \"existing paid\", \"all paid\", \"existing paid\", \"existing paid\", \"critical/other existing credit\", \"existing paid\", \"critical/other existing credit\", \"critical/other existing credit\", \"critical/other existing credit\", \"existing paid\", \"all paid\", \"existing paid\", \"existing paid\", \"no credits/all paid\", \"existing paid\", \"delayed previously\", \"existing paid\", \"existing paid\", \"delayed previously\", \"existing paid\", \"critical/other existing credit\", \"no credits/all paid\", \"critical/other existing credit\", \"critical/other existing credit\", \"delayed previously\", \"existing paid\", \"critical/other existing credit\", \"existing paid\", \"existing paid\", \"all paid\", \"existing paid\", \"critical/other existing credit\", \"existing paid\", \"delayed previously\", \"existing paid\", \"existing paid\", \"existing paid\", \"existing paid\", \"critical/other existing credit\", \"existing paid\", \"critical/other existing credit\", \"critical/other existing credit\", \"critical/other existing credit\", \"critical/other existing credit\", \"existing paid\", \"no credits/all paid\", \"existing paid\", \"existing paid\", \"existing paid\", \"critical/other existing credit\", \"critical/other existing credit\", \"existing paid\", \"existing paid\", \"critical/other existing credit\", \"critical/other existing credit\", \"critical/other existing credit\", \"existing paid\", \"all paid\", \"existing paid\", \"critical/other existing credit\", \"existing paid\", \"existing paid\", \"existing paid\", \"delayed previously\", \"existing paid\", \"critical/other existing credit\", \"all paid\", \"critical/other existing credit\", \"critical/other existing credit\", \"existing paid\", \"existing paid\", \"critical/other existing credit\", \"critical/other existing credit\", \"existing paid\", \"critical/other existing credit\", \"existing paid\", \"critical/other existing credit\", \"existing paid\", \"critical/other existing credit\", \"critical/other existing credit\", \"existing paid\", \"existing paid\", \"critical/other existing credit\", \"critical/other existing credit\", \"critical/other existing credit\", \"critical/other existing credit\", \"existing paid\", \"existing paid\", \"existing paid\", \"all paid\", \"critical/other existing credit\", \"critical/other existing credit\", \"critical/other existing credit\", \"existing paid\", \"critical/other existing credit\", \"existing paid\", \"critical/other existing credit\", \"critical/other existing credit\", \"existing paid\", \"existing paid\", \"critical/other existing credit\", \"critical/other existing credit\", \"critical/other existing credit\", \"critical/other existing credit\", \"critical/other existing credit\", \"existing paid\", \"critical/other existing credit\", \"existing paid\", \"critical/other existing credit\", \"existing paid\", \"existing paid\", \"delayed previously\", \"existing paid\", \"no credits/all paid\", \"no credits/all paid\", \"existing paid\", \"critical/other existing credit\", \"critical/other existing credit\", \"critical/other existing credit\", \"delayed previously\", \"critical/other existing credit\", \"critical/other existing credit\", \"critical/other existing credit\", \"all paid\", \"critical/other existing credit\", \"critical/other existing credit\", \"existing paid\", \"existing paid\", \"critical/other existing credit\", \"all paid\", \"no credits/all paid\", \"critical/other existing credit\", \"critical/other existing credit\", \"existing paid\", \"delayed previously\", \"existing paid\", \"critical/other existing credit\", \"existing paid\", \"existing paid\", \"delayed previously\", \"delayed previously\", \"critical/other existing credit\", \"existing paid\", \"critical/other existing credit\", \"existing paid\", \"critical/other existing credit\", \"critical/other existing credit\", \"existing paid\", \"existing paid\", \"existing paid\", \"existing paid\", \"existing paid\", \"critical/other existing credit\", \"critical/other existing credit\", \"existing paid\", \"existing paid\", \"existing paid\", \"delayed previously\", \"existing paid\", \"critical/other existing credit\", \"existing paid\", \"critical/other existing credit\", \"all paid\", \"existing paid\", \"critical/other existing credit\", \"existing paid\", \"critical/other existing credit\", \"existing paid\", \"critical/other existing credit\", \"existing paid\", \"existing paid\", \"existing paid\", \"critical/other existing credit\", \"existing paid\", \"existing paid\", \"existing paid\", \"existing paid\", \"critical/other existing credit\", \"existing paid\", \"critical/other existing credit\", \"existing paid\", \"existing paid\", \"delayed previously\", \"existing paid\", \"delayed previously\", \"existing paid\", \"existing paid\", \"existing paid\", \"existing paid\", \"critical/other existing credit\", \"critical/other existing credit\", \"critical/other existing credit\", \"critical/other existing credit\", \"existing paid\", \"critical/other existing credit\", \"existing paid\", \"existing paid\", \"critical/other existing credit\", \"existing paid\", \"existing paid\", \"existing paid\", \"existing paid\", \"delayed previously\", \"critical/other existing credit\", \"delayed previously\", \"critical/other existing credit\", \"critical/other existing credit\", \"critical/other existing credit\", \"existing paid\", \"existing paid\", \"delayed previously\", \"existing paid\", \"existing paid\", \"delayed previously\", \"critical/other existing credit\", \"critical/other existing credit\", \"existing paid\", \"critical/other existing credit\", \"critical/other existing credit\", \"existing paid\", \"critical/other existing credit\", \"critical/other existing credit\", \"existing paid\", \"no credits/all paid\", \"existing paid\", \"critical/other existing credit\", \"critical/other existing credit\", \"existing paid\", \"existing paid\", \"existing paid\", \"existing paid\", \"existing paid\", \"existing paid\", \"critical/other existing credit\", \"existing paid\", \"existing paid\", \"existing paid\", \"all paid\", \"existing paid\", \"delayed previously\", \"existing paid\", \"existing paid\", \"critical/other existing credit\", \"critical/other existing credit\", \"existing paid\", \"existing paid\", \"no credits/all paid\", \"critical/other existing credit\", \"critical/other existing credit\", \"existing paid\", \"existing paid\", \"critical/other existing credit\", \"existing paid\", \"existing paid\", \"existing paid\", \"existing paid\", \"critical/other existing credit\", \"existing paid\", \"critical/other existing credit\", \"existing paid\", \"existing paid\", \"existing paid\", \"critical/other existing credit\", \"existing paid\", \"critical/other existing credit\", \"critical/other existing credit\", \"existing paid\", \"existing paid\", \"delayed previously\", \"existing paid\", \"critical/other existing credit\", \"existing paid\", \"existing paid\", \"critical/other existing credit\", \"existing paid\", \"critical/other existing credit\", \"critical/other existing credit\", \"critical/other existing credit\", \"existing paid\", \"critical/other existing credit\", \"critical/other existing credit\", \"critical/other existing credit\", \"critical/other existing credit\", \"existing paid\", \"existing paid\", \"existing paid\", \"critical/other existing credit\", \"existing paid\", \"critical/other existing credit\", \"delayed previously\", \"critical/other existing credit\", \"existing paid\", \"critical/other existing credit\", \"critical/other existing credit\", \"critical/other existing credit\", \"existing paid\", \"no credits/all paid\", \"existing paid\", \"critical/other existing credit\", \"all paid\", \"existing paid\", \"critical/other existing credit\", \"critical/other existing credit\", \"critical/other existing credit\", \"existing paid\", \"existing paid\", \"existing paid\", \"existing paid\", \"existing paid\", \"existing paid\", \"existing paid\", \"critical/other existing credit\", \"existing paid\", \"critical/other existing credit\", \"delayed previously\", \"existing paid\", \"existing paid\", \"delayed previously\", \"delayed previously\", \"critical/other existing credit\", \"critical/other existing credit\", \"critical/other existing credit\", \"critical/other existing credit\", \"existing paid\", \"critical/other existing credit\", \"delayed previously\", \"existing paid\", \"all paid\", \"existing paid\", \"critical/other existing credit\", \"critical/other existing credit\", \"existing paid\", \"critical/other existing credit\", \"critical/other existing credit\", \"existing paid\", \"existing paid\", \"existing paid\", \"existing paid\", \"existing paid\", \"existing paid\", \"existing paid\", \"delayed previously\", \"existing paid\", \"delayed previously\", \"existing paid\", \"existing paid\", \"critical/other existing credit\", \"critical/other existing credit\", \"existing paid\", \"critical/other existing credit\", \"existing paid\", \"critical/other existing credit\", \"critical/other existing credit\", \"existing paid\", \"existing paid\", \"critical/other existing credit\", \"existing paid\", \"existing paid\", \"existing paid\", \"critical/other existing credit\", \"existing paid\", \"existing paid\", \"existing paid\", \"existing paid\", \"critical/other existing credit\", \"critical/other existing credit\", \"all paid\", \"existing paid\", \"critical/other existing credit\", \"critical/other existing credit\", \"existing paid\", \"existing paid\", \"critical/other existing credit\", \"existing paid\", \"existing paid\", \"existing paid\", \"existing paid\", \"existing paid\", \"critical/other existing credit\", \"existing paid\", \"delayed previously\", \"existing paid\", \"existing paid\", \"delayed previously\", \"critical/other existing credit\", \"delayed previously\", \"existing paid\", \"critical/other existing credit\", \"existing paid\", \"critical/other existing credit\", \"existing paid\", \"critical/other existing credit\", \"existing paid\", \"critical/other existing credit\", \"delayed previously\", \"critical/other existing credit\", \"existing paid\", \"existing paid\", \"critical/other existing credit\", \"critical/other existing credit\", \"existing paid\", \"existing paid\", \"delayed previously\", \"existing paid\", \"existing paid\", \"critical/other existing credit\", \"existing paid\", \"existing paid\", \"critical/other existing credit\", \"existing paid\", \"existing paid\", \"existing paid\", \"critical/other existing credit\", \"delayed previously\", \"critical/other existing credit\", \"existing paid\", \"delayed previously\", \"critical/other existing credit\", \"critical/other existing credit\", \"critical/other existing credit\", \"critical/other existing credit\", \"critical/other existing credit\", \"critical/other existing credit\", \"delayed previously\", \"all paid\", \"existing paid\", \"existing paid\", \"critical/other existing credit\", \"critical/other existing credit\", \"existing paid\", \"critical/other existing credit\", \"existing paid\", \"critical/other existing credit\", \"existing paid\", \"critical/other existing credit\", \"existing paid\", \"existing paid\", \"existing paid\", \"critical/other existing credit\", \"existing paid\", \"existing paid\", \"delayed previously\", \"existing paid\", \"existing paid\", \"critical/other existing credit\", \"existing paid\", \"existing paid\", \"existing paid\", \"delayed previously\", \"existing paid\", \"existing paid\", \"delayed previously\", \"existing paid\", \"existing paid\", \"critical/other existing credit\", \"critical/other existing credit\", \"critical/other existing credit\", \"existing paid\", \"existing paid\", \"critical/other existing credit\", \"critical/other existing credit\", \"existing paid\", \"critical/other existing credit\", \"critical/other existing credit\", \"existing paid\", \"critical/other existing credit\", \"critical/other existing credit\", \"critical/other existing credit\", \"existing paid\", \"existing paid\", \"critical/other existing credit\", \"delayed previously\", \"existing paid\", \"existing paid\", \"critical/other existing credit\", \"critical/other existing credit\", \"critical/other existing credit\", \"delayed previously\", \"delayed previously\", \"existing paid\", \"existing paid\", \"critical/other existing credit\", \"delayed previously\", \"existing paid\", \"existing paid\", \"existing paid\", \"all paid\", \"critical/other existing credit\", \"existing paid\", \"existing paid\", \"delayed previously\", \"existing paid\", \"existing paid\", \"critical/other existing credit\", \"existing paid\", \"existing paid\", \"existing paid\", \"existing paid\", \"existing paid\", \"existing paid\", \"critical/other existing credit\", \"critical/other existing credit\", \"existing paid\", \"existing paid\", \"existing paid\", \"critical/other existing credit\", \"existing paid\", \"critical/other existing credit\", \"existing paid\", \"delayed previously\", \"existing paid\", \"delayed previously\", \"existing paid\", \"existing paid\", \"existing paid\", \"critical/other existing credit\", \"delayed previously\", \"critical/other existing credit\", \"delayed previously\", \"existing paid\", \"existing paid\", \"existing paid\", \"existing paid\", \"no credits/all paid\", \"critical/other existing credit\", \"delayed previously\", \"existing paid\", \"critical/other existing credit\", \"critical/other existing credit\", \"existing paid\", \"existing paid\", \"critical/other existing credit\", \"critical/other existing credit\", \"existing paid\", \"existing paid\", \"existing paid\", \"existing paid\", \"existing paid\", \"critical/other existing credit\", \"existing paid\", \"critical/other existing credit\", \"critical/other existing credit\", \"critical/other existing credit\", \"existing paid\", \"existing paid\", \"existing paid\", \"existing paid\", \"critical/other existing credit\", \"critical/other existing credit\", \"existing paid\", \"existing paid\", \"existing paid\", \"delayed previously\", \"existing paid\", \"existing paid\", \"existing paid\", \"delayed previously\", \"critical/other existing credit\", \"existing paid\", \"delayed previously\", \"delayed previously\", \"existing paid\", \"existing paid\", \"all paid\", \"existing paid\", \"existing paid\", \"critical/other existing credit\", \"critical/other existing credit\", \"existing paid\", \"existing paid\", \"existing paid\", \"existing paid\", \"critical/other existing credit\", \"delayed previously\", \"existing paid\", \"existing paid\", \"critical/other existing credit\", \"existing paid\", \"critical/other existing credit\", \"critical/other existing credit\", \"critical/other existing credit\", \"critical/other existing credit\", \"existing paid\", \"no credits/all paid\", \"critical/other existing credit\", \"existing paid\", \"existing paid\"], \"xaxis\": \"x\", \"yaxis\": \"y\"}, {\"alignmentgroup\": \"True\", \"bingroup\": \"x\", \"hovertemplate\": \"class=bad<br>credit_history=%{x}<br>count=%{y}<extra></extra>\", \"legendgroup\": \"bad\", \"marker\": {\"color\": \"#EF553B\"}, \"name\": \"bad\", \"offsetgroup\": \"bad\", \"orientation\": \"v\", \"showlegend\": true, \"type\": \"histogram\", \"x\": [\"existing paid\", \"existing paid\", \"all paid\", \"existing paid\", \"all paid\", \"critical/other existing credit\", \"existing paid\", \"existing paid\", \"existing paid\", \"existing paid\", \"existing paid\", \"existing paid\", \"existing paid\", \"existing paid\", \"existing paid\", \"existing paid\", \"existing paid\", \"critical/other existing credit\", \"critical/other existing credit\", \"critical/other existing credit\", \"all paid\", \"delayed previously\", \"no credits/all paid\", \"existing paid\", \"critical/other existing credit\", \"existing paid\", \"existing paid\", \"existing paid\", \"no credits/all paid\", \"existing paid\", \"critical/other existing credit\", \"existing paid\", \"all paid\", \"existing paid\", \"no credits/all paid\", \"existing paid\", \"all paid\", \"delayed previously\", \"existing paid\", \"no credits/all paid\", \"delayed previously\", \"existing paid\", \"critical/other existing credit\", \"all paid\", \"existing paid\", \"existing paid\", \"existing paid\", \"existing paid\", \"critical/other existing credit\", \"existing paid\", \"delayed previously\", \"delayed previously\", \"existing paid\", \"existing paid\", \"existing paid\", \"existing paid\", \"existing paid\", \"existing paid\", \"existing paid\", \"existing paid\", \"all paid\", \"critical/other existing credit\", \"existing paid\", \"all paid\", \"existing paid\", \"existing paid\", \"critical/other existing credit\", \"critical/other existing credit\", \"existing paid\", \"no credits/all paid\", \"existing paid\", \"all paid\", \"existing paid\", \"critical/other existing credit\", \"existing paid\", \"all paid\", \"existing paid\", \"existing paid\", \"critical/other existing credit\", \"existing paid\", \"existing paid\", \"existing paid\", \"existing paid\", \"existing paid\", \"no credits/all paid\", \"critical/other existing credit\", \"existing paid\", \"existing paid\", \"existing paid\", \"existing paid\", \"existing paid\", \"no credits/all paid\", \"critical/other existing credit\", \"no credits/all paid\", \"delayed previously\", \"critical/other existing credit\", \"critical/other existing credit\", \"existing paid\", \"existing paid\", \"no credits/all paid\", \"existing paid\", \"delayed previously\", \"existing paid\", \"existing paid\", \"delayed previously\", \"existing paid\", \"critical/other existing credit\", \"existing paid\", \"existing paid\", \"existing paid\", \"existing paid\", \"existing paid\", \"existing paid\", \"existing paid\", \"critical/other existing credit\", \"existing paid\", \"all paid\", \"existing paid\", \"existing paid\", \"critical/other existing credit\", \"no credits/all paid\", \"existing paid\", \"delayed previously\", \"no credits/all paid\", \"no credits/all paid\", \"all paid\", \"existing paid\", \"existing paid\", \"existing paid\", \"existing paid\", \"existing paid\", \"all paid\", \"existing paid\", \"existing paid\", \"existing paid\", \"existing paid\", \"critical/other existing credit\", \"critical/other existing credit\", \"existing paid\", \"critical/other existing credit\", \"existing paid\", \"existing paid\", \"all paid\", \"all paid\", \"existing paid\", \"existing paid\", \"critical/other existing credit\", \"delayed previously\", \"existing paid\", \"all paid\", \"delayed previously\", \"existing paid\", \"no credits/all paid\", \"critical/other existing credit\", \"delayed previously\", \"existing paid\", \"existing paid\", \"no credits/all paid\", \"all paid\", \"all paid\", \"all paid\", \"no credits/all paid\", \"existing paid\", \"existing paid\", \"existing paid\", \"delayed previously\", \"critical/other existing credit\", \"critical/other existing credit\", \"existing paid\", \"all paid\", \"critical/other existing credit\", \"existing paid\", \"critical/other existing credit\", \"existing paid\", \"existing paid\", \"existing paid\", \"critical/other existing credit\", \"no credits/all paid\", \"all paid\", \"critical/other existing credit\", \"delayed previously\", \"existing paid\", \"existing paid\", \"existing paid\", \"delayed previously\", \"existing paid\", \"delayed previously\", \"critical/other existing credit\", \"critical/other existing credit\", \"critical/other existing credit\", \"existing paid\", \"existing paid\", \"no credits/all paid\", \"existing paid\", \"existing paid\", \"existing paid\", \"existing paid\", \"existing paid\", \"existing paid\", \"existing paid\", \"all paid\", \"existing paid\", \"delayed previously\", \"existing paid\", \"critical/other existing credit\", \"existing paid\", \"no credits/all paid\", \"existing paid\", \"no credits/all paid\", \"existing paid\", \"critical/other existing credit\", \"critical/other existing credit\", \"delayed previously\", \"existing paid\", \"existing paid\", \"existing paid\", \"existing paid\", \"existing paid\", \"existing paid\", \"critical/other existing credit\", \"no credits/all paid\", \"existing paid\", \"critical/other existing credit\", \"critical/other existing credit\", \"existing paid\", \"existing paid\", \"existing paid\", \"existing paid\", \"critical/other existing credit\", \"existing paid\", \"existing paid\", \"no credits/all paid\", \"existing paid\", \"critical/other existing credit\", \"delayed previously\", \"critical/other existing credit\", \"no credits/all paid\", \"critical/other existing credit\", \"existing paid\", \"existing paid\", \"critical/other existing credit\", \"no credits/all paid\", \"delayed previously\", \"delayed previously\", \"all paid\", \"existing paid\", \"existing paid\", \"critical/other existing credit\", \"existing paid\", \"existing paid\", \"existing paid\", \"existing paid\", \"existing paid\", \"critical/other existing credit\", \"all paid\", \"existing paid\", \"existing paid\", \"existing paid\", \"all paid\", \"existing paid\", \"existing paid\", \"existing paid\", \"existing paid\", \"critical/other existing credit\", \"all paid\", \"all paid\", \"delayed previously\", \"delayed previously\", \"delayed previously\", \"critical/other existing credit\"], \"xaxis\": \"x\", \"yaxis\": \"y\"}],                        {\"barmode\": \"relative\", \"legend\": {\"title\": {\"text\": \"class\"}, \"tracegroupgap\": 0}, \"margin\": {\"t\": 60}, \"template\": {\"data\": {\"bar\": [{\"error_x\": {\"color\": \"#2a3f5f\"}, \"error_y\": {\"color\": \"#2a3f5f\"}, \"marker\": {\"line\": {\"color\": \"#E5ECF6\", \"width\": 0.5}}, \"type\": \"bar\"}], \"barpolar\": [{\"marker\": {\"line\": {\"color\": \"#E5ECF6\", \"width\": 0.5}}, \"type\": \"barpolar\"}], \"carpet\": [{\"aaxis\": {\"endlinecolor\": \"#2a3f5f\", \"gridcolor\": \"white\", \"linecolor\": \"white\", \"minorgridcolor\": \"white\", \"startlinecolor\": \"#2a3f5f\"}, \"baxis\": {\"endlinecolor\": \"#2a3f5f\", \"gridcolor\": \"white\", \"linecolor\": \"white\", \"minorgridcolor\": \"white\", \"startlinecolor\": \"#2a3f5f\"}, \"type\": \"carpet\"}], \"choropleth\": [{\"colorbar\": {\"outlinewidth\": 0, \"ticks\": \"\"}, \"type\": \"choropleth\"}], \"contour\": [{\"colorbar\": {\"outlinewidth\": 0, \"ticks\": \"\"}, \"colorscale\": [[0.0, \"#0d0887\"], [0.1111111111111111, \"#46039f\"], [0.2222222222222222, \"#7201a8\"], [0.3333333333333333, \"#9c179e\"], [0.4444444444444444, \"#bd3786\"], [0.5555555555555556, \"#d8576b\"], [0.6666666666666666, \"#ed7953\"], [0.7777777777777778, \"#fb9f3a\"], [0.8888888888888888, \"#fdca26\"], [1.0, \"#f0f921\"]], \"type\": \"contour\"}], \"contourcarpet\": [{\"colorbar\": {\"outlinewidth\": 0, \"ticks\": \"\"}, \"type\": \"contourcarpet\"}], \"heatmap\": [{\"colorbar\": {\"outlinewidth\": 0, \"ticks\": \"\"}, \"colorscale\": [[0.0, \"#0d0887\"], [0.1111111111111111, \"#46039f\"], [0.2222222222222222, \"#7201a8\"], [0.3333333333333333, \"#9c179e\"], [0.4444444444444444, \"#bd3786\"], [0.5555555555555556, \"#d8576b\"], [0.6666666666666666, \"#ed7953\"], [0.7777777777777778, \"#fb9f3a\"], [0.8888888888888888, \"#fdca26\"], [1.0, \"#f0f921\"]], \"type\": \"heatmap\"}], \"heatmapgl\": [{\"colorbar\": {\"outlinewidth\": 0, \"ticks\": \"\"}, \"colorscale\": [[0.0, \"#0d0887\"], [0.1111111111111111, \"#46039f\"], [0.2222222222222222, \"#7201a8\"], [0.3333333333333333, \"#9c179e\"], [0.4444444444444444, \"#bd3786\"], [0.5555555555555556, \"#d8576b\"], [0.6666666666666666, \"#ed7953\"], [0.7777777777777778, \"#fb9f3a\"], [0.8888888888888888, \"#fdca26\"], [1.0, \"#f0f921\"]], \"type\": \"heatmapgl\"}], \"histogram\": [{\"marker\": {\"colorbar\": {\"outlinewidth\": 0, \"ticks\": \"\"}}, \"type\": \"histogram\"}], \"histogram2d\": [{\"colorbar\": {\"outlinewidth\": 0, \"ticks\": \"\"}, \"colorscale\": [[0.0, \"#0d0887\"], [0.1111111111111111, \"#46039f\"], [0.2222222222222222, \"#7201a8\"], [0.3333333333333333, \"#9c179e\"], [0.4444444444444444, \"#bd3786\"], [0.5555555555555556, \"#d8576b\"], [0.6666666666666666, \"#ed7953\"], [0.7777777777777778, \"#fb9f3a\"], [0.8888888888888888, \"#fdca26\"], [1.0, \"#f0f921\"]], \"type\": \"histogram2d\"}], \"histogram2dcontour\": [{\"colorbar\": {\"outlinewidth\": 0, \"ticks\": \"\"}, \"colorscale\": [[0.0, \"#0d0887\"], [0.1111111111111111, \"#46039f\"], [0.2222222222222222, \"#7201a8\"], [0.3333333333333333, \"#9c179e\"], [0.4444444444444444, \"#bd3786\"], [0.5555555555555556, \"#d8576b\"], [0.6666666666666666, \"#ed7953\"], [0.7777777777777778, \"#fb9f3a\"], [0.8888888888888888, \"#fdca26\"], [1.0, \"#f0f921\"]], \"type\": \"histogram2dcontour\"}], \"mesh3d\": [{\"colorbar\": {\"outlinewidth\": 0, \"ticks\": \"\"}, \"type\": \"mesh3d\"}], \"parcoords\": [{\"line\": {\"colorbar\": {\"outlinewidth\": 0, \"ticks\": \"\"}}, \"type\": \"parcoords\"}], \"pie\": [{\"automargin\": true, \"type\": \"pie\"}], \"scatter\": [{\"marker\": {\"colorbar\": {\"outlinewidth\": 0, \"ticks\": \"\"}}, \"type\": \"scatter\"}], \"scatter3d\": [{\"line\": {\"colorbar\": {\"outlinewidth\": 0, \"ticks\": \"\"}}, \"marker\": {\"colorbar\": {\"outlinewidth\": 0, \"ticks\": \"\"}}, \"type\": \"scatter3d\"}], \"scattercarpet\": [{\"marker\": {\"colorbar\": {\"outlinewidth\": 0, \"ticks\": \"\"}}, \"type\": \"scattercarpet\"}], \"scattergeo\": [{\"marker\": {\"colorbar\": {\"outlinewidth\": 0, \"ticks\": \"\"}}, \"type\": \"scattergeo\"}], \"scattergl\": [{\"marker\": {\"colorbar\": {\"outlinewidth\": 0, \"ticks\": \"\"}}, \"type\": \"scattergl\"}], \"scattermapbox\": [{\"marker\": {\"colorbar\": {\"outlinewidth\": 0, \"ticks\": \"\"}}, \"type\": \"scattermapbox\"}], \"scatterpolar\": [{\"marker\": {\"colorbar\": {\"outlinewidth\": 0, \"ticks\": \"\"}}, \"type\": \"scatterpolar\"}], \"scatterpolargl\": [{\"marker\": {\"colorbar\": {\"outlinewidth\": 0, \"ticks\": \"\"}}, \"type\": \"scatterpolargl\"}], \"scatterternary\": [{\"marker\": {\"colorbar\": {\"outlinewidth\": 0, \"ticks\": \"\"}}, \"type\": \"scatterternary\"}], \"surface\": [{\"colorbar\": {\"outlinewidth\": 0, \"ticks\": \"\"}, \"colorscale\": [[0.0, \"#0d0887\"], [0.1111111111111111, \"#46039f\"], [0.2222222222222222, \"#7201a8\"], [0.3333333333333333, \"#9c179e\"], [0.4444444444444444, \"#bd3786\"], [0.5555555555555556, \"#d8576b\"], [0.6666666666666666, \"#ed7953\"], [0.7777777777777778, \"#fb9f3a\"], [0.8888888888888888, \"#fdca26\"], [1.0, \"#f0f921\"]], \"type\": \"surface\"}], \"table\": [{\"cells\": {\"fill\": {\"color\": \"#EBF0F8\"}, \"line\": {\"color\": \"white\"}}, \"header\": {\"fill\": {\"color\": \"#C8D4E3\"}, \"line\": {\"color\": \"white\"}}, \"type\": \"table\"}]}, \"layout\": {\"annotationdefaults\": {\"arrowcolor\": \"#2a3f5f\", \"arrowhead\": 0, \"arrowwidth\": 1}, \"autotypenumbers\": \"strict\", \"coloraxis\": {\"colorbar\": {\"outlinewidth\": 0, \"ticks\": \"\"}}, \"colorscale\": {\"diverging\": [[0, \"#8e0152\"], [0.1, \"#c51b7d\"], [0.2, \"#de77ae\"], [0.3, \"#f1b6da\"], [0.4, \"#fde0ef\"], [0.5, \"#f7f7f7\"], [0.6, \"#e6f5d0\"], [0.7, \"#b8e186\"], [0.8, \"#7fbc41\"], [0.9, \"#4d9221\"], [1, \"#276419\"]], \"sequential\": [[0.0, \"#0d0887\"], [0.1111111111111111, \"#46039f\"], [0.2222222222222222, \"#7201a8\"], [0.3333333333333333, \"#9c179e\"], [0.4444444444444444, \"#bd3786\"], [0.5555555555555556, \"#d8576b\"], [0.6666666666666666, \"#ed7953\"], [0.7777777777777778, \"#fb9f3a\"], [0.8888888888888888, \"#fdca26\"], [1.0, \"#f0f921\"]], \"sequentialminus\": [[0.0, \"#0d0887\"], [0.1111111111111111, \"#46039f\"], [0.2222222222222222, \"#7201a8\"], [0.3333333333333333, \"#9c179e\"], [0.4444444444444444, \"#bd3786\"], [0.5555555555555556, \"#d8576b\"], [0.6666666666666666, \"#ed7953\"], [0.7777777777777778, \"#fb9f3a\"], [0.8888888888888888, \"#fdca26\"], [1.0, \"#f0f921\"]]}, \"colorway\": [\"#636efa\", \"#EF553B\", \"#00cc96\", \"#ab63fa\", \"#FFA15A\", \"#19d3f3\", \"#FF6692\", \"#B6E880\", \"#FF97FF\", \"#FECB52\"], \"font\": {\"color\": \"#2a3f5f\"}, \"geo\": {\"bgcolor\": \"white\", \"lakecolor\": \"white\", \"landcolor\": \"#E5ECF6\", \"showlakes\": true, \"showland\": true, \"subunitcolor\": \"white\"}, \"hoverlabel\": {\"align\": \"left\"}, \"hovermode\": \"closest\", \"mapbox\": {\"style\": \"light\"}, \"paper_bgcolor\": \"white\", \"plot_bgcolor\": \"#E5ECF6\", \"polar\": {\"angularaxis\": {\"gridcolor\": \"white\", \"linecolor\": \"white\", \"ticks\": \"\"}, \"bgcolor\": \"#E5ECF6\", \"radialaxis\": {\"gridcolor\": \"white\", \"linecolor\": \"white\", \"ticks\": \"\"}}, \"scene\": {\"xaxis\": {\"backgroundcolor\": \"#E5ECF6\", \"gridcolor\": \"white\", \"gridwidth\": 2, \"linecolor\": \"white\", \"showbackground\": true, \"ticks\": \"\", \"zerolinecolor\": \"white\"}, \"yaxis\": {\"backgroundcolor\": \"#E5ECF6\", \"gridcolor\": \"white\", \"gridwidth\": 2, \"linecolor\": \"white\", \"showbackground\": true, \"ticks\": \"\", \"zerolinecolor\": \"white\"}, \"zaxis\": {\"backgroundcolor\": \"#E5ECF6\", \"gridcolor\": \"white\", \"gridwidth\": 2, \"linecolor\": \"white\", \"showbackground\": true, \"ticks\": \"\", \"zerolinecolor\": \"white\"}}, \"shapedefaults\": {\"line\": {\"color\": \"#2a3f5f\"}}, \"ternary\": {\"aaxis\": {\"gridcolor\": \"white\", \"linecolor\": \"white\", \"ticks\": \"\"}, \"baxis\": {\"gridcolor\": \"white\", \"linecolor\": \"white\", \"ticks\": \"\"}, \"bgcolor\": \"#E5ECF6\", \"caxis\": {\"gridcolor\": \"white\", \"linecolor\": \"white\", \"ticks\": \"\"}}, \"title\": {\"x\": 0.05}, \"xaxis\": {\"automargin\": true, \"gridcolor\": \"white\", \"linecolor\": \"white\", \"ticks\": \"\", \"title\": {\"standoff\": 15}, \"zerolinecolor\": \"white\", \"zerolinewidth\": 2}, \"yaxis\": {\"automargin\": true, \"gridcolor\": \"white\", \"linecolor\": \"white\", \"ticks\": \"\", \"title\": {\"standoff\": 15}, \"zerolinecolor\": \"white\", \"zerolinewidth\": 2}}}, \"title\": {\"text\": \" Hist\\u00f3ria de Cr\\u00e9dito\", \"x\": 0.5, \"xanchor\": \"center\", \"y\": 0.95, \"yanchor\": \"top\"}, \"xaxis\": {\"anchor\": \"y\", \"domain\": [0.0, 1.0], \"title\": {\"text\": \"credit_history\"}}, \"yaxis\": {\"anchor\": \"x\", \"domain\": [0.0, 1.0], \"title\": {\"text\": \"count\"}}},                        {\"responsive\": true}                    ).then(function(){\n",
       "                            \n",
       "var gd = document.getElementById('ae521182-ee33-46f4-b515-cbea5e1b264f');\n",
       "var x = new MutationObserver(function (mutations, observer) {{\n",
       "        var display = window.getComputedStyle(gd).display;\n",
       "        if (!display || display === 'none') {{\n",
       "            console.log([gd, 'removed!']);\n",
       "            Plotly.purge(gd);\n",
       "            observer.disconnect();\n",
       "        }}\n",
       "}});\n",
       "\n",
       "// Listen for the removal of the full notebook cells\n",
       "var notebookContainer = gd.closest('#notebook-container');\n",
       "if (notebookContainer) {{\n",
       "    x.observe(notebookContainer, {childList: true});\n",
       "}}\n",
       "\n",
       "// Listen for the clearing of the current output cell\n",
       "var outputEl = gd.closest('.output');\n",
       "if (outputEl) {{\n",
       "    x.observe(outputEl, {childList: true});\n",
       "}}\n",
       "\n",
       "                        })                };                });            </script>        </div>"
      ]
     },
     "metadata": {},
     "output_type": "display_data"
    }
   ],
   "source": [
    "fig = px.histogram(base, x=\"credit_history\", color=\"class\")\n",
    "fig.update_layout(\n",
    "    title={\n",
    "          'text':\" História de Crédito\",\n",
    "        'y':.95,\n",
    "        'x':.5,\n",
    "        'xanchor': 'center',\n",
    "        'yanchor': 'top'\n",
    "    }  \n",
    ")\n",
    "fig.show()"
   ]
  },
  {
   "cell_type": "markdown",
   "id": "driven-lemon",
   "metadata": {},
   "source": [
    "# Pré Processamento"
   ]
  },
  {
   "cell_type": "code",
   "execution_count": 72,
   "id": "verified-julian",
   "metadata": {},
   "outputs": [],
   "source": [
    "def categoriza_razao(razao):\n",
    "    if razao >= 40:\n",
    "        return 'Grande'\n",
    "    elif razao >= 15:\n",
    "        return 'Média'\n",
    "    else:\n",
    "        return 'Pequena'"
   ]
  },
  {
   "cell_type": "code",
   "execution_count": null,
   "id": "painful-commercial",
   "metadata": {},
   "outputs": [],
   "source": []
  }
 ],
 "metadata": {
  "kernelspec": {
   "display_name": "Python 3",
   "language": "python",
   "name": "python3"
  },
  "language_info": {
   "codemirror_mode": {
    "name": "ipython",
    "version": 3
   },
   "file_extension": ".py",
   "mimetype": "text/x-python",
   "name": "python",
   "nbconvert_exporter": "python",
   "pygments_lexer": "ipython3",
   "version": "3.8.5"
  }
 },
 "nbformat": 4,
 "nbformat_minor": 5
}
